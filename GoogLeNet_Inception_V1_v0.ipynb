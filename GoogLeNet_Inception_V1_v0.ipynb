{
  "nbformat": 4,
  "nbformat_minor": 0,
  "metadata": {
    "kernelspec": {
      "display_name": "tensorflow",
      "language": "python",
      "name": "tensorflow"
    },
    "language_info": {
      "codemirror_mode": {
        "name": "ipython",
        "version": 3
      },
      "file_extension": ".py",
      "mimetype": "text/x-python",
      "name": "python",
      "nbconvert_exporter": "python",
      "pygments_lexer": "ipython3",
      "version": "3.6.8"
    },
    "colab": {
      "name": "GoogLeNet_Inception_V1_v0.ipynb",
      "provenance": [],
      "collapsed_sections": [
        "sN8v1O2o9pR6",
        "jl9y93KxCW57",
        "KZusnPJ1cvs3",
        "6vsl1Y-mfN6c",
        "IPXGZPm7fT-s"
      ]
    },
    "accelerator": "GPU"
  },
  "cells": [
    {
      "cell_type": "code",
      "metadata": {
        "id": "2o-cjgpu9pFc",
        "colab_type": "code",
        "outputId": "791c73f5-d7f6-45d3-9b4c-be0d51b02c2f",
        "colab": {
          "base_uri": "https://localhost:8080/",
          "height": 35
        }
      },
      "source": [
        "import os\n",
        "from google.colab import drive\n",
        "import numpy as np\n",
        "import matplotlib.pyplot as plt\n",
        "import time\n",
        "\n",
        "from sklearn import preprocessing\n",
        "from sklearn.model_selection import train_test_split\n",
        "from keras.utils import to_categorical\n",
        "import keras\n",
        "from tensorflow.keras.models import Sequential\n",
        "from tensorflow.keras import models, layers, optimizers, utils"
      ],
      "execution_count": 1,
      "outputs": [
        {
          "output_type": "stream",
          "text": [
            "Using TensorFlow backend.\n"
          ],
          "name": "stderr"
        }
      ]
    },
    {
      "cell_type": "code",
      "metadata": {
        "id": "NKJeyDCo9xfI",
        "colab_type": "code",
        "outputId": "17a5cfd5-7d99-4c56-fb66-33119ca34b5f",
        "colab": {
          "base_uri": "https://localhost:8080/",
          "height": 129
        }
      },
      "source": [
        "drive.mount('/content/drive')"
      ],
      "execution_count": 2,
      "outputs": [
        {
          "output_type": "stream",
          "text": [
            "Go to this URL in a browser: https://accounts.google.com/o/oauth2/auth?client_id=947318989803-6bn6qk8qdgf4n4g3pfee6491hc0brc4i.apps.googleusercontent.com&redirect_uri=urn%3aietf%3awg%3aoauth%3a2.0%3aoob&response_type=code&scope=email%20https%3a%2f%2fwww.googleapis.com%2fauth%2fdocs.test%20https%3a%2f%2fwww.googleapis.com%2fauth%2fdrive%20https%3a%2f%2fwww.googleapis.com%2fauth%2fdrive.photos.readonly%20https%3a%2f%2fwww.googleapis.com%2fauth%2fpeopleapi.readonly\n",
            "\n",
            "Enter your authorization code:\n",
            "··········\n",
            "Mounted at /content/drive\n"
          ],
          "name": "stdout"
        }
      ]
    },
    {
      "cell_type": "code",
      "metadata": {
        "id": "oJNGgUP09pGf",
        "colab_type": "code",
        "colab": {}
      },
      "source": [
        "binary_flder = '/content/drive/Shared drives/DS8013/Data/Binary/'"
      ],
      "execution_count": 0,
      "outputs": []
    },
    {
      "cell_type": "code",
      "metadata": {
        "id": "Xq3dv93g9pH9",
        "colab_type": "code",
        "colab": {}
      },
      "source": [
        "X = np.load(binary_flder + 'X.npy')\n",
        "y = np.load(binary_flder + 'y.npy')\n",
        "y_onehot = np.load(binary_flder + 'y_onehot.npy')"
      ],
      "execution_count": 0,
      "outputs": []
    },
    {
      "cell_type": "code",
      "metadata": {
        "id": "1KDQowjD9pIX",
        "colab_type": "code",
        "outputId": "0f44af76-1956-4ed8-eda6-26a9b67ee581",
        "colab": {
          "base_uri": "https://localhost:8080/",
          "height": 35
        }
      },
      "source": [
        "X.shape"
      ],
      "execution_count": 24,
      "outputs": [
        {
          "output_type": "execute_result",
          "data": {
            "text/plain": [
              "(27000, 64, 64, 3)"
            ]
          },
          "metadata": {
            "tags": []
          },
          "execution_count": 24
        }
      ]
    },
    {
      "cell_type": "code",
      "metadata": {
        "id": "Y6vj2u2q9pJX",
        "colab_type": "code",
        "outputId": "357d1939-0a71-41f6-ff94-bff50254f95b",
        "colab": {
          "base_uri": "https://localhost:8080/",
          "height": 35
        }
      },
      "source": [
        "y.shape"
      ],
      "execution_count": 25,
      "outputs": [
        {
          "output_type": "execute_result",
          "data": {
            "text/plain": [
              "(27000,)"
            ]
          },
          "metadata": {
            "tags": []
          },
          "execution_count": 25
        }
      ]
    },
    {
      "cell_type": "code",
      "metadata": {
        "id": "m7PVuH_B9pJ5",
        "colab_type": "code",
        "outputId": "129d7d46-8c48-4697-c944-ae8f17097f30",
        "colab": {
          "base_uri": "https://localhost:8080/",
          "height": 54
        }
      },
      "source": [
        "y"
      ],
      "execution_count": 0,
      "outputs": [
        {
          "output_type": "execute_result",
          "data": {
            "text/plain": [
              "array(['Highway', 'Highway', 'Highway', ..., 'PermanentCrop',\n",
              "       'PermanentCrop', 'PermanentCrop'], dtype='<U20')"
            ]
          },
          "metadata": {
            "tags": []
          },
          "execution_count": 85
        }
      ]
    },
    {
      "cell_type": "code",
      "metadata": {
        "id": "nowAo1yK9pLP",
        "colab_type": "code",
        "outputId": "2a12a774-df5e-4a44-94b0-3ce0a72804a5",
        "colab": {
          "base_uri": "https://localhost:8080/",
          "height": 35
        }
      },
      "source": [
        "y_onehot.shape"
      ],
      "execution_count": 0,
      "outputs": [
        {
          "output_type": "execute_result",
          "data": {
            "text/plain": [
              "(27000, 10)"
            ]
          },
          "metadata": {
            "tags": []
          },
          "execution_count": 86
        }
      ]
    },
    {
      "cell_type": "code",
      "metadata": {
        "id": "w9JCwxVs9pL7",
        "colab_type": "code",
        "colab": {}
      },
      "source": [
        "unique_elements, counts_elements = np.unique(y, return_counts=True)"
      ],
      "execution_count": 0,
      "outputs": []
    },
    {
      "cell_type": "code",
      "metadata": {
        "id": "HJLJsYlw9pMG",
        "colab_type": "code",
        "outputId": "40e6969b-9469-431b-e095-84408080e74c",
        "colab": {
          "base_uri": "https://localhost:8080/",
          "height": 72
        }
      },
      "source": [
        "unique_elements"
      ],
      "execution_count": 0,
      "outputs": [
        {
          "output_type": "execute_result",
          "data": {
            "text/plain": [
              "array(['AnnualCrop', 'Forest', 'HerbaceousVegetation', 'Highway',\n",
              "       'Industrial', 'Pasture', 'PermanentCrop', 'Residential', 'River',\n",
              "       'SeaLake'], dtype='<U20')"
            ]
          },
          "metadata": {
            "tags": []
          },
          "execution_count": 11
        }
      ]
    },
    {
      "cell_type": "code",
      "metadata": {
        "id": "2pl3uuhi9pMe",
        "colab_type": "code",
        "outputId": "0dbc1028-d26e-436d-d4b2-41f2fc3b578b",
        "colab": {
          "base_uri": "https://localhost:8080/",
          "height": 35
        }
      },
      "source": [
        "counts_elements"
      ],
      "execution_count": 0,
      "outputs": [
        {
          "output_type": "execute_result",
          "data": {
            "text/plain": [
              "array([3000, 3000, 3000, 2500, 2500, 2000, 2500, 3000, 2500, 3000])"
            ]
          },
          "metadata": {
            "tags": []
          },
          "execution_count": 12
        }
      ]
    },
    {
      "cell_type": "code",
      "metadata": {
        "id": "vrnRaNkq9pMs",
        "colab_type": "code",
        "outputId": "f39fe653-8301-40e7-9ce1-daff5d782846",
        "colab": {
          "base_uri": "https://localhost:8080/",
          "height": 201
        }
      },
      "source": [
        "(list(zip(unique_elements, counts_elements)))"
      ],
      "execution_count": 0,
      "outputs": [
        {
          "output_type": "execute_result",
          "data": {
            "text/plain": [
              "[('AnnualCrop', 3000),\n",
              " ('Forest', 3000),\n",
              " ('HerbaceousVegetation', 3000),\n",
              " ('Highway', 2500),\n",
              " ('Industrial', 2500),\n",
              " ('Pasture', 2000),\n",
              " ('PermanentCrop', 2500),\n",
              " ('Residential', 3000),\n",
              " ('River', 2500),\n",
              " ('SeaLake', 3000)]"
            ]
          },
          "metadata": {
            "tags": []
          },
          "execution_count": 13
        }
      ]
    },
    {
      "cell_type": "code",
      "metadata": {
        "id": "OXPgdCLP9pNF",
        "colab_type": "code",
        "outputId": "e921b7bd-be23-450d-d41c-2b4e0b8fc454",
        "colab": {
          "base_uri": "https://localhost:8080/",
          "height": 146
        }
      },
      "source": [
        "y_onehot"
      ],
      "execution_count": 0,
      "outputs": [
        {
          "output_type": "execute_result",
          "data": {
            "text/plain": [
              "array([[0., 0., 0., ..., 0., 0., 0.],\n",
              "       [0., 0., 0., ..., 0., 0., 0.],\n",
              "       [0., 0., 0., ..., 0., 0., 0.],\n",
              "       ...,\n",
              "       [0., 0., 0., ..., 0., 0., 0.],\n",
              "       [0., 0., 0., ..., 0., 0., 0.],\n",
              "       [0., 0., 0., ..., 0., 0., 0.]], dtype=float32)"
            ]
          },
          "metadata": {
            "tags": []
          },
          "execution_count": 14
        }
      ]
    },
    {
      "cell_type": "code",
      "metadata": {
        "id": "Co9uS6hr9pNY",
        "colab_type": "code",
        "colab": {}
      },
      "source": [
        "# split data set into test and training using 80/20 split\n",
        "X_train, X_test, y_train, y_test = train_test_split(X,y_onehot,test_size = 0.2, random_state = 197)"
      ],
      "execution_count": 0,
      "outputs": []
    },
    {
      "cell_type": "code",
      "metadata": {
        "id": "h5uzTtgn9pNm",
        "colab_type": "code",
        "outputId": "6beaff69-e8b1-4740-aa64-b6ef30b0ee95",
        "colab": {
          "base_uri": "https://localhost:8080/",
          "height": 90
        }
      },
      "source": [
        "print('X_train:',X_train.shape)\n",
        "print('X_test:',X_test.shape)\n",
        "print('y_train:',y_train.shape)\n",
        "print('y_test:',y_test.shape)"
      ],
      "execution_count": 0,
      "outputs": [
        {
          "output_type": "stream",
          "text": [
            "X_train: (21600, 64, 64, 3)\n",
            "X_test: (5400, 64, 64, 3)\n",
            "y_train: (21600, 10)\n",
            "y_test: (5400, 10)\n"
          ],
          "name": "stdout"
        }
      ]
    },
    {
      "cell_type": "markdown",
      "metadata": {
        "id": "msDhkv_Z9pN8",
        "colab_type": "text"
      },
      "source": [
        "## GoogLeNet or Inception v1"
      ]
    },
    {
      "cell_type": "code",
      "metadata": {
        "id": "56N3hJpm9pN_",
        "colab_type": "code",
        "colab": {}
      },
      "source": [
        "import keras\n",
        "from keras.layers import Dense, Conv2D, BatchNormalization, Activation\n",
        "from keras.layers import AveragePooling2D, Input, Flatten\n",
        "from keras.layers import MaxPooling2D\n",
        "from tensorflow.keras.layers import Concatenate\n",
        "from keras.layers.merge import concatenate\n",
        "from keras.optimizers import Adam\n",
        "from keras.regularizers import l2\n",
        "from keras.models import Model\n",
        "from keras.optimizers import RMSprop,Adam\n",
        "from keras.optimizers import SGD\n",
        "import numpy as np"
      ],
      "execution_count": 0,
      "outputs": []
    },
    {
      "cell_type": "code",
      "metadata": {
        "id": "fK-IM5iT9pON",
        "colab_type": "code",
        "colab": {}
      },
      "source": [
        "# reshape to be [samples][width][height][channels]\n",
        "x_train = X_train.reshape((X_train.shape[0], 64, 64, 3)).astype('float32')\n",
        "x_test = X_test.reshape((X_test.shape[0], 64, 64, 3)).astype('float32')"
      ],
      "execution_count": 0,
      "outputs": []
    },
    {
      "cell_type": "code",
      "metadata": {
        "id": "UsZ2DRMr9pPQ",
        "colab_type": "code",
        "outputId": "9d066bb3-6a89-4fdc-fc33-d988446c1151",
        "colab": {
          "base_uri": "https://localhost:8080/",
          "height": 35
        }
      },
      "source": [
        "x_train.shape, x_test.shape"
      ],
      "execution_count": 29,
      "outputs": [
        {
          "output_type": "execute_result",
          "data": {
            "text/plain": [
              "((21600, 64, 64, 3), (5400, 64, 64, 3))"
            ]
          },
          "metadata": {
            "tags": []
          },
          "execution_count": 29
        }
      ]
    },
    {
      "cell_type": "code",
      "metadata": {
        "id": "vmi_Pydn9pPe",
        "colab_type": "code",
        "colab": {}
      },
      "source": [
        "# normalize inputs from 0-255 to 0-1\n",
        "x_train = x_train / 255\n",
        "x_test = x_test / 255"
      ],
      "execution_count": 0,
      "outputs": []
    },
    {
      "cell_type": "code",
      "metadata": {
        "id": "mApUUgV-9pPn",
        "colab_type": "code",
        "colab": {}
      },
      "source": [
        "def inception_module(inputs):\n",
        "    \n",
        "    conv1 = MaxPooling2D((3,3), strides=(1,1), padding='same')(inputs)\n",
        "    conv1 = Conv2D(6, (1,1), activation='relu', border_mode='same')(conv1)\n",
        "\n",
        "    conv3 = Conv2D(6, (1,1), activation='relu', border_mode='same')(inputs)\n",
        "    conv3 = Conv2D(6, (3,3), activation='relu', border_mode='same')(conv3)\n",
        "\n",
        "    conv5 = Conv2D(6, (1,1), activation='relu', border_mode='same')(inputs)\n",
        "    conv5 = Conv2D(6, (5,5), activation='relu', border_mode='same')(conv5)\n",
        "    \n",
        "    x = concatenate([conv1, conv3, conv5], axis=3)\n",
        "    return x"
      ],
      "execution_count": 0,
      "outputs": []
    },
    {
      "cell_type": "code",
      "metadata": {
        "id": "_L36CmmK9pQT",
        "colab_type": "code",
        "outputId": "8a6787d1-972e-4ea5-9703-f8dd1f40fb68",
        "colab": {
          "base_uri": "https://localhost:8080/",
          "height": 864
        }
      },
      "source": [
        "inputs = Input(x_train.shape[1:])\n",
        "\n",
        "x = inception_module(inputs)\n",
        "x = Flatten()(x)\n",
        "x = Dense(64, activation='relu')(x)\n",
        "predictions = Dense(10, activation='softmax')(x)\n",
        "\n",
        "model_incep = Model(input=inputs, output=predictions)\n",
        "print (model_incep.summary())"
      ],
      "execution_count": 0,
      "outputs": [
        {
          "output_type": "stream",
          "text": [
            "Model: \"model_2\"\n",
            "__________________________________________________________________________________________________\n",
            "Layer (type)                    Output Shape         Param #     Connected to                     \n",
            "==================================================================================================\n",
            "input_4 (InputLayer)            (None, 64, 64, 3)    0                                            \n",
            "__________________________________________________________________________________________________\n",
            "max_pooling2d_3 (MaxPooling2D)  (None, 64, 64, 3)    0           input_4[0][0]                    \n",
            "__________________________________________________________________________________________________\n",
            "conv2d_12 (Conv2D)              (None, 64, 64, 6)    24          input_4[0][0]                    \n",
            "__________________________________________________________________________________________________\n",
            "conv2d_14 (Conv2D)              (None, 64, 64, 6)    24          input_4[0][0]                    \n",
            "__________________________________________________________________________________________________\n",
            "conv2d_11 (Conv2D)              (None, 64, 64, 6)    24          max_pooling2d_3[0][0]            \n",
            "__________________________________________________________________________________________________\n",
            "conv2d_13 (Conv2D)              (None, 64, 64, 6)    330         conv2d_12[0][0]                  \n",
            "__________________________________________________________________________________________________\n",
            "conv2d_15 (Conv2D)              (None, 64, 64, 6)    906         conv2d_14[0][0]                  \n",
            "__________________________________________________________________________________________________\n",
            "concatenate_2 (Concatenate)     (None, 64, 64, 18)   0           conv2d_11[0][0]                  \n",
            "                                                                 conv2d_13[0][0]                  \n",
            "                                                                 conv2d_15[0][0]                  \n",
            "__________________________________________________________________________________________________\n",
            "flatten_2 (Flatten)             (None, 73728)        0           concatenate_2[0][0]              \n",
            "__________________________________________________________________________________________________\n",
            "dense_3 (Dense)                 (None, 64)           4718656     flatten_2[0][0]                  \n",
            "__________________________________________________________________________________________________\n",
            "dense_4 (Dense)                 (None, 10)           650         dense_3[0][0]                    \n",
            "==================================================================================================\n",
            "Total params: 4,720,614\n",
            "Trainable params: 4,720,614\n",
            "Non-trainable params: 0\n",
            "__________________________________________________________________________________________________\n",
            "None\n"
          ],
          "name": "stdout"
        },
        {
          "output_type": "stream",
          "text": [
            "/usr/local/lib/python3.6/dist-packages/ipykernel_launcher.py:4: UserWarning: Update your `Conv2D` call to the Keras 2 API: `Conv2D(6, (1, 1), activation=\"relu\", padding=\"same\")`\n",
            "  after removing the cwd from sys.path.\n",
            "/usr/local/lib/python3.6/dist-packages/ipykernel_launcher.py:6: UserWarning: Update your `Conv2D` call to the Keras 2 API: `Conv2D(6, (1, 1), activation=\"relu\", padding=\"same\")`\n",
            "  \n",
            "/usr/local/lib/python3.6/dist-packages/ipykernel_launcher.py:7: UserWarning: Update your `Conv2D` call to the Keras 2 API: `Conv2D(6, (3, 3), activation=\"relu\", padding=\"same\")`\n",
            "  import sys\n",
            "/usr/local/lib/python3.6/dist-packages/ipykernel_launcher.py:9: UserWarning: Update your `Conv2D` call to the Keras 2 API: `Conv2D(6, (1, 1), activation=\"relu\", padding=\"same\")`\n",
            "  if __name__ == '__main__':\n",
            "/usr/local/lib/python3.6/dist-packages/ipykernel_launcher.py:10: UserWarning: Update your `Conv2D` call to the Keras 2 API: `Conv2D(6, (5, 5), activation=\"relu\", padding=\"same\")`\n",
            "  # Remove the CWD from sys.path while we load stuff.\n",
            "/usr/local/lib/python3.6/dist-packages/ipykernel_launcher.py:8: UserWarning: Update your `Model` call to the Keras 2 API: `Model(inputs=Tensor(\"in..., outputs=Tensor(\"de...)`\n",
            "  \n"
          ],
          "name": "stderr"
        }
      ]
    },
    {
      "cell_type": "code",
      "metadata": {
        "id": "dcJv3ZaU9pQh",
        "colab_type": "code",
        "colab": {}
      },
      "source": [
        "print (model_incep.summary())"
      ],
      "execution_count": 0,
      "outputs": []
    },
    {
      "cell_type": "code",
      "metadata": {
        "id": "6DZ-6J699pRJ",
        "colab_type": "code",
        "colab": {}
      },
      "source": [
        "# Compile model\n",
        "opt = SGD(lr=0.01, momentum=0.9)\n",
        "model_incep.compile(optimizer=opt, loss='categorical_crossentropy', metrics=['accuracy'])"
      ],
      "execution_count": 0,
      "outputs": []
    },
    {
      "cell_type": "code",
      "metadata": {
        "id": "YAo5F7uf9pRW",
        "colab_type": "code",
        "outputId": "cfa3a068-ec0e-4f94-ab9b-36980fdf3d1b",
        "colab": {
          "base_uri": "https://localhost:8080/",
          "height": 403
        }
      },
      "source": [
        "# Fit the model\n",
        "hist_inception = model_incep.fit(x_train, y_train, validation_data=(x_test, y_test), \n",
        "                                     epochs=10, batch_size=32, verbose=2)"
      ],
      "execution_count": 0,
      "outputs": [
        {
          "output_type": "stream",
          "text": [
            "Train on 21600 samples, validate on 5400 samples\n",
            "Epoch 1/10\n",
            " - 12s - loss: 1.7929 - accuracy: 0.2976 - val_loss: 1.5514 - val_accuracy: 0.3656\n",
            "Epoch 2/10\n",
            " - 5s - loss: 1.5414 - accuracy: 0.4217 - val_loss: 1.3990 - val_accuracy: 0.4422\n",
            "Epoch 3/10\n",
            " - 5s - loss: 1.3846 - accuracy: 0.4796 - val_loss: 1.2631 - val_accuracy: 0.5039\n",
            "Epoch 4/10\n",
            " - 5s - loss: 1.2383 - accuracy: 0.5394 - val_loss: 1.2848 - val_accuracy: 0.5609\n",
            "Epoch 5/10\n",
            " - 5s - loss: 1.2086 - accuracy: 0.5571 - val_loss: 1.3071 - val_accuracy: 0.5159\n",
            "Epoch 6/10\n",
            " - 5s - loss: 1.2081 - accuracy: 0.5633 - val_loss: 1.2993 - val_accuracy: 0.5187\n",
            "Epoch 7/10\n",
            " - 5s - loss: 1.0700 - accuracy: 0.6130 - val_loss: 1.0881 - val_accuracy: 0.5902\n",
            "Epoch 8/10\n",
            " - 5s - loss: 0.9373 - accuracy: 0.6597 - val_loss: 1.0670 - val_accuracy: 0.6304\n",
            "Epoch 9/10\n",
            " - 5s - loss: 0.8676 - accuracy: 0.6849 - val_loss: 1.0649 - val_accuracy: 0.6485\n",
            "Epoch 10/10\n",
            " - 5s - loss: 0.7662 - accuracy: 0.7243 - val_loss: 1.0308 - val_accuracy: 0.6544\n"
          ],
          "name": "stdout"
        }
      ]
    },
    {
      "cell_type": "code",
      "metadata": {
        "id": "xmy6HLld9pRr",
        "colab_type": "code",
        "outputId": "a4e9007e-0105-42da-c0ac-29a9f59bdc6e",
        "colab": {
          "base_uri": "https://localhost:8080/",
          "height": 72
        }
      },
      "source": [
        "# Evaluation of the model\n",
        "scores = model_incep.evaluate(x_test, y_test, verbose=1)\n",
        "print('Loss: ', scores[0],'\\nAccuracy: ', scores[1]*100)"
      ],
      "execution_count": 0,
      "outputs": [
        {
          "output_type": "stream",
          "text": [
            "5400/5400 [==============================] - 1s 129us/step\n",
            "Loss:  1.0308016843265957 \n",
            "Accuracy:  65.44444561004639\n"
          ],
          "name": "stdout"
        }
      ]
    },
    {
      "cell_type": "code",
      "metadata": {
        "id": "xRY29vNh9pRz",
        "colab_type": "code",
        "outputId": "1d4c962d-e0c5-4b3e-ec22-cb532c0d23d8",
        "colab": {
          "base_uri": "https://localhost:8080/",
          "height": 295
        }
      },
      "source": [
        "# Plot training & validation loss values\n",
        "import matplotlib.pyplot as plt\n",
        "\n",
        "plt.plot(hist_inception.history['accuracy'],marker = 'o')\n",
        "plt.plot(hist_inception.history['val_accuracy'], marker = 'o')\n",
        "plt.title('Model Accuracy per Epoch')\n",
        "plt.ylabel('Accuracy')\n",
        "plt.xlabel('Epoch')\n",
        "plt.legend(['Train', 'Test'], loc='best')\n",
        "plt.show()"
      ],
      "execution_count": 0,
      "outputs": [
        {
          "output_type": "display_data",
          "data": {
            "image/png": "[encoded data removed]",
            "text/plain": [
              "<Figure size 432x288 with 1 Axes>"
            ]
          },
          "metadata": {
            "tags": [],
            "needs_background": "light"
          }
        }
      ]
    },
    {
      "cell_type": "code",
      "metadata": {
        "id": "nbfVywN_Mr5f",
        "colab_type": "code",
        "outputId": "09e6a87b-57c6-4034-fdae-b229e40ff6dd",
        "colab": {
          "base_uri": "https://localhost:8080/",
          "height": 295
        }
      },
      "source": [
        "plt.plot(hist_inception.history['loss'],marker = 'o')\n",
        "plt.plot(hist_inception.history['val_loss'], marker = 'o')\n",
        "plt.title('Model Loss per Epoch')\n",
        "plt.ylabel('Loss')\n",
        "plt.xlabel('Epoch')\n",
        "plt.legend(['Train', 'Test'], loc='best')\n",
        "plt.show()"
      ],
      "execution_count": 0,
      "outputs": [
        {
          "output_type": "display_data",
          "data": {
            "image/png": "[encoded data removed]",
            "text/plain": [
              "<Figure size 432x288 with 1 Axes>"
            ]
          },
          "metadata": {
            "tags": [],
            "needs_background": "light"
          }
        }
      ]
    },
    {
      "cell_type": "markdown",
      "metadata": {
        "id": "sN8v1O2o9pR6",
        "colab_type": "text"
      },
      "source": [
        "## For better performance"
      ]
    },
    {
      "cell_type": "code",
      "metadata": {
        "id": "qf3dvBZd9pR8",
        "colab_type": "code",
        "colab": {}
      },
      "source": [
        "def inception_module1(layer_in, f1, f2_in, f2_out, f3_in, f3_out, f4_out):\n",
        " \n",
        "    conv1 = Conv2D(f1, (1,1), padding='same', activation='relu')(layer_in)\n",
        "\n",
        "    conv3 = Conv2D(f2_in, (1,1), padding='same', activation='relu')(layer_in)\n",
        "    conv3 = Conv2D(f2_out, (3,3), padding='same', activation='relu')(conv3)\n",
        "    \n",
        "    conv5 = Conv2D(f3_in, (1,1), padding='same', activation='relu')(layer_in)\n",
        "    conv5 = Conv2D(f3_out, (5,5), padding='same', activation='relu')(conv5)\n",
        "    \n",
        "    pool = MaxPooling2D((3,3), strides=(1,1), padding='same')(layer_in)\n",
        "    pool = Conv2D(f4_out, (1,1), padding='same', activation='relu')(pool)\n",
        "    \n",
        "    layer_out = concatenate([conv1, conv3, conv5, pool], axis=-1)\n",
        "    return layer_out"
      ],
      "execution_count": 0,
      "outputs": []
    },
    {
      "cell_type": "code",
      "metadata": {
        "id": "_qouHRl_9pSq",
        "colab_type": "code",
        "outputId": "47d1fd2b-9bab-4ea8-d1a3-bf6ddcc28e4d",
        "colab": {
          "base_uri": "https://localhost:8080/",
          "height": 715
        }
      },
      "source": [
        "# define model input\n",
        "visible = Input(x_train.shape[1:])\n",
        "layer = inception_module1(visible, 128, 128, 192, 32, 96, 64)\n",
        "x = AveragePooling2D()(layer)\n",
        "x = Flatten()(x)\n",
        "x = Dense(64, activation='relu')(x)\n",
        "outputs = Dense(10, activation='softmax')(x)\n",
        "# create model\n",
        "model_inception = Model(inputs=visible, outputs=outputs)\n",
        "# summarize model\n",
        "print (model_inception.summary())"
      ],
      "execution_count": 0,
      "outputs": [
        {
          "output_type": "stream",
          "text": [
            "Model: \"model_3\"\n",
            "__________________________________________________________________________________________________\n",
            "Layer (type)                    Output Shape         Param #     Connected to                     \n",
            "==================================================================================================\n",
            "input_3 (InputLayer)            (None, 64, 64, 3)    0                                            \n",
            "__________________________________________________________________________________________________\n",
            "conv2d_14 (Conv2D)              (None, 64, 64, 128)  512         input_3[0][0]                    \n",
            "__________________________________________________________________________________________________\n",
            "conv2d_16 (Conv2D)              (None, 64, 64, 32)   128         input_3[0][0]                    \n",
            "__________________________________________________________________________________________________\n",
            "max_pooling2d_3 (MaxPooling2D)  (None, 64, 64, 3)    0           input_3[0][0]                    \n",
            "__________________________________________________________________________________________________\n",
            "conv2d_13 (Conv2D)              (None, 64, 64, 128)  512         input_3[0][0]                    \n",
            "__________________________________________________________________________________________________\n",
            "conv2d_15 (Conv2D)              (None, 64, 64, 192)  221376      conv2d_14[0][0]                  \n",
            "__________________________________________________________________________________________________\n",
            "conv2d_17 (Conv2D)              (None, 64, 64, 96)   76896       conv2d_16[0][0]                  \n",
            "__________________________________________________________________________________________________\n",
            "conv2d_18 (Conv2D)              (None, 64, 64, 64)   256         max_pooling2d_3[0][0]            \n",
            "__________________________________________________________________________________________________\n",
            "concatenate_3 (Concatenate)     (None, 64, 64, 480)  0           conv2d_13[0][0]                  \n",
            "                                                                 conv2d_15[0][0]                  \n",
            "                                                                 conv2d_17[0][0]                  \n",
            "                                                                 conv2d_18[0][0]                  \n",
            "__________________________________________________________________________________________________\n",
            "average_pooling2d_3 (AveragePoo (None, 32, 32, 480)  0           concatenate_3[0][0]              \n",
            "__________________________________________________________________________________________________\n",
            "flatten_3 (Flatten)             (None, 491520)       0           average_pooling2d_3[0][0]        \n",
            "__________________________________________________________________________________________________\n",
            "dense_5 (Dense)                 (None, 64)           31457344    flatten_3[0][0]                  \n",
            "__________________________________________________________________________________________________\n",
            "dense_6 (Dense)                 (None, 10)           650         dense_5[0][0]                    \n",
            "==================================================================================================\n",
            "Total params: 31,757,674\n",
            "Trainable params: 31,757,674\n",
            "Non-trainable params: 0\n",
            "__________________________________________________________________________________________________\n",
            "None\n"
          ],
          "name": "stdout"
        }
      ]
    },
    {
      "cell_type": "code",
      "metadata": {
        "id": "8zbEEz5P9pSx",
        "colab_type": "code",
        "colab": {}
      },
      "source": [
        "# Compile model\n",
        "opt = SGD(lr=0.01, momentum=0.9)\n",
        "model_inception.compile(optimizer=opt, loss='categorical_crossentropy', metrics=['accuracy'])"
      ],
      "execution_count": 0,
      "outputs": []
    },
    {
      "cell_type": "code",
      "metadata": {
        "id": "j8CBX6ws9pS5",
        "colab_type": "code",
        "outputId": "0386029a-d153-4513-8b64-4d5b1b020d28",
        "colab": {
          "base_uri": "https://localhost:8080/",
          "height": 403
        }
      },
      "source": [
        "# Fit the model\n",
        "hist_inception1 = model_inception.fit(x_train, y_train, validation_data=(x_test, y_test), \n",
        "                                     epochs=10, batch_size=32, verbose=2)"
      ],
      "execution_count": 0,
      "outputs": [
        {
          "output_type": "stream",
          "text": [
            "Train on 21600 samples, validate on 5400 samples\n",
            "Epoch 1/10\n",
            " - 27s - loss: 1.4923 - accuracy: 0.4486 - val_loss: 1.2482 - val_accuracy: 0.5385\n",
            "Epoch 2/10\n",
            " - 27s - loss: 1.2541 - accuracy: 0.5398 - val_loss: 1.2045 - val_accuracy: 0.5526\n",
            "Epoch 3/10\n",
            " - 27s - loss: 1.1341 - accuracy: 0.5802 - val_loss: 1.0633 - val_accuracy: 0.6026\n",
            "Epoch 4/10\n",
            " - 27s - loss: 1.0549 - accuracy: 0.6165 - val_loss: 1.0637 - val_accuracy: 0.5970\n",
            "Epoch 5/10\n",
            " - 27s - loss: 0.9299 - accuracy: 0.6643 - val_loss: 1.1082 - val_accuracy: 0.6072\n",
            "Epoch 6/10\n",
            " - 27s - loss: 0.8299 - accuracy: 0.6985 - val_loss: 0.8464 - val_accuracy: 0.6904\n",
            "Epoch 7/10\n",
            " - 27s - loss: 0.7296 - accuracy: 0.7406 - val_loss: 0.8314 - val_accuracy: 0.7004\n",
            "Epoch 8/10\n",
            " - 27s - loss: 0.6666 - accuracy: 0.7575 - val_loss: 1.0537 - val_accuracy: 0.6437\n",
            "Epoch 9/10\n",
            " - 27s - loss: 0.5641 - accuracy: 0.7944 - val_loss: 0.8818 - val_accuracy: 0.7039\n",
            "Epoch 10/10\n",
            " - 27s - loss: 0.4810 - accuracy: 0.8278 - val_loss: 0.7990 - val_accuracy: 0.7404\n"
          ],
          "name": "stdout"
        }
      ]
    },
    {
      "cell_type": "code",
      "metadata": {
        "id": "3EAiCS2a9pS_",
        "colab_type": "code",
        "outputId": "775c7779-4669-49b2-e6a5-db6aa7973235",
        "colab": {
          "base_uri": "https://localhost:8080/",
          "height": 72
        }
      },
      "source": [
        "# Evaluation of the model\n",
        "scores = model_inception.evaluate(x_test, y_test, verbose=1)\n",
        "print('Loss: ', scores[0],'\\nAccuracy: ', scores[1]*100)"
      ],
      "execution_count": 0,
      "outputs": [
        {
          "output_type": "stream",
          "text": [
            "5400/5400 [==============================] - 3s 511us/step\n",
            "Loss:  0.7990183266003926 \n",
            "Accuracy:  74.03703927993774\n"
          ],
          "name": "stdout"
        }
      ]
    },
    {
      "cell_type": "code",
      "metadata": {
        "id": "_JtK_I6mxU8y",
        "colab_type": "code",
        "outputId": "b753fecf-ef5b-4435-f2ab-2c6afc2a62c7",
        "colab": {
          "base_uri": "https://localhost:8080/",
          "height": 295
        }
      },
      "source": [
        "# Plot training & validation loss values\n",
        "import matplotlib.pyplot as plt\n",
        "\n",
        "plt.plot(hist_inception1.history['accuracy'],marker = 'o')\n",
        "plt.plot(hist_inception1.history['val_accuracy'], marker = 'o')\n",
        "plt.title('Model Accuracy per Epoch')\n",
        "plt.ylabel('Accuracy')\n",
        "plt.xlabel('Epoch')\n",
        "plt.legend(['Train', 'Test'], loc='best')\n",
        "plt.show()"
      ],
      "execution_count": 0,
      "outputs": [
        {
          "output_type": "display_data",
          "data": {
            "image/png": "[encoded data removed]",
            "text/plain": [
              "<Figure size 432x288 with 1 Axes>"
            ]
          },
          "metadata": {
            "tags": [],
            "needs_background": "light"
          }
        }
      ]
    },
    {
      "cell_type": "code",
      "metadata": {
        "id": "LnwM9_elmsdl",
        "colab_type": "code",
        "outputId": "4fa0c22f-8164-4b16-8d42-1953931a33af",
        "colab": {
          "base_uri": "https://localhost:8080/",
          "height": 295
        }
      },
      "source": [
        "plt.plot(hist_inception1.history['loss'],marker = 'o')\n",
        "plt.plot(hist_inception1.history['val_loss'], marker = 'o')\n",
        "plt.title('Model Loss per Epoch')\n",
        "plt.ylabel('Loss')\n",
        "plt.xlabel('Epoch')\n",
        "plt.legend(['Train', 'Test'], loc='best')\n",
        "plt.show()"
      ],
      "execution_count": 0,
      "outputs": [
        {
          "output_type": "display_data",
          "data": {
            "image/png": "[encoded data removed]",
            "text/plain": [
              "<Figure size 432x288 with 1 Axes>"
            ]
          },
          "metadata": {
            "tags": [],
            "needs_background": "light"
          }
        }
      ]
    },
    {
      "cell_type": "code",
      "metadata": {
        "id": "0NFy0A7gmsrb",
        "colab_type": "code",
        "outputId": "f90f5a7d-48fc-4104-94c7-fdf49ddc7947",
        "colab": {
          "base_uri": "https://localhost:8080/",
          "height": 1000
        }
      },
      "source": [
        "# Fit the model\n",
        "hist_inception2 = model_inception.fit(x_train, y_train, validation_data=(x_test, y_test), \n",
        "                                     epochs=150, batch_size=128, verbose=2)"
      ],
      "execution_count": 0,
      "outputs": [
        {
          "output_type": "stream",
          "text": [
            "Train on 21600 samples, validate on 5400 samples\n",
            "Epoch 1/150\n",
            " - 23s - loss: 0.2535 - accuracy: 0.9110 - val_loss: 0.8579 - val_accuracy: 0.7596\n",
            "Epoch 2/150\n",
            " - 23s - loss: 0.1841 - accuracy: 0.9398 - val_loss: 0.8795 - val_accuracy: 0.7700\n",
            "Epoch 3/150\n",
            " - 23s - loss: 0.1549 - accuracy: 0.9490 - val_loss: 0.8984 - val_accuracy: 0.7663\n",
            "Epoch 4/150\n",
            " - 23s - loss: 0.1256 - accuracy: 0.9617 - val_loss: 0.9815 - val_accuracy: 0.7681\n",
            "Epoch 5/150\n",
            " - 23s - loss: 0.1116 - accuracy: 0.9653 - val_loss: 1.0086 - val_accuracy: 0.7641\n",
            "Epoch 6/150\n",
            " - 23s - loss: 0.0903 - accuracy: 0.9730 - val_loss: 1.0332 - val_accuracy: 0.7776\n",
            "Epoch 7/150\n",
            " - 23s - loss: 0.0742 - accuracy: 0.9793 - val_loss: 1.0702 - val_accuracy: 0.7730\n",
            "Epoch 8/150\n",
            " - 23s - loss: 0.0635 - accuracy: 0.9827 - val_loss: 1.1112 - val_accuracy: 0.7709\n",
            "Epoch 9/150\n",
            " - 23s - loss: 0.0546 - accuracy: 0.9857 - val_loss: 1.1881 - val_accuracy: 0.7685\n",
            "Epoch 10/150\n",
            " - 23s - loss: 0.0439 - accuracy: 0.9890 - val_loss: 1.2287 - val_accuracy: 0.7730\n",
            "Epoch 11/150\n",
            " - 23s - loss: 0.0357 - accuracy: 0.9925 - val_loss: 1.2269 - val_accuracy: 0.7759\n",
            "Epoch 12/150\n",
            " - 23s - loss: 0.0312 - accuracy: 0.9935 - val_loss: 1.3799 - val_accuracy: 0.7693\n",
            "Epoch 13/150\n",
            " - 23s - loss: 0.0264 - accuracy: 0.9943 - val_loss: 1.3621 - val_accuracy: 0.7613\n",
            "Epoch 14/150\n",
            " - 23s - loss: 0.0233 - accuracy: 0.9952 - val_loss: 1.4234 - val_accuracy: 0.7709\n",
            "Epoch 15/150\n",
            " - 23s - loss: 0.0179 - accuracy: 0.9967 - val_loss: 1.4654 - val_accuracy: 0.7626\n",
            "Epoch 16/150\n",
            " - 23s - loss: 0.0194 - accuracy: 0.9961 - val_loss: 1.4765 - val_accuracy: 0.7617\n",
            "Epoch 17/150\n",
            " - 23s - loss: 0.0155 - accuracy: 0.9972 - val_loss: 1.4743 - val_accuracy: 0.7663\n",
            "Epoch 18/150\n",
            " - 23s - loss: 0.0202 - accuracy: 0.9956 - val_loss: 1.4483 - val_accuracy: 0.7681\n",
            "Epoch 19/150\n",
            " - 23s - loss: 0.0150 - accuracy: 0.9968 - val_loss: 1.5619 - val_accuracy: 0.7728\n",
            "Epoch 20/150\n",
            " - 23s - loss: 0.0090 - accuracy: 0.9990 - val_loss: 1.5710 - val_accuracy: 0.7713\n",
            "Epoch 21/150\n",
            " - 23s - loss: 0.0105 - accuracy: 0.9982 - val_loss: 1.5946 - val_accuracy: 0.7656\n",
            "Epoch 22/150\n",
            " - 23s - loss: 0.0085 - accuracy: 0.9987 - val_loss: 1.5817 - val_accuracy: 0.7693\n",
            "Epoch 23/150\n",
            " - 23s - loss: 0.0065 - accuracy: 0.9991 - val_loss: 1.6382 - val_accuracy: 0.7691\n",
            "Epoch 24/150\n",
            " - 23s - loss: 0.0059 - accuracy: 0.9993 - val_loss: 1.6955 - val_accuracy: 0.7661\n",
            "Epoch 25/150\n",
            " - 23s - loss: 0.0068 - accuracy: 0.9989 - val_loss: 1.6712 - val_accuracy: 0.7706\n",
            "Epoch 26/150\n",
            " - 23s - loss: 0.0047 - accuracy: 0.9995 - val_loss: 1.6901 - val_accuracy: 0.7707\n",
            "Epoch 27/150\n",
            " - 23s - loss: 0.0043 - accuracy: 0.9996 - val_loss: 1.7040 - val_accuracy: 0.7689\n",
            "Epoch 28/150\n",
            " - 23s - loss: 0.0050 - accuracy: 0.9992 - val_loss: 1.7719 - val_accuracy: 0.7626\n",
            "Epoch 29/150\n",
            " - 23s - loss: 0.0041 - accuracy: 0.9995 - val_loss: 1.7621 - val_accuracy: 0.7696\n",
            "Epoch 30/150\n",
            " - 23s - loss: 0.0038 - accuracy: 0.9995 - val_loss: 1.7627 - val_accuracy: 0.7681\n",
            "Epoch 31/150\n",
            " - 23s - loss: 0.0033 - accuracy: 0.9998 - val_loss: 1.7907 - val_accuracy: 0.7639\n",
            "Epoch 32/150\n",
            " - 23s - loss: 0.0031 - accuracy: 0.9998 - val_loss: 1.8021 - val_accuracy: 0.7687\n",
            "Epoch 33/150\n",
            " - 23s - loss: 0.0026 - accuracy: 0.9999 - val_loss: 1.7963 - val_accuracy: 0.7676\n",
            "Epoch 34/150\n",
            " - 23s - loss: 0.0026 - accuracy: 0.9999 - val_loss: 1.8258 - val_accuracy: 0.7689\n",
            "Epoch 35/150\n",
            " - 23s - loss: 0.0035 - accuracy: 0.9994 - val_loss: 1.7982 - val_accuracy: 0.7674\n",
            "Epoch 36/150\n",
            " - 23s - loss: 0.0055 - accuracy: 0.9988 - val_loss: 1.9067 - val_accuracy: 0.7615\n",
            "Epoch 37/150\n",
            " - 23s - loss: 0.0020 - accuracy: 1.0000 - val_loss: 1.8698 - val_accuracy: 0.7665\n",
            "Epoch 38/150\n",
            " - 23s - loss: 0.0020 - accuracy: 0.9999 - val_loss: 1.8724 - val_accuracy: 0.7665\n",
            "Epoch 39/150\n",
            " - 23s - loss: 0.0018 - accuracy: 0.9999 - val_loss: 1.8956 - val_accuracy: 0.7667\n",
            "Epoch 40/150\n",
            " - 23s - loss: 0.0014 - accuracy: 1.0000 - val_loss: 1.9457 - val_accuracy: 0.7633\n",
            "Epoch 41/150\n",
            " - 23s - loss: 0.0019 - accuracy: 0.9999 - val_loss: 1.8781 - val_accuracy: 0.7670\n",
            "Epoch 42/150\n",
            " - 23s - loss: 0.0032 - accuracy: 0.9994 - val_loss: 1.9044 - val_accuracy: 0.7674\n",
            "Epoch 43/150\n",
            " - 23s - loss: 0.0037 - accuracy: 0.9991 - val_loss: 1.9023 - val_accuracy: 0.7665\n",
            "Epoch 44/150\n",
            " - 23s - loss: 0.0017 - accuracy: 0.9999 - val_loss: 1.9365 - val_accuracy: 0.7685\n",
            "Epoch 45/150\n",
            " - 23s - loss: 0.0011 - accuracy: 1.0000 - val_loss: 1.9507 - val_accuracy: 0.7702\n",
            "Epoch 46/150\n",
            " - 23s - loss: 0.0012 - accuracy: 1.0000 - val_loss: 1.9533 - val_accuracy: 0.7687\n",
            "Epoch 47/150\n",
            " - 23s - loss: 0.0011 - accuracy: 1.0000 - val_loss: 1.9554 - val_accuracy: 0.7689\n",
            "Epoch 48/150\n",
            " - 23s - loss: 9.8936e-04 - accuracy: 1.0000 - val_loss: 1.9663 - val_accuracy: 0.7685\n",
            "Epoch 49/150\n",
            " - 23s - loss: 0.0014 - accuracy: 0.9998 - val_loss: 1.9535 - val_accuracy: 0.7680\n",
            "Epoch 50/150\n",
            " - 23s - loss: 0.0014 - accuracy: 0.9999 - val_loss: 1.9764 - val_accuracy: 0.7669\n",
            "Epoch 51/150\n",
            " - 23s - loss: 8.5805e-04 - accuracy: 1.0000 - val_loss: 1.9831 - val_accuracy: 0.7680\n",
            "Epoch 52/150\n",
            " - 23s - loss: 0.0020 - accuracy: 0.9997 - val_loss: 2.0022 - val_accuracy: 0.7665\n",
            "Epoch 53/150\n",
            " - 23s - loss: 8.8316e-04 - accuracy: 1.0000 - val_loss: 2.0017 - val_accuracy: 0.7681\n",
            "Epoch 54/150\n",
            " - 23s - loss: 8.2566e-04 - accuracy: 1.0000 - val_loss: 2.0221 - val_accuracy: 0.7672\n",
            "Epoch 55/150\n",
            " - 23s - loss: 8.6518e-04 - accuracy: 1.0000 - val_loss: 2.0208 - val_accuracy: 0.7672\n",
            "Epoch 56/150\n",
            " - 23s - loss: 8.6851e-04 - accuracy: 1.0000 - val_loss: 2.0244 - val_accuracy: 0.7670\n",
            "Epoch 57/150\n",
            " - 23s - loss: 7.1323e-04 - accuracy: 1.0000 - val_loss: 2.0367 - val_accuracy: 0.7680\n",
            "Epoch 58/150\n",
            " - 23s - loss: 6.5800e-04 - accuracy: 1.0000 - val_loss: 2.0377 - val_accuracy: 0.7678\n",
            "Epoch 59/150\n",
            " - 23s - loss: 6.7829e-04 - accuracy: 1.0000 - val_loss: 2.0409 - val_accuracy: 0.7687\n",
            "Epoch 60/150\n",
            " - 23s - loss: 6.3891e-04 - accuracy: 1.0000 - val_loss: 2.0396 - val_accuracy: 0.7676\n",
            "Epoch 61/150\n",
            " - 23s - loss: 6.8738e-04 - accuracy: 1.0000 - val_loss: 2.0667 - val_accuracy: 0.7665\n",
            "Epoch 62/150\n",
            " - 23s - loss: 5.8825e-04 - accuracy: 1.0000 - val_loss: 2.0605 - val_accuracy: 0.7672\n",
            "Epoch 63/150\n",
            " - 23s - loss: 6.9089e-04 - accuracy: 1.0000 - val_loss: 2.0627 - val_accuracy: 0.7672\n",
            "Epoch 64/150\n",
            " - 23s - loss: 5.2538e-04 - accuracy: 1.0000 - val_loss: 2.1147 - val_accuracy: 0.7635\n",
            "Epoch 65/150\n",
            " - 23s - loss: 0.0011 - accuracy: 1.0000 - val_loss: 2.0896 - val_accuracy: 0.7644\n",
            "Epoch 66/150\n",
            " - 23s - loss: 9.1115e-04 - accuracy: 0.9999 - val_loss: 2.0750 - val_accuracy: 0.7672\n",
            "Epoch 67/150\n",
            " - 23s - loss: 6.5333e-04 - accuracy: 1.0000 - val_loss: 2.0766 - val_accuracy: 0.7667\n",
            "Epoch 68/150\n",
            " - 23s - loss: 5.6415e-04 - accuracy: 1.0000 - val_loss: 2.0863 - val_accuracy: 0.7680\n",
            "Epoch 69/150\n",
            " - 23s - loss: 4.9803e-04 - accuracy: 1.0000 - val_loss: 2.0820 - val_accuracy: 0.7681\n",
            "Epoch 70/150\n",
            " - 23s - loss: 4.7691e-04 - accuracy: 1.0000 - val_loss: 2.1201 - val_accuracy: 0.7670\n",
            "Epoch 71/150\n",
            " - 23s - loss: 4.8607e-04 - accuracy: 1.0000 - val_loss: 2.1052 - val_accuracy: 0.7678\n",
            "Epoch 72/150\n",
            " - 23s - loss: 4.7099e-04 - accuracy: 1.0000 - val_loss: 2.1084 - val_accuracy: 0.7676\n",
            "Epoch 73/150\n",
            " - 23s - loss: 4.4180e-04 - accuracy: 1.0000 - val_loss: 2.1230 - val_accuracy: 0.7691\n",
            "Epoch 74/150\n",
            " - 23s - loss: 4.4054e-04 - accuracy: 1.0000 - val_loss: 2.1098 - val_accuracy: 0.7676\n",
            "Epoch 75/150\n",
            " - 23s - loss: 4.2720e-04 - accuracy: 1.0000 - val_loss: 2.1201 - val_accuracy: 0.7687\n",
            "Epoch 76/150\n",
            " - 23s - loss: 3.9212e-04 - accuracy: 1.0000 - val_loss: 2.1314 - val_accuracy: 0.7687\n",
            "Epoch 77/150\n",
            " - 23s - loss: 3.7888e-04 - accuracy: 1.0000 - val_loss: 2.1545 - val_accuracy: 0.7665\n",
            "Epoch 78/150\n",
            " - 23s - loss: 3.8667e-04 - accuracy: 1.0000 - val_loss: 2.1385 - val_accuracy: 0.7687\n",
            "Epoch 79/150\n",
            " - 23s - loss: 3.8745e-04 - accuracy: 1.0000 - val_loss: 2.1446 - val_accuracy: 0.7683\n",
            "Epoch 80/150\n",
            " - 23s - loss: 3.6110e-04 - accuracy: 1.0000 - val_loss: 2.1563 - val_accuracy: 0.7661\n",
            "Epoch 81/150\n",
            " - 23s - loss: 3.6480e-04 - accuracy: 1.0000 - val_loss: 2.1452 - val_accuracy: 0.7674\n",
            "Epoch 82/150\n",
            " - 23s - loss: 3.6687e-04 - accuracy: 1.0000 - val_loss: 2.1494 - val_accuracy: 0.7689\n",
            "Epoch 83/150\n",
            " - 23s - loss: 3.8522e-04 - accuracy: 1.0000 - val_loss: 2.1583 - val_accuracy: 0.7683\n",
            "Epoch 84/150\n",
            " - 23s - loss: 3.3842e-04 - accuracy: 1.0000 - val_loss: 2.1813 - val_accuracy: 0.7674\n",
            "Epoch 85/150\n",
            " - 23s - loss: 3.2608e-04 - accuracy: 1.0000 - val_loss: 2.1525 - val_accuracy: 0.7683\n",
            "Epoch 86/150\n",
            " - 23s - loss: 3.1935e-04 - accuracy: 1.0000 - val_loss: 2.1821 - val_accuracy: 0.7676\n",
            "Epoch 87/150\n",
            " - 23s - loss: 3.1993e-04 - accuracy: 1.0000 - val_loss: 2.1728 - val_accuracy: 0.7674\n",
            "Epoch 88/150\n",
            " - 23s - loss: 3.4105e-04 - accuracy: 1.0000 - val_loss: 2.2040 - val_accuracy: 0.7670\n",
            "Epoch 89/150\n",
            " - 23s - loss: 3.2576e-04 - accuracy: 1.0000 - val_loss: 2.1738 - val_accuracy: 0.7687\n",
            "Epoch 90/150\n",
            " - 23s - loss: 3.0577e-04 - accuracy: 1.0000 - val_loss: 2.1939 - val_accuracy: 0.7683\n",
            "Epoch 91/150\n",
            " - 23s - loss: 3.0225e-04 - accuracy: 1.0000 - val_loss: 2.1820 - val_accuracy: 0.7680\n",
            "Epoch 92/150\n",
            " - 23s - loss: 2.9512e-04 - accuracy: 1.0000 - val_loss: 2.1807 - val_accuracy: 0.7678\n",
            "Epoch 93/150\n",
            " - 23s - loss: 3.0240e-04 - accuracy: 1.0000 - val_loss: 2.1834 - val_accuracy: 0.7681\n",
            "Epoch 94/150\n",
            " - 23s - loss: 2.9146e-04 - accuracy: 1.0000 - val_loss: 2.1877 - val_accuracy: 0.7672\n",
            "Epoch 95/150\n",
            " - 23s - loss: 2.8683e-04 - accuracy: 1.0000 - val_loss: 2.1929 - val_accuracy: 0.7672\n",
            "Epoch 96/150\n",
            " - 23s - loss: 2.8163e-04 - accuracy: 1.0000 - val_loss: 2.1947 - val_accuracy: 0.7678\n",
            "Epoch 97/150\n",
            " - 23s - loss: 2.7978e-04 - accuracy: 1.0000 - val_loss: 2.2049 - val_accuracy: 0.7678\n",
            "Epoch 98/150\n",
            " - 23s - loss: 2.8274e-04 - accuracy: 1.0000 - val_loss: 2.2206 - val_accuracy: 0.7669\n",
            "Epoch 99/150\n",
            " - 23s - loss: 2.7487e-04 - accuracy: 1.0000 - val_loss: 2.2027 - val_accuracy: 0.7681\n",
            "Epoch 100/150\n",
            " - 23s - loss: 2.6509e-04 - accuracy: 1.0000 - val_loss: 2.2080 - val_accuracy: 0.7689\n",
            "Epoch 101/150\n",
            " - 23s - loss: 2.6442e-04 - accuracy: 1.0000 - val_loss: 2.2037 - val_accuracy: 0.7676\n",
            "Epoch 102/150\n",
            " - 23s - loss: 2.5727e-04 - accuracy: 1.0000 - val_loss: 2.2203 - val_accuracy: 0.7678\n",
            "Epoch 103/150\n",
            " - 23s - loss: 2.5822e-04 - accuracy: 1.0000 - val_loss: 2.2153 - val_accuracy: 0.7674\n",
            "Epoch 104/150\n",
            " - 23s - loss: 2.5654e-04 - accuracy: 1.0000 - val_loss: 2.2078 - val_accuracy: 0.7681\n",
            "Epoch 105/150\n",
            " - 23s - loss: 2.4875e-04 - accuracy: 1.0000 - val_loss: 2.2170 - val_accuracy: 0.7680\n",
            "Epoch 106/150\n",
            " - 23s - loss: 2.5415e-04 - accuracy: 1.0000 - val_loss: 2.2138 - val_accuracy: 0.7678\n",
            "Epoch 107/150\n",
            " - 23s - loss: 2.4084e-04 - accuracy: 1.0000 - val_loss: 2.2455 - val_accuracy: 0.7674\n",
            "Epoch 108/150\n",
            " - 23s - loss: 2.3940e-04 - accuracy: 1.0000 - val_loss: 2.2250 - val_accuracy: 0.7672\n",
            "Epoch 109/150\n",
            " - 23s - loss: 2.3465e-04 - accuracy: 1.0000 - val_loss: 2.2300 - val_accuracy: 0.7667\n",
            "Epoch 110/150\n",
            " - 23s - loss: 2.4450e-04 - accuracy: 1.0000 - val_loss: 2.2355 - val_accuracy: 0.7674\n",
            "Epoch 111/150\n",
            " - 23s - loss: 2.3299e-04 - accuracy: 1.0000 - val_loss: 2.2314 - val_accuracy: 0.7674\n",
            "Epoch 112/150\n",
            " - 23s - loss: 2.2774e-04 - accuracy: 1.0000 - val_loss: 2.2426 - val_accuracy: 0.7661\n",
            "Epoch 113/150\n",
            " - 23s - loss: 2.3223e-04 - accuracy: 1.0000 - val_loss: 2.2340 - val_accuracy: 0.7669\n",
            "Epoch 114/150\n",
            " - 23s - loss: 2.3178e-04 - accuracy: 1.0000 - val_loss: 2.2448 - val_accuracy: 0.7680\n",
            "Epoch 115/150\n",
            " - 23s - loss: 2.1837e-04 - accuracy: 1.0000 - val_loss: 2.2514 - val_accuracy: 0.7667\n",
            "Epoch 116/150\n",
            " - 23s - loss: 2.2114e-04 - accuracy: 1.0000 - val_loss: 2.2487 - val_accuracy: 0.7667\n",
            "Epoch 117/150\n",
            " - 23s - loss: 2.1272e-04 - accuracy: 1.0000 - val_loss: 2.2488 - val_accuracy: 0.7676\n",
            "Epoch 118/150\n",
            " - 23s - loss: 2.1134e-04 - accuracy: 1.0000 - val_loss: 2.2553 - val_accuracy: 0.7670\n",
            "Epoch 119/150\n",
            " - 23s - loss: 2.1143e-04 - accuracy: 1.0000 - val_loss: 2.2531 - val_accuracy: 0.7670\n",
            "Epoch 120/150\n",
            " - 23s - loss: 2.0462e-04 - accuracy: 1.0000 - val_loss: 2.2513 - val_accuracy: 0.7676\n",
            "Epoch 121/150\n",
            " - 23s - loss: 2.0398e-04 - accuracy: 1.0000 - val_loss: 2.2742 - val_accuracy: 0.7676\n",
            "Epoch 122/150\n",
            " - 23s - loss: 2.0834e-04 - accuracy: 1.0000 - val_loss: 2.2619 - val_accuracy: 0.7680\n",
            "Epoch 123/150\n",
            " - 23s - loss: 1.9958e-04 - accuracy: 1.0000 - val_loss: 2.2693 - val_accuracy: 0.7672\n",
            "Epoch 124/150\n",
            " - 23s - loss: 1.9734e-04 - accuracy: 1.0000 - val_loss: 2.2658 - val_accuracy: 0.7672\n",
            "Epoch 125/150\n",
            " - 23s - loss: 2.0223e-04 - accuracy: 1.0000 - val_loss: 2.2663 - val_accuracy: 0.7680\n",
            "Epoch 126/150\n",
            " - 23s - loss: 1.9403e-04 - accuracy: 1.0000 - val_loss: 2.2683 - val_accuracy: 0.7663\n",
            "Epoch 127/150\n",
            " - 23s - loss: 1.9258e-04 - accuracy: 1.0000 - val_loss: 2.2749 - val_accuracy: 0.7670\n",
            "Epoch 128/150\n",
            " - 23s - loss: 1.9269e-04 - accuracy: 1.0000 - val_loss: 2.2784 - val_accuracy: 0.7672\n",
            "Epoch 129/150\n",
            " - 23s - loss: 1.8896e-04 - accuracy: 1.0000 - val_loss: 2.2724 - val_accuracy: 0.7672\n",
            "Epoch 130/150\n",
            " - 23s - loss: 1.8849e-04 - accuracy: 1.0000 - val_loss: 2.2756 - val_accuracy: 0.7665\n",
            "Epoch 131/150\n",
            " - 23s - loss: 1.8424e-04 - accuracy: 1.0000 - val_loss: 2.2841 - val_accuracy: 0.7681\n",
            "Epoch 132/150\n",
            " - 23s - loss: 1.8443e-04 - accuracy: 1.0000 - val_loss: 2.2837 - val_accuracy: 0.7676\n",
            "Epoch 133/150\n",
            " - 23s - loss: 1.8284e-04 - accuracy: 1.0000 - val_loss: 2.2907 - val_accuracy: 0.7676\n",
            "Epoch 134/150\n",
            " - 23s - loss: 1.8836e-04 - accuracy: 1.0000 - val_loss: 2.2955 - val_accuracy: 0.7663\n",
            "Epoch 135/150\n",
            " - 23s - loss: 1.7770e-04 - accuracy: 1.0000 - val_loss: 2.2874 - val_accuracy: 0.7663\n",
            "Epoch 136/150\n",
            " - 23s - loss: 1.7748e-04 - accuracy: 1.0000 - val_loss: 2.3083 - val_accuracy: 0.7670\n",
            "Epoch 137/150\n",
            " - 23s - loss: 1.7455e-04 - accuracy: 1.0000 - val_loss: 2.2902 - val_accuracy: 0.7669\n",
            "Epoch 138/150\n",
            " - 23s - loss: 1.7405e-04 - accuracy: 1.0000 - val_loss: 2.3115 - val_accuracy: 0.7670\n",
            "Epoch 139/150\n",
            " - 23s - loss: 1.7102e-04 - accuracy: 1.0000 - val_loss: 2.3009 - val_accuracy: 0.7683\n",
            "Epoch 140/150\n",
            " - 23s - loss: 1.7334e-04 - accuracy: 1.0000 - val_loss: 2.3117 - val_accuracy: 0.7661\n",
            "Epoch 141/150\n",
            " - 23s - loss: 1.7237e-04 - accuracy: 1.0000 - val_loss: 2.3298 - val_accuracy: 0.7665\n",
            "Epoch 142/150\n",
            " - 23s - loss: 1.6628e-04 - accuracy: 1.0000 - val_loss: 2.2995 - val_accuracy: 0.7665\n",
            "Epoch 143/150\n",
            " - 23s - loss: 1.6319e-04 - accuracy: 1.0000 - val_loss: 2.3144 - val_accuracy: 0.7676\n",
            "Epoch 144/150\n",
            " - 23s - loss: 1.6291e-04 - accuracy: 1.0000 - val_loss: 2.3099 - val_accuracy: 0.7678\n",
            "Epoch 145/150\n",
            " - 23s - loss: 1.6338e-04 - accuracy: 1.0000 - val_loss: 2.3042 - val_accuracy: 0.7659\n",
            "Epoch 146/150\n",
            " - 23s - loss: 1.6471e-04 - accuracy: 1.0000 - val_loss: 2.3125 - val_accuracy: 0.7680\n",
            "Epoch 147/150\n",
            " - 23s - loss: 1.5791e-04 - accuracy: 1.0000 - val_loss: 2.3132 - val_accuracy: 0.7674\n",
            "Epoch 148/150\n",
            " - 23s - loss: 1.5465e-04 - accuracy: 1.0000 - val_loss: 2.3076 - val_accuracy: 0.7670\n",
            "Epoch 149/150\n",
            " - 23s - loss: 1.5607e-04 - accuracy: 1.0000 - val_loss: 2.3193 - val_accuracy: 0.7681\n",
            "Epoch 150/150\n",
            " - 23s - loss: 1.5413e-04 - accuracy: 1.0000 - val_loss: 2.3181 - val_accuracy: 0.7670\n"
          ],
          "name": "stdout"
        }
      ]
    },
    {
      "cell_type": "code",
      "metadata": {
        "id": "XGtLrdj1mtLD",
        "colab_type": "code",
        "outputId": "04df75a6-9db7-40f7-c2d5-3e1eda7137bb",
        "colab": {
          "base_uri": "https://localhost:8080/",
          "height": 72
        }
      },
      "source": [
        "# Evaluation of the model\n",
        "scores = model_inception.evaluate(x_test, y_test, verbose=1)\n",
        "print('Loss: ', scores[0],'\\nAccuracy: ', scores[1]*100)"
      ],
      "execution_count": 0,
      "outputs": [
        {
          "output_type": "stream",
          "text": [
            "5400/5400 [==============================] - 3s 513us/step\n",
            "Loss:  2.318134325234978 \n",
            "Accuracy:  76.7037034034729\n"
          ],
          "name": "stdout"
        }
      ]
    },
    {
      "cell_type": "code",
      "metadata": {
        "id": "N8J2HoRL9pTS",
        "colab_type": "code",
        "outputId": "eb6ccbde-418c-4d31-e243-124e84ed952b",
        "colab": {
          "base_uri": "https://localhost:8080/",
          "height": 295
        }
      },
      "source": [
        "# Plot training & validation loss values\n",
        "import matplotlib.pyplot as plt\n",
        "\n",
        "plt.plot(hist_inception2.history['accuracy'])\n",
        "plt.plot(hist_inception2.history['val_accuracy'])\n",
        "plt.title('Model Accuracy per Epoch')\n",
        "plt.ylabel('Accuracy')\n",
        "plt.xlabel('Epoch')\n",
        "plt.legend(['Train', 'Test'], loc='best')\n",
        "plt.show()"
      ],
      "execution_count": 0,
      "outputs": [
        {
          "output_type": "display_data",
          "data": {
            "image/png": "[encoded data removed]",
            "text/plain": [
              "<Figure size 432x288 with 1 Axes>"
            ]
          },
          "metadata": {
            "tags": [],
            "needs_background": "light"
          }
        }
      ]
    },
    {
      "cell_type": "code",
      "metadata": {
        "id": "uJZppF-8w-AS",
        "colab_type": "code",
        "outputId": "916e4bc3-a6e6-4e20-ee07-0d3e9e927e2a",
        "colab": {
          "base_uri": "https://localhost:8080/",
          "height": 295
        }
      },
      "source": [
        "plt.plot(hist_inception2.history['loss'])\n",
        "plt.plot(hist_inception2.history['val_loss'])\n",
        "plt.title('Model Loss per Epoch')\n",
        "plt.ylabel('Loss')\n",
        "plt.xlabel('Epoch')\n",
        "plt.legend(['Train', 'Test'], loc='best')\n",
        "plt.show()"
      ],
      "execution_count": 0,
      "outputs": [
        {
          "output_type": "display_data",
          "data": {
            "image/png": "[encoded data removed]",
            "text/plain": [
              "<Figure size 432x288 with 1 Axes>"
            ]
          },
          "metadata": {
            "tags": [],
            "needs_background": "light"
          }
        }
      ]
    },
    {
      "cell_type": "markdown",
      "metadata": {
        "id": "jl9y93KxCW57",
        "colab_type": "text"
      },
      "source": [
        "## For more better performance"
      ]
    },
    {
      "cell_type": "code",
      "metadata": {
        "id": "8sOUNltIGyay",
        "colab_type": "code",
        "colab": {}
      },
      "source": [
        "import os\n",
        "import numpy as np\n",
        "import tensorflow as tf\n",
        "import matplotlib.pyplot as plt\n",
        "from tensorflow.keras import regularizers\n",
        "from tensorflow.keras.models import Sequential, Model\n",
        "from tensorflow.keras.layers import Input, Flatten, Dense, Dropout, BatchNormalization\n",
        "from tensorflow.keras.layers import Conv2D, MaxPooling2D, AveragePooling2D, ZeroPadding2D\n",
        "from tensorflow.keras.layers import Concatenate\n",
        "from tensorflow.keras.preprocessing.image import ImageDataGenerator\n",
        "from tensorflow.keras.optimizers import Adam, SGD"
      ],
      "execution_count": 0,
      "outputs": []
    },
    {
      "cell_type": "code",
      "metadata": {
        "id": "xvT0g89jCUa4",
        "colab_type": "code",
        "colab": {}
      },
      "source": [
        "IMAGE_SHAPE = x_train.shape[1:]\n",
        "CLASS_NUM = y_onehot.shape[1] "
      ],
      "execution_count": 0,
      "outputs": []
    },
    {
      "cell_type": "code",
      "metadata": {
        "id": "RvJakvjcCUqh",
        "colab_type": "code",
        "colab": {}
      },
      "source": [
        "def inception(x, filters):\n",
        "    # 1x1\n",
        "    path1 = Conv2D(filters=filters[0], kernel_size=(1,1), strides=1, padding='same', activation='relu')(x)\n",
        "\n",
        "    # 1x1->3x3\n",
        "    path2 = Conv2D(filters=filters[1][0], kernel_size=(1,1), strides=1, padding='same', activation='relu')(x)\n",
        "    path2 = Conv2D(filters=filters[1][1], kernel_size=(3,3), strides=1, padding='same', activation='relu')(path2)\n",
        "    \n",
        "    # 1x1->5x5\n",
        "    path3 = Conv2D(filters=filters[2][0], kernel_size=(1,1), strides=1, padding='same', activation='relu')(x)\n",
        "    path3 = Conv2D(filters=filters[2][1], kernel_size=(5,5), strides=1, padding='same', activation='relu')(path3)\n",
        "\n",
        "    # 3x3->1x1\n",
        "    path4 = MaxPooling2D(pool_size=(3,3), strides=1, padding='same')(x)\n",
        "    path4 = Conv2D(filters=filters[3], kernel_size=(1,1), strides=1, padding='same', activation='relu')(path4)\n",
        "\n",
        "    return Concatenate(axis=-1)([path1,path2,path3,path4])\n"
      ],
      "execution_count": 0,
      "outputs": []
    },
    {
      "cell_type": "code",
      "metadata": {
        "id": "erKaQk62CUvw",
        "colab_type": "code",
        "colab": {}
      },
      "source": [
        "def auxiliary(x, name=None):\n",
        "    layer = AveragePooling2D()(x)\n",
        "    layer = Conv2D(filters=128, kernel_size=(1,1), strides=1, padding='same', activation='relu')(layer)\n",
        "    layer = Flatten()(layer)\n",
        "    layer = Dense(units=256, activation='relu')(layer)\n",
        "    layer = Dropout(0.4)(layer)\n",
        "    layer = Dense(units=CLASS_NUM, activation='softmax', name=name)(layer)\n",
        "    return layer"
      ],
      "execution_count": 0,
      "outputs": []
    },
    {
      "cell_type": "code",
      "metadata": {
        "id": "P-8b6MUbCU5p",
        "colab_type": "code",
        "colab": {}
      },
      "source": [
        "def googlenet():\n",
        "    layer_in = Input(shape=IMAGE_SHAPE)\n",
        "    \n",
        "    # stage-1\n",
        "    layer = Conv2D(filters=64, kernel_size=(7,7), strides=2, padding='same', activation='relu')(layer_in)\n",
        "    layer = MaxPooling2D(pool_size=(3,3), strides=2, padding='same')(layer)\n",
        "    layer = BatchNormalization()(layer)\n",
        "\n",
        "    # stage-2\n",
        "    layer = Conv2D(filters=64, kernel_size=(1,1), strides=1, padding='same', activation='relu')(layer)\n",
        "    layer = Conv2D(filters=192, kernel_size=(3,3), strides=1, padding='same', activation='relu')(layer)\n",
        "    layer = BatchNormalization()(layer)\n",
        "    layer = MaxPooling2D(pool_size=(3,3), strides=2, padding='same')(layer)\n",
        "\n",
        "    # stage-3\n",
        "    layer = inception(layer, [ 64,  (96,128), (16,32), 32]) #3a\n",
        "    layer = inception(layer, [128, (128,192), (32,96), 64]) #3b\n",
        "    layer = MaxPooling2D(pool_size=(3,3), strides=2, padding='same')(layer)\n",
        "    \n",
        "    # stage-4\n",
        "    layer = inception(layer, [192,  (96,208),  (16,48),  64]) #4a\n",
        "    aux1  = auxiliary(layer, name='aux1')\n",
        "    layer = inception(layer, [160, (112,224),  (24,64),  64]) #4b\n",
        "    layer = inception(layer, [128, (128,256),  (24,64),  64]) #4c\n",
        "    layer = inception(layer, [112, (144,288),  (32,64),  64]) #4d\n",
        "    aux2  = auxiliary(layer, name='aux2')\n",
        "    layer = inception(layer, [256, (160,320), (32,128), 128]) #4e\n",
        "    layer = MaxPooling2D(pool_size=(3,3), strides=2, padding='same')(layer)\n",
        "    \n",
        "    # stage-5\n",
        "    layer = inception(layer, [256, (160,320), (32,128), 128]) #5a\n",
        "    layer = inception(layer, [384, (192,384), (48,128), 128]) #5b\n",
        "    layer = AveragePooling2D()(layer)\n",
        "    \n",
        "    # stage-6\n",
        "    layer = Flatten()(layer)\n",
        "    layer = Dropout(0.4)(layer)\n",
        "    layer = Dense(units=256, activation='linear')(layer)\n",
        "    main = Dense(units=CLASS_NUM, activation='softmax', name='main')(layer)\n",
        "    \n",
        "    model = Model(inputs=layer_in, outputs=[main, aux1, aux2])\n",
        "    \n",
        "    return model"
      ],
      "execution_count": 0,
      "outputs": []
    },
    {
      "cell_type": "code",
      "metadata": {
        "id": "yMInWMBDC2ot",
        "colab_type": "code",
        "outputId": "d59141ed-7d88-410a-d804-0e1481479679",
        "colab": {
          "base_uri": "https://localhost:8080/",
          "height": 1000
        }
      },
      "source": [
        "model = googlenet()\n",
        "print (model.summary())"
      ],
      "execution_count": 36,
      "outputs": [
        {
          "output_type": "stream",
          "text": [
            "Model: \"model_1\"\n",
            "__________________________________________________________________________________________________\n",
            "Layer (type)                    Output Shape         Param #     Connected to                     \n",
            "==================================================================================================\n",
            "input_2 (InputLayer)            [(None, 64, 64, 3)]  0                                            \n",
            "__________________________________________________________________________________________________\n",
            "conv2d_59 (Conv2D)              (None, 32, 32, 64)   9472        input_2[0][0]                    \n",
            "__________________________________________________________________________________________________\n",
            "max_pooling2d_13 (MaxPooling2D) (None, 16, 16, 64)   0           conv2d_59[0][0]                  \n",
            "__________________________________________________________________________________________________\n",
            "batch_normalization_2 (BatchNor (None, 16, 16, 64)   256         max_pooling2d_13[0][0]           \n",
            "__________________________________________________________________________________________________\n",
            "conv2d_60 (Conv2D)              (None, 16, 16, 64)   4160        batch_normalization_2[0][0]      \n",
            "__________________________________________________________________________________________________\n",
            "conv2d_61 (Conv2D)              (None, 16, 16, 192)  110784      conv2d_60[0][0]                  \n",
            "__________________________________________________________________________________________________\n",
            "batch_normalization_3 (BatchNor (None, 16, 16, 192)  768         conv2d_61[0][0]                  \n",
            "__________________________________________________________________________________________________\n",
            "max_pooling2d_14 (MaxPooling2D) (None, 8, 8, 192)    0           batch_normalization_3[0][0]      \n",
            "__________________________________________________________________________________________________\n",
            "conv2d_63 (Conv2D)              (None, 8, 8, 96)     18528       max_pooling2d_14[0][0]           \n",
            "__________________________________________________________________________________________________\n",
            "conv2d_65 (Conv2D)              (None, 8, 8, 16)     3088        max_pooling2d_14[0][0]           \n",
            "__________________________________________________________________________________________________\n",
            "max_pooling2d_15 (MaxPooling2D) (None, 8, 8, 192)    0           max_pooling2d_14[0][0]           \n",
            "__________________________________________________________________________________________________\n",
            "conv2d_62 (Conv2D)              (None, 8, 8, 64)     12352       max_pooling2d_14[0][0]           \n",
            "__________________________________________________________________________________________________\n",
            "conv2d_64 (Conv2D)              (None, 8, 8, 128)    110720      conv2d_63[0][0]                  \n",
            "__________________________________________________________________________________________________\n",
            "conv2d_66 (Conv2D)              (None, 8, 8, 32)     12832       conv2d_65[0][0]                  \n",
            "__________________________________________________________________________________________________\n",
            "conv2d_67 (Conv2D)              (None, 8, 8, 32)     6176        max_pooling2d_15[0][0]           \n",
            "__________________________________________________________________________________________________\n",
            "concatenate_9 (Concatenate)     (None, 8, 8, 256)    0           conv2d_62[0][0]                  \n",
            "                                                                 conv2d_64[0][0]                  \n",
            "                                                                 conv2d_66[0][0]                  \n",
            "                                                                 conv2d_67[0][0]                  \n",
            "__________________________________________________________________________________________________\n",
            "conv2d_69 (Conv2D)              (None, 8, 8, 128)    32896       concatenate_9[0][0]              \n",
            "__________________________________________________________________________________________________\n",
            "conv2d_71 (Conv2D)              (None, 8, 8, 32)     8224        concatenate_9[0][0]              \n",
            "__________________________________________________________________________________________________\n",
            "max_pooling2d_16 (MaxPooling2D) (None, 8, 8, 256)    0           concatenate_9[0][0]              \n",
            "__________________________________________________________________________________________________\n",
            "conv2d_68 (Conv2D)              (None, 8, 8, 128)    32896       concatenate_9[0][0]              \n",
            "__________________________________________________________________________________________________\n",
            "conv2d_70 (Conv2D)              (None, 8, 8, 192)    221376      conv2d_69[0][0]                  \n",
            "__________________________________________________________________________________________________\n",
            "conv2d_72 (Conv2D)              (None, 8, 8, 96)     76896       conv2d_71[0][0]                  \n",
            "__________________________________________________________________________________________________\n",
            "conv2d_73 (Conv2D)              (None, 8, 8, 64)     16448       max_pooling2d_16[0][0]           \n",
            "__________________________________________________________________________________________________\n",
            "concatenate_10 (Concatenate)    (None, 8, 8, 480)    0           conv2d_68[0][0]                  \n",
            "                                                                 conv2d_70[0][0]                  \n",
            "                                                                 conv2d_72[0][0]                  \n",
            "                                                                 conv2d_73[0][0]                  \n",
            "__________________________________________________________________________________________________\n",
            "max_pooling2d_17 (MaxPooling2D) (None, 4, 4, 480)    0           concatenate_10[0][0]             \n",
            "__________________________________________________________________________________________________\n",
            "conv2d_75 (Conv2D)              (None, 4, 4, 96)     46176       max_pooling2d_17[0][0]           \n",
            "__________________________________________________________________________________________________\n",
            "conv2d_77 (Conv2D)              (None, 4, 4, 16)     7696        max_pooling2d_17[0][0]           \n",
            "__________________________________________________________________________________________________\n",
            "max_pooling2d_18 (MaxPooling2D) (None, 4, 4, 480)    0           max_pooling2d_17[0][0]           \n",
            "__________________________________________________________________________________________________\n",
            "conv2d_74 (Conv2D)              (None, 4, 4, 192)    92352       max_pooling2d_17[0][0]           \n",
            "__________________________________________________________________________________________________\n",
            "conv2d_76 (Conv2D)              (None, 4, 4, 208)    179920      conv2d_75[0][0]                  \n",
            "__________________________________________________________________________________________________\n",
            "conv2d_78 (Conv2D)              (None, 4, 4, 48)     19248       conv2d_77[0][0]                  \n",
            "__________________________________________________________________________________________________\n",
            "conv2d_79 (Conv2D)              (None, 4, 4, 64)     30784       max_pooling2d_18[0][0]           \n",
            "__________________________________________________________________________________________________\n",
            "concatenate_11 (Concatenate)    (None, 4, 4, 512)    0           conv2d_74[0][0]                  \n",
            "                                                                 conv2d_76[0][0]                  \n",
            "                                                                 conv2d_78[0][0]                  \n",
            "                                                                 conv2d_79[0][0]                  \n",
            "__________________________________________________________________________________________________\n",
            "conv2d_82 (Conv2D)              (None, 4, 4, 112)    57456       concatenate_11[0][0]             \n",
            "__________________________________________________________________________________________________\n",
            "conv2d_84 (Conv2D)              (None, 4, 4, 24)     12312       concatenate_11[0][0]             \n",
            "__________________________________________________________________________________________________\n",
            "max_pooling2d_19 (MaxPooling2D) (None, 4, 4, 512)    0           concatenate_11[0][0]             \n",
            "__________________________________________________________________________________________________\n",
            "conv2d_81 (Conv2D)              (None, 4, 4, 160)    82080       concatenate_11[0][0]             \n",
            "__________________________________________________________________________________________________\n",
            "conv2d_83 (Conv2D)              (None, 4, 4, 224)    226016      conv2d_82[0][0]                  \n",
            "__________________________________________________________________________________________________\n",
            "conv2d_85 (Conv2D)              (None, 4, 4, 64)     38464       conv2d_84[0][0]                  \n",
            "__________________________________________________________________________________________________\n",
            "conv2d_86 (Conv2D)              (None, 4, 4, 64)     32832       max_pooling2d_19[0][0]           \n",
            "__________________________________________________________________________________________________\n",
            "concatenate_12 (Concatenate)    (None, 4, 4, 512)    0           conv2d_81[0][0]                  \n",
            "                                                                 conv2d_83[0][0]                  \n",
            "                                                                 conv2d_85[0][0]                  \n",
            "                                                                 conv2d_86[0][0]                  \n",
            "__________________________________________________________________________________________________\n",
            "conv2d_88 (Conv2D)              (None, 4, 4, 128)    65664       concatenate_12[0][0]             \n",
            "__________________________________________________________________________________________________\n",
            "conv2d_90 (Conv2D)              (None, 4, 4, 24)     12312       concatenate_12[0][0]             \n",
            "__________________________________________________________________________________________________\n",
            "max_pooling2d_20 (MaxPooling2D) (None, 4, 4, 512)    0           concatenate_12[0][0]             \n",
            "__________________________________________________________________________________________________\n",
            "conv2d_87 (Conv2D)              (None, 4, 4, 128)    65664       concatenate_12[0][0]             \n",
            "__________________________________________________________________________________________________\n",
            "conv2d_89 (Conv2D)              (None, 4, 4, 256)    295168      conv2d_88[0][0]                  \n",
            "__________________________________________________________________________________________________\n",
            "conv2d_91 (Conv2D)              (None, 4, 4, 64)     38464       conv2d_90[0][0]                  \n",
            "__________________________________________________________________________________________________\n",
            "conv2d_92 (Conv2D)              (None, 4, 4, 64)     32832       max_pooling2d_20[0][0]           \n",
            "__________________________________________________________________________________________________\n",
            "concatenate_13 (Concatenate)    (None, 4, 4, 512)    0           conv2d_87[0][0]                  \n",
            "                                                                 conv2d_89[0][0]                  \n",
            "                                                                 conv2d_91[0][0]                  \n",
            "                                                                 conv2d_92[0][0]                  \n",
            "__________________________________________________________________________________________________\n",
            "conv2d_94 (Conv2D)              (None, 4, 4, 144)    73872       concatenate_13[0][0]             \n",
            "__________________________________________________________________________________________________\n",
            "conv2d_96 (Conv2D)              (None, 4, 4, 32)     16416       concatenate_13[0][0]             \n",
            "__________________________________________________________________________________________________\n",
            "max_pooling2d_21 (MaxPooling2D) (None, 4, 4, 512)    0           concatenate_13[0][0]             \n",
            "__________________________________________________________________________________________________\n",
            "conv2d_93 (Conv2D)              (None, 4, 4, 112)    57456       concatenate_13[0][0]             \n",
            "__________________________________________________________________________________________________\n",
            "conv2d_95 (Conv2D)              (None, 4, 4, 288)    373536      conv2d_94[0][0]                  \n",
            "__________________________________________________________________________________________________\n",
            "conv2d_97 (Conv2D)              (None, 4, 4, 64)     51264       conv2d_96[0][0]                  \n",
            "__________________________________________________________________________________________________\n",
            "conv2d_98 (Conv2D)              (None, 4, 4, 64)     32832       max_pooling2d_21[0][0]           \n",
            "__________________________________________________________________________________________________\n",
            "concatenate_14 (Concatenate)    (None, 4, 4, 528)    0           conv2d_93[0][0]                  \n",
            "                                                                 conv2d_95[0][0]                  \n",
            "                                                                 conv2d_97[0][0]                  \n",
            "                                                                 conv2d_98[0][0]                  \n",
            "__________________________________________________________________________________________________\n",
            "conv2d_101 (Conv2D)             (None, 4, 4, 160)    84640       concatenate_14[0][0]             \n",
            "__________________________________________________________________________________________________\n",
            "conv2d_103 (Conv2D)             (None, 4, 4, 32)     16928       concatenate_14[0][0]             \n",
            "__________________________________________________________________________________________________\n",
            "max_pooling2d_22 (MaxPooling2D) (None, 4, 4, 528)    0           concatenate_14[0][0]             \n",
            "__________________________________________________________________________________________________\n",
            "conv2d_100 (Conv2D)             (None, 4, 4, 256)    135424      concatenate_14[0][0]             \n",
            "__________________________________________________________________________________________________\n",
            "conv2d_102 (Conv2D)             (None, 4, 4, 320)    461120      conv2d_101[0][0]                 \n",
            "__________________________________________________________________________________________________\n",
            "conv2d_104 (Conv2D)             (None, 4, 4, 128)    102528      conv2d_103[0][0]                 \n",
            "__________________________________________________________________________________________________\n",
            "conv2d_105 (Conv2D)             (None, 4, 4, 128)    67712       max_pooling2d_22[0][0]           \n",
            "__________________________________________________________________________________________________\n",
            "concatenate_15 (Concatenate)    (None, 4, 4, 832)    0           conv2d_100[0][0]                 \n",
            "                                                                 conv2d_102[0][0]                 \n",
            "                                                                 conv2d_104[0][0]                 \n",
            "                                                                 conv2d_105[0][0]                 \n",
            "__________________________________________________________________________________________________\n",
            "max_pooling2d_23 (MaxPooling2D) (None, 2, 2, 832)    0           concatenate_15[0][0]             \n",
            "__________________________________________________________________________________________________\n",
            "conv2d_107 (Conv2D)             (None, 2, 2, 160)    133280      max_pooling2d_23[0][0]           \n",
            "__________________________________________________________________________________________________\n",
            "conv2d_109 (Conv2D)             (None, 2, 2, 32)     26656       max_pooling2d_23[0][0]           \n",
            "__________________________________________________________________________________________________\n",
            "max_pooling2d_24 (MaxPooling2D) (None, 2, 2, 832)    0           max_pooling2d_23[0][0]           \n",
            "__________________________________________________________________________________________________\n",
            "conv2d_106 (Conv2D)             (None, 2, 2, 256)    213248      max_pooling2d_23[0][0]           \n",
            "__________________________________________________________________________________________________\n",
            "conv2d_108 (Conv2D)             (None, 2, 2, 320)    461120      conv2d_107[0][0]                 \n",
            "__________________________________________________________________________________________________\n",
            "conv2d_110 (Conv2D)             (None, 2, 2, 128)    102528      conv2d_109[0][0]                 \n",
            "__________________________________________________________________________________________________\n",
            "conv2d_111 (Conv2D)             (None, 2, 2, 128)    106624      max_pooling2d_24[0][0]           \n",
            "__________________________________________________________________________________________________\n",
            "concatenate_16 (Concatenate)    (None, 2, 2, 832)    0           conv2d_106[0][0]                 \n",
            "                                                                 conv2d_108[0][0]                 \n",
            "                                                                 conv2d_110[0][0]                 \n",
            "                                                                 conv2d_111[0][0]                 \n",
            "__________________________________________________________________________________________________\n",
            "conv2d_113 (Conv2D)             (None, 2, 2, 192)    159936      concatenate_16[0][0]             \n",
            "__________________________________________________________________________________________________\n",
            "conv2d_115 (Conv2D)             (None, 2, 2, 48)     39984       concatenate_16[0][0]             \n",
            "__________________________________________________________________________________________________\n",
            "max_pooling2d_25 (MaxPooling2D) (None, 2, 2, 832)    0           concatenate_16[0][0]             \n",
            "__________________________________________________________________________________________________\n",
            "conv2d_112 (Conv2D)             (None, 2, 2, 384)    319872      concatenate_16[0][0]             \n",
            "__________________________________________________________________________________________________\n",
            "conv2d_114 (Conv2D)             (None, 2, 2, 384)    663936      conv2d_113[0][0]                 \n",
            "__________________________________________________________________________________________________\n",
            "conv2d_116 (Conv2D)             (None, 2, 2, 128)    153728      conv2d_115[0][0]                 \n",
            "__________________________________________________________________________________________________\n",
            "conv2d_117 (Conv2D)             (None, 2, 2, 128)    106624      max_pooling2d_25[0][0]           \n",
            "__________________________________________________________________________________________________\n",
            "concatenate_17 (Concatenate)    (None, 2, 2, 1024)   0           conv2d_112[0][0]                 \n",
            "                                                                 conv2d_114[0][0]                 \n",
            "                                                                 conv2d_116[0][0]                 \n",
            "                                                                 conv2d_117[0][0]                 \n",
            "__________________________________________________________________________________________________\n",
            "average_pooling2d_3 (AveragePoo (None, 2, 2, 512)    0           concatenate_11[0][0]             \n",
            "__________________________________________________________________________________________________\n",
            "average_pooling2d_4 (AveragePoo (None, 2, 2, 528)    0           concatenate_14[0][0]             \n",
            "__________________________________________________________________________________________________\n",
            "average_pooling2d_5 (AveragePoo (None, 1, 1, 1024)   0           concatenate_17[0][0]             \n",
            "__________________________________________________________________________________________________\n",
            "conv2d_80 (Conv2D)              (None, 2, 2, 128)    65664       average_pooling2d_3[0][0]        \n",
            "__________________________________________________________________________________________________\n",
            "conv2d_99 (Conv2D)              (None, 2, 2, 128)    67712       average_pooling2d_4[0][0]        \n",
            "__________________________________________________________________________________________________\n",
            "flatten_5 (Flatten)             (None, 1024)         0           average_pooling2d_5[0][0]        \n",
            "__________________________________________________________________________________________________\n",
            "flatten_3 (Flatten)             (None, 512)          0           conv2d_80[0][0]                  \n",
            "__________________________________________________________________________________________________\n",
            "flatten_4 (Flatten)             (None, 512)          0           conv2d_99[0][0]                  \n",
            "__________________________________________________________________________________________________\n",
            "dropout_5 (Dropout)             (None, 1024)         0           flatten_5[0][0]                  \n",
            "__________________________________________________________________________________________________\n",
            "dense_3 (Dense)                 (None, 256)          131328      flatten_3[0][0]                  \n",
            "__________________________________________________________________________________________________\n",
            "dense_4 (Dense)                 (None, 256)          131328      flatten_4[0][0]                  \n",
            "__________________________________________________________________________________________________\n",
            "dense_5 (Dense)                 (None, 256)          262400      dropout_5[0][0]                  \n",
            "__________________________________________________________________________________________________\n",
            "dropout_3 (Dropout)             (None, 256)          0           dense_3[0][0]                    \n",
            "__________________________________________________________________________________________________\n",
            "dropout_4 (Dropout)             (None, 256)          0           dense_4[0][0]                    \n",
            "__________________________________________________________________________________________________\n",
            "main (Dense)                    (None, 10)           2570        dense_5[0][0]                    \n",
            "__________________________________________________________________________________________________\n",
            "aux1 (Dense)                    (None, 10)           2570        dropout_3[0][0]                  \n",
            "__________________________________________________________________________________________________\n",
            "aux2 (Dense)                    (None, 10)           2570        dropout_4[0][0]                  \n",
            "==================================================================================================\n",
            "Total params: 6,640,718\n",
            "Trainable params: 6,640,206\n",
            "Non-trainable params: 512\n",
            "__________________________________________________________________________________________________\n",
            "None\n"
          ],
          "name": "stdout"
        }
      ]
    },
    {
      "cell_type": "code",
      "metadata": {
        "id": "lsvBxnxpC2zo",
        "colab_type": "code",
        "colab": {}
      },
      "source": [
        "# Compile model\n",
        "opt = SGD(lr=0.01, momentum=0.9)\n",
        "model.compile(optimizer=opt, loss='categorical_crossentropy', metrics=['accuracy'])"
      ],
      "execution_count": 0,
      "outputs": []
    },
    {
      "cell_type": "code",
      "metadata": {
        "id": "v5Uftq2jJM9Y",
        "colab_type": "code",
        "outputId": "ba502410-8a2b-487f-a21c-d5cdb4c4b086",
        "colab": {
          "base_uri": "https://localhost:8080/",
          "height": 221
        }
      },
      "source": [
        "# Fit the model\n",
        "hist_inception3 = model.fit(x_train, y_train, validation_data=(x_test, y_test), \n",
        "                                     epochs=5, batch_size=32, verbose=2)"
      ],
      "execution_count": 0,
      "outputs": [
        {
          "output_type": "stream",
          "text": [
            "Epoch 1/5\n",
            "675/675 - 20s - loss: 4.0820 - main_loss: 1.3957 - aux1_loss: 1.3046 - aux2_loss: 1.3817 - main_accuracy: 0.4803 - aux1_accuracy: 0.5173 - aux2_accuracy: 0.4862 - val_loss: 7.1370 - val_main_loss: 2.3051 - val_aux1_loss: 2.5661 - val_aux2_loss: 2.2658 - val_main_accuracy: 0.3107 - val_aux1_accuracy: 0.3528 - val_aux2_accuracy: 0.3200\n",
            "Epoch 2/5\n",
            "675/675 - 19s - loss: 2.7975 - main_loss: 0.9591 - aux1_loss: 0.8958 - aux2_loss: 0.9426 - main_accuracy: 0.6687 - aux1_accuracy: 0.6840 - aux2_accuracy: 0.6749 - val_loss: 2.8704 - val_main_loss: 0.9773 - val_aux1_loss: 0.9419 - val_aux2_loss: 0.9512 - val_main_accuracy: 0.6643 - val_aux1_accuracy: 0.6806 - val_aux2_accuracy: 0.6743\n",
            "Epoch 3/5\n",
            "675/675 - 19s - loss: 2.3526 - main_loss: 0.8022 - aux1_loss: 0.7563 - aux2_loss: 0.7941 - main_accuracy: 0.7338 - aux1_accuracy: 0.7450 - aux2_accuracy: 0.7358 - val_loss: 6.8061 - val_main_loss: 2.0966 - val_aux1_loss: 2.4653 - val_aux2_loss: 2.2442 - val_main_accuracy: 0.4850 - val_aux1_accuracy: 0.4733 - val_aux2_accuracy: 0.4820\n",
            "Epoch 4/5\n",
            "675/675 - 19s - loss: 1.9961 - main_loss: 0.6788 - aux1_loss: 0.6455 - aux2_loss: 0.6719 - main_accuracy: 0.7780 - aux1_accuracy: 0.7834 - aux2_accuracy: 0.7805 - val_loss: 3.7232 - val_main_loss: 1.2014 - val_aux1_loss: 1.2785 - val_aux2_loss: 1.2434 - val_main_accuracy: 0.6515 - val_aux1_accuracy: 0.6446 - val_aux2_accuracy: 0.6443\n",
            "Epoch 5/5\n",
            "675/675 - 19s - loss: 1.6791 - main_loss: 0.5702 - aux1_loss: 0.5456 - aux2_loss: 0.5633 - main_accuracy: 0.8140 - aux1_accuracy: 0.8192 - aux2_accuracy: 0.8166 - val_loss: 5.5396 - val_main_loss: 1.9577 - val_aux1_loss: 1.7677 - val_aux2_loss: 1.8142 - val_main_accuracy: 0.5365 - val_aux1_accuracy: 0.5533 - val_aux2_accuracy: 0.5430\n"
          ],
          "name": "stdout"
        }
      ]
    },
    {
      "cell_type": "code",
      "metadata": {
        "id": "lqXwsE4JJNC_",
        "colab_type": "code",
        "outputId": "a76f0b16-736c-4e2b-e161-360b20f84fda",
        "colab": {
          "base_uri": "https://localhost:8080/",
          "height": 92
        }
      },
      "source": [
        "# Evaluation of the model\n",
        "scores = model.evaluate(x_test, y_test, verbose=1)\n",
        "print('Loss: ', scores[1],'\\nAccuracy: ', scores[4]*100)\n",
        "#scores"
      ],
      "execution_count": 0,
      "outputs": [
        {
          "output_type": "stream",
          "text": [
            "169/169 [==============================] - 2s 12ms/step - loss: 5.5396 - main_loss: 1.9577 - aux1_loss: 1.7677 - aux2_loss: 1.8142 - main_accuracy: 0.5365 - aux1_accuracy: 0.5533 - aux2_accuracy: 0.5430\n",
            "Loss:  1.9577065706253052 \n",
            "Accuracy:  53.6481499671936\n"
          ],
          "name": "stdout"
        }
      ]
    },
    {
      "cell_type": "code",
      "metadata": {
        "id": "27qEYRZzLbG_",
        "colab_type": "code",
        "outputId": "497b2d42-d33d-405d-f4b9-a98af9e338b8",
        "colab": {
          "base_uri": "https://localhost:8080/",
          "height": 404
        }
      },
      "source": [
        "hist_inception4 = model.fit(x_train, y_train, validation_data=(x_test, y_test), \n",
        "                                     epochs=10, batch_size=32, verbose=2)"
      ],
      "execution_count": 0,
      "outputs": [
        {
          "output_type": "stream",
          "text": [
            "Epoch 1/10\n",
            "675/675 - 19s - loss: 1.5246 - main_loss: 0.5168 - aux1_loss: 0.4973 - aux2_loss: 0.5106 - main_accuracy: 0.8327 - aux1_accuracy: 0.8379 - aux2_accuracy: 0.8375 - val_loss: 2.0807 - val_main_loss: 0.7036 - val_aux1_loss: 0.6873 - val_aux2_loss: 0.6897 - val_main_accuracy: 0.7763 - val_aux1_accuracy: 0.7715 - val_aux2_accuracy: 0.7791\n",
            "Epoch 2/10\n",
            "675/675 - 19s - loss: 1.3370 - main_loss: 0.4535 - aux1_loss: 0.4354 - aux2_loss: 0.4481 - main_accuracy: 0.8510 - aux1_accuracy: 0.8546 - aux2_accuracy: 0.8539 - val_loss: 2.1930 - val_main_loss: 0.7300 - val_aux1_loss: 0.7431 - val_aux2_loss: 0.7199 - val_main_accuracy: 0.7609 - val_aux1_accuracy: 0.7626 - val_aux2_accuracy: 0.7580\n",
            "Epoch 3/10\n",
            "675/675 - 19s - loss: 1.2214 - main_loss: 0.4137 - aux1_loss: 0.3975 - aux2_loss: 0.4102 - main_accuracy: 0.8650 - aux1_accuracy: 0.8681 - aux2_accuracy: 0.8681 - val_loss: 1.0667 - val_main_loss: 0.3649 - val_aux1_loss: 0.3480 - val_aux2_loss: 0.3538 - val_main_accuracy: 0.8848 - val_aux1_accuracy: 0.8893 - val_aux2_accuracy: 0.8883\n",
            "Epoch 4/10\n",
            "675/675 - 19s - loss: 1.1144 - main_loss: 0.3769 - aux1_loss: 0.3645 - aux2_loss: 0.3730 - main_accuracy: 0.8775 - aux1_accuracy: 0.8789 - aux2_accuracy: 0.8805 - val_loss: 4.5629 - val_main_loss: 1.5179 - val_aux1_loss: 1.4800 - val_aux2_loss: 1.5650 - val_main_accuracy: 0.5920 - val_aux1_accuracy: 0.5967 - val_aux2_accuracy: 0.5972\n",
            "Epoch 5/10\n",
            "675/675 - 19s - loss: 1.0161 - main_loss: 0.3417 - aux1_loss: 0.3355 - aux2_loss: 0.3389 - main_accuracy: 0.8896 - aux1_accuracy: 0.8911 - aux2_accuracy: 0.8908 - val_loss: 1.3390 - val_main_loss: 0.4616 - val_aux1_loss: 0.4439 - val_aux2_loss: 0.4335 - val_main_accuracy: 0.8511 - val_aux1_accuracy: 0.8609 - val_aux2_accuracy: 0.8596\n",
            "Epoch 6/10\n",
            "675/675 - 19s - loss: 0.9828 - main_loss: 0.3321 - aux1_loss: 0.3235 - aux2_loss: 0.3272 - main_accuracy: 0.8898 - aux1_accuracy: 0.8921 - aux2_accuracy: 0.8940 - val_loss: 1.5216 - val_main_loss: 0.5010 - val_aux1_loss: 0.5059 - val_aux2_loss: 0.5146 - val_main_accuracy: 0.8280 - val_aux1_accuracy: 0.8274 - val_aux2_accuracy: 0.8235\n",
            "Epoch 7/10\n",
            "675/675 - 19s - loss: 0.9175 - main_loss: 0.3094 - aux1_loss: 0.3021 - aux2_loss: 0.3060 - main_accuracy: 0.9014 - aux1_accuracy: 0.9008 - aux2_accuracy: 0.9030 - val_loss: 1.4123 - val_main_loss: 0.4610 - val_aux1_loss: 0.4804 - val_aux2_loss: 0.4709 - val_main_accuracy: 0.8498 - val_aux1_accuracy: 0.8470 - val_aux2_accuracy: 0.8500\n",
            "Epoch 8/10\n",
            "675/675 - 19s - loss: 0.8659 - main_loss: 0.2905 - aux1_loss: 0.2873 - aux2_loss: 0.2881 - main_accuracy: 0.9063 - aux1_accuracy: 0.9057 - aux2_accuracy: 0.9075 - val_loss: 2.5407 - val_main_loss: 0.8236 - val_aux1_loss: 0.8698 - val_aux2_loss: 0.8473 - val_main_accuracy: 0.7491 - val_aux1_accuracy: 0.7370 - val_aux2_accuracy: 0.7452\n",
            "Epoch 9/10\n",
            "675/675 - 19s - loss: 0.8023 - main_loss: 0.2698 - aux1_loss: 0.2635 - aux2_loss: 0.2690 - main_accuracy: 0.9137 - aux1_accuracy: 0.9173 - aux2_accuracy: 0.9143 - val_loss: 14.4779 - val_main_loss: 4.6113 - val_aux1_loss: 4.7817 - val_aux2_loss: 5.0850 - val_main_accuracy: 0.3159 - val_aux1_accuracy: 0.3281 - val_aux2_accuracy: 0.3100\n",
            "Epoch 10/10\n",
            "675/675 - 19s - loss: 0.7625 - main_loss: 0.2557 - aux1_loss: 0.2533 - aux2_loss: 0.2535 - main_accuracy: 0.9167 - aux1_accuracy: 0.9147 - aux2_accuracy: 0.9175 - val_loss: 2.9103 - val_main_loss: 0.9877 - val_aux1_loss: 0.9138 - val_aux2_loss: 1.0088 - val_main_accuracy: 0.7394 - val_aux1_accuracy: 0.7398 - val_aux2_accuracy: 0.7396\n"
          ],
          "name": "stdout"
        }
      ]
    },
    {
      "cell_type": "code",
      "metadata": {
        "id": "AHgFKdIjLbZ-",
        "colab_type": "code",
        "outputId": "aa02774a-e9b6-4ccb-f8d9-f3595913db2f",
        "colab": {
          "base_uri": "https://localhost:8080/",
          "height": 92
        }
      },
      "source": [
        "scores = model.evaluate(x_test, y_test, verbose=1)\n",
        "print('Loss: ', scores[1],'\\nAccuracy: ', scores[4]*100)"
      ],
      "execution_count": 0,
      "outputs": [
        {
          "output_type": "stream",
          "text": [
            "169/169 [==============================] - 2s 12ms/step - loss: 2.9103 - main_loss: 0.9877 - aux1_loss: 0.9138 - aux2_loss: 1.0088 - main_accuracy: 0.7394 - aux1_accuracy: 0.7398 - aux2_accuracy: 0.7396\n",
            "Loss:  0.9876587390899658 \n",
            "Accuracy:  73.94444346427917\n"
          ],
          "name": "stdout"
        }
      ]
    },
    {
      "cell_type": "code",
      "metadata": {
        "id": "qos1NBYuLbnz",
        "colab_type": "code",
        "outputId": "f9845fc6-ee9e-47d8-d988-ae882c0052db",
        "colab": {
          "base_uri": "https://localhost:8080/",
          "height": 295
        }
      },
      "source": [
        "# Plot training & validation loss values\n",
        "import matplotlib.pyplot as plt\n",
        "\n",
        "plt.plot(hist_inception4.history['main_accuracy'],marker = 'o')\n",
        "plt.plot(hist_inception4.history['val_main_accuracy'], marker = 'o')\n",
        "plt.title('Model Accuracy per Epoch')\n",
        "plt.ylabel('Accuracy')\n",
        "plt.xlabel('Epoch')\n",
        "plt.legend(['Train', 'Test'], loc='best')\n",
        "plt.show()"
      ],
      "execution_count": 0,
      "outputs": [
        {
          "output_type": "display_data",
          "data": {
            "image/png": "[encoded data removed]",
            "text/plain": [
              "<Figure size 432x288 with 1 Axes>"
            ]
          },
          "metadata": {
            "tags": [],
            "needs_background": "light"
          }
        }
      ]
    },
    {
      "cell_type": "code",
      "metadata": {
        "id": "BqzF6jNCNfLc",
        "colab_type": "code",
        "outputId": "059baa9b-9c52-4290-b324-7c3623e3c607",
        "colab": {
          "base_uri": "https://localhost:8080/",
          "height": 295
        }
      },
      "source": [
        "plt.plot(hist_inception4.history['main_loss'],marker = 'o')\n",
        "plt.plot(hist_inception4.history['val_main_loss'], marker = 'o')\n",
        "plt.title('Model Loss per Epoch')\n",
        "plt.ylabel('Loss')\n",
        "plt.xlabel('Epoch')\n",
        "plt.legend(['Train', 'Test'], loc='best')\n",
        "plt.show()"
      ],
      "execution_count": 0,
      "outputs": [
        {
          "output_type": "display_data",
          "data": {
            "image/png": "[encoded data removed]",
            "text/plain": [
              "<Figure size 432x288 with 1 Axes>"
            ]
          },
          "metadata": {
            "tags": [],
            "needs_background": "light"
          }
        }
      ]
    },
    {
      "cell_type": "markdown",
      "metadata": {
        "id": "KZusnPJ1cvs3",
        "colab_type": "text"
      },
      "source": [
        "## **Epochs # 100**"
      ]
    },
    {
      "cell_type": "code",
      "metadata": {
        "id": "cSdZmUyGOFBv",
        "colab_type": "code",
        "outputId": "20b4b8db-e8a7-4cd9-de69-6eeb0dd82c5e",
        "colab": {
          "base_uri": "https://localhost:8080/",
          "height": 1000
        }
      },
      "source": [
        "hist_inception5 = model.fit(x_train, y_train, validation_data=(x_test, y_test), \n",
        "                                     epochs=100, batch_size=128, verbose=2)"
      ],
      "execution_count": 18,
      "outputs": [
        {
          "output_type": "stream",
          "text": [
            "Epoch 1/100\n",
            "169/169 - 10s - loss: 3.7222 - main_loss: 1.2808 - aux1_loss: 1.1655 - aux2_loss: 1.2758 - main_accuracy: 0.5231 - aux1_accuracy: 0.5756 - aux2_accuracy: 0.5334 - val_loss: 5.3241 - val_main_loss: 1.7672 - val_aux1_loss: 1.7796 - val_aux2_loss: 1.7772 - val_main_accuracy: 0.3083 - val_aux1_accuracy: 0.3346 - val_aux2_accuracy: 0.3407\n",
            "Epoch 2/100\n",
            "169/169 - 9s - loss: 2.3798 - main_loss: 0.8128 - aux1_loss: 0.7561 - aux2_loss: 0.8110 - main_accuracy: 0.7198 - aux1_accuracy: 0.7349 - aux2_accuracy: 0.7213 - val_loss: 9.2556 - val_main_loss: 2.9674 - val_aux1_loss: 3.2571 - val_aux2_loss: 3.0312 - val_main_accuracy: 0.3350 - val_aux1_accuracy: 0.3361 - val_aux2_accuracy: 0.3378\n",
            "Epoch 3/100\n",
            "169/169 - 9s - loss: 1.9277 - main_loss: 0.6556 - aux1_loss: 0.6146 - aux2_loss: 0.6574 - main_accuracy: 0.7784 - aux1_accuracy: 0.7878 - aux2_accuracy: 0.7794 - val_loss: 10.7632 - val_main_loss: 3.4203 - val_aux1_loss: 3.7462 - val_aux2_loss: 3.5967 - val_main_accuracy: 0.3328 - val_aux1_accuracy: 0.3361 - val_aux2_accuracy: 0.3263\n",
            "Epoch 4/100\n",
            "169/169 - 9s - loss: 1.5269 - main_loss: 0.5220 - aux1_loss: 0.4837 - aux2_loss: 0.5211 - main_accuracy: 0.8261 - aux1_accuracy: 0.8341 - aux2_accuracy: 0.8264 - val_loss: 8.9038 - val_main_loss: 2.8960 - val_aux1_loss: 3.0858 - val_aux2_loss: 2.9220 - val_main_accuracy: 0.3581 - val_aux1_accuracy: 0.3661 - val_aux2_accuracy: 0.3552\n",
            "Epoch 5/100\n",
            "169/169 - 9s - loss: 1.4430 - main_loss: 0.4905 - aux1_loss: 0.4618 - aux2_loss: 0.4907 - main_accuracy: 0.8355 - aux1_accuracy: 0.8436 - aux2_accuracy: 0.8361 - val_loss: 5.8158 - val_main_loss: 1.9419 - val_aux1_loss: 1.9147 - val_aux2_loss: 1.9592 - val_main_accuracy: 0.5013 - val_aux1_accuracy: 0.5124 - val_aux2_accuracy: 0.5026\n",
            "Epoch 6/100\n",
            "169/169 - 9s - loss: 1.1905 - main_loss: 0.4037 - aux1_loss: 0.3830 - aux2_loss: 0.4038 - main_accuracy: 0.8663 - aux1_accuracy: 0.8717 - aux2_accuracy: 0.8670 - val_loss: 16.7414 - val_main_loss: 5.3569 - val_aux1_loss: 5.7989 - val_aux2_loss: 5.5856 - val_main_accuracy: 0.2537 - val_aux1_accuracy: 0.2606 - val_aux2_accuracy: 0.2580\n",
            "Epoch 7/100\n",
            "169/169 - 9s - loss: 1.1361 - main_loss: 0.3880 - aux1_loss: 0.3620 - aux2_loss: 0.3862 - main_accuracy: 0.8748 - aux1_accuracy: 0.8800 - aux2_accuracy: 0.8756 - val_loss: 4.8848 - val_main_loss: 1.5496 - val_aux1_loss: 1.7586 - val_aux2_loss: 1.5766 - val_main_accuracy: 0.5965 - val_aux1_accuracy: 0.5800 - val_aux2_accuracy: 0.6022\n",
            "Epoch 8/100\n",
            "169/169 - 9s - loss: 1.0057 - main_loss: 0.3442 - aux1_loss: 0.3190 - aux2_loss: 0.3425 - main_accuracy: 0.8845 - aux1_accuracy: 0.8907 - aux2_accuracy: 0.8868 - val_loss: 2.7780 - val_main_loss: 0.9595 - val_aux1_loss: 0.8881 - val_aux2_loss: 0.9304 - val_main_accuracy: 0.7022 - val_aux1_accuracy: 0.7178 - val_aux2_accuracy: 0.7076\n",
            "Epoch 9/100\n",
            "169/169 - 9s - loss: 0.8741 - main_loss: 0.2956 - aux1_loss: 0.2812 - aux2_loss: 0.2973 - main_accuracy: 0.9000 - aux1_accuracy: 0.9051 - aux2_accuracy: 0.9025 - val_loss: 8.8638 - val_main_loss: 2.7559 - val_aux1_loss: 3.1904 - val_aux2_loss: 2.9175 - val_main_accuracy: 0.4515 - val_aux1_accuracy: 0.4565 - val_aux2_accuracy: 0.4548\n",
            "Epoch 10/100\n",
            "169/169 - 9s - loss: 0.7615 - main_loss: 0.2607 - aux1_loss: 0.2433 - aux2_loss: 0.2576 - main_accuracy: 0.9143 - aux1_accuracy: 0.9187 - aux2_accuracy: 0.9159 - val_loss: 5.1940 - val_main_loss: 1.7201 - val_aux1_loss: 1.7475 - val_aux2_loss: 1.7264 - val_main_accuracy: 0.6106 - val_aux1_accuracy: 0.6202 - val_aux2_accuracy: 0.6170\n",
            "Epoch 11/100\n",
            "169/169 - 9s - loss: 0.6886 - main_loss: 0.2355 - aux1_loss: 0.2198 - aux2_loss: 0.2333 - main_accuracy: 0.9216 - aux1_accuracy: 0.9258 - aux2_accuracy: 0.9219 - val_loss: 1.7377 - val_main_loss: 0.5689 - val_aux1_loss: 0.6041 - val_aux2_loss: 0.5647 - val_main_accuracy: 0.8331 - val_aux1_accuracy: 0.8291 - val_aux2_accuracy: 0.8350\n",
            "Epoch 12/100\n",
            "169/169 - 9s - loss: 0.6734 - main_loss: 0.2289 - aux1_loss: 0.2165 - aux2_loss: 0.2280 - main_accuracy: 0.9237 - aux1_accuracy: 0.9276 - aux2_accuracy: 0.9251 - val_loss: 2.5551 - val_main_loss: 0.8705 - val_aux1_loss: 0.8216 - val_aux2_loss: 0.8630 - val_main_accuracy: 0.7454 - val_aux1_accuracy: 0.7496 - val_aux2_accuracy: 0.7493\n",
            "Epoch 13/100\n",
            "169/169 - 9s - loss: 0.6021 - main_loss: 0.2049 - aux1_loss: 0.1919 - aux2_loss: 0.2053 - main_accuracy: 0.9302 - aux1_accuracy: 0.9335 - aux2_accuracy: 0.9311 - val_loss: 6.3060 - val_main_loss: 1.9779 - val_aux1_loss: 2.2768 - val_aux2_loss: 2.0513 - val_main_accuracy: 0.5046 - val_aux1_accuracy: 0.4867 - val_aux2_accuracy: 0.4991\n",
            "Epoch 14/100\n",
            "169/169 - 9s - loss: 0.5479 - main_loss: 0.1853 - aux1_loss: 0.1769 - aux2_loss: 0.1857 - main_accuracy: 0.9368 - aux1_accuracy: 0.9392 - aux2_accuracy: 0.9364 - val_loss: 3.6932 - val_main_loss: 1.1318 - val_aux1_loss: 1.3344 - val_aux2_loss: 1.2270 - val_main_accuracy: 0.7176 - val_aux1_accuracy: 0.7156 - val_aux2_accuracy: 0.7131\n",
            "Epoch 15/100\n",
            "169/169 - 9s - loss: 0.5057 - main_loss: 0.1709 - aux1_loss: 0.1646 - aux2_loss: 0.1702 - main_accuracy: 0.9428 - aux1_accuracy: 0.9449 - aux2_accuracy: 0.9438 - val_loss: 2.3536 - val_main_loss: 0.7967 - val_aux1_loss: 0.7599 - val_aux2_loss: 0.7971 - val_main_accuracy: 0.7719 - val_aux1_accuracy: 0.7761 - val_aux2_accuracy: 0.7722\n",
            "Epoch 16/100\n",
            "169/169 - 9s - loss: 0.5015 - main_loss: 0.1699 - aux1_loss: 0.1604 - aux2_loss: 0.1712 - main_accuracy: 0.9424 - aux1_accuracy: 0.9454 - aux2_accuracy: 0.9437 - val_loss: 1.1441 - val_main_loss: 0.3930 - val_aux1_loss: 0.3691 - val_aux2_loss: 0.3821 - val_main_accuracy: 0.8767 - val_aux1_accuracy: 0.8794 - val_aux2_accuracy: 0.8761\n",
            "Epoch 17/100\n",
            "169/169 - 9s - loss: 0.4560 - main_loss: 0.1543 - aux1_loss: 0.1480 - aux2_loss: 0.1537 - main_accuracy: 0.9475 - aux1_accuracy: 0.9497 - aux2_accuracy: 0.9473 - val_loss: 3.7639 - val_main_loss: 1.2427 - val_aux1_loss: 1.2384 - val_aux2_loss: 1.2828 - val_main_accuracy: 0.7237 - val_aux1_accuracy: 0.7285 - val_aux2_accuracy: 0.7226\n",
            "Epoch 18/100\n",
            "169/169 - 9s - loss: 0.3960 - main_loss: 0.1335 - aux1_loss: 0.1281 - aux2_loss: 0.1344 - main_accuracy: 0.9546 - aux1_accuracy: 0.9563 - aux2_accuracy: 0.9552 - val_loss: 4.2224 - val_main_loss: 1.4494 - val_aux1_loss: 1.3507 - val_aux2_loss: 1.4223 - val_main_accuracy: 0.6161 - val_aux1_accuracy: 0.6400 - val_aux2_accuracy: 0.6278\n",
            "Epoch 19/100\n",
            "169/169 - 9s - loss: 0.3610 - main_loss: 0.1219 - aux1_loss: 0.1174 - aux2_loss: 0.1218 - main_accuracy: 0.9583 - aux1_accuracy: 0.9592 - aux2_accuracy: 0.9581 - val_loss: 0.8688 - val_main_loss: 0.2968 - val_aux1_loss: 0.2780 - val_aux2_loss: 0.2940 - val_main_accuracy: 0.9102 - val_aux1_accuracy: 0.9143 - val_aux2_accuracy: 0.9100\n",
            "Epoch 20/100\n",
            "169/169 - 9s - loss: 0.3485 - main_loss: 0.1173 - aux1_loss: 0.1125 - aux2_loss: 0.1186 - main_accuracy: 0.9609 - aux1_accuracy: 0.9606 - aux2_accuracy: 0.9600 - val_loss: 1.8660 - val_main_loss: 0.6019 - val_aux1_loss: 0.6507 - val_aux2_loss: 0.6135 - val_main_accuracy: 0.8230 - val_aux1_accuracy: 0.8193 - val_aux2_accuracy: 0.8244\n",
            "Epoch 21/100\n",
            "169/169 - 9s - loss: 0.3716 - main_loss: 0.1252 - aux1_loss: 0.1187 - aux2_loss: 0.1278 - main_accuracy: 0.9578 - aux1_accuracy: 0.9601 - aux2_accuracy: 0.9566 - val_loss: 9.9543 - val_main_loss: 3.1749 - val_aux1_loss: 3.4072 - val_aux2_loss: 3.3721 - val_main_accuracy: 0.4287 - val_aux1_accuracy: 0.4331 - val_aux2_accuracy: 0.4320\n",
            "Epoch 22/100\n",
            "169/169 - 9s - loss: 0.3471 - main_loss: 0.1182 - aux1_loss: 0.1121 - aux2_loss: 0.1169 - main_accuracy: 0.9603 - aux1_accuracy: 0.9628 - aux2_accuracy: 0.9604 - val_loss: 2.1601 - val_main_loss: 0.7136 - val_aux1_loss: 0.7190 - val_aux2_loss: 0.7275 - val_main_accuracy: 0.8107 - val_aux1_accuracy: 0.8170 - val_aux2_accuracy: 0.8130\n",
            "Epoch 23/100\n",
            "169/169 - 9s - loss: 0.2873 - main_loss: 0.0965 - aux1_loss: 0.0944 - aux2_loss: 0.0964 - main_accuracy: 0.9658 - aux1_accuracy: 0.9666 - aux2_accuracy: 0.9669 - val_loss: 1.0623 - val_main_loss: 0.3572 - val_aux1_loss: 0.3483 - val_aux2_loss: 0.3568 - val_main_accuracy: 0.8887 - val_aux1_accuracy: 0.8943 - val_aux2_accuracy: 0.8909\n",
            "Epoch 24/100\n",
            "169/169 - 9s - loss: 0.2972 - main_loss: 0.1003 - aux1_loss: 0.0964 - aux2_loss: 0.1005 - main_accuracy: 0.9658 - aux1_accuracy: 0.9661 - aux2_accuracy: 0.9647 - val_loss: 8.2028 - val_main_loss: 2.4782 - val_aux1_loss: 3.1094 - val_aux2_loss: 2.6153 - val_main_accuracy: 0.5385 - val_aux1_accuracy: 0.5354 - val_aux2_accuracy: 0.5381\n",
            "Epoch 25/100\n",
            "169/169 - 9s - loss: 0.2667 - main_loss: 0.0886 - aux1_loss: 0.0875 - aux2_loss: 0.0905 - main_accuracy: 0.9706 - aux1_accuracy: 0.9706 - aux2_accuracy: 0.9705 - val_loss: 6.5752 - val_main_loss: 2.0682 - val_aux1_loss: 2.3268 - val_aux2_loss: 2.1802 - val_main_accuracy: 0.5513 - val_aux1_accuracy: 0.5457 - val_aux2_accuracy: 0.5489\n",
            "Epoch 26/100\n",
            "169/169 - 9s - loss: 0.3683 - main_loss: 0.1256 - aux1_loss: 0.1171 - aux2_loss: 0.1257 - main_accuracy: 0.9576 - aux1_accuracy: 0.9610 - aux2_accuracy: 0.9578 - val_loss: 4.3195 - val_main_loss: 1.3540 - val_aux1_loss: 1.5055 - val_aux2_loss: 1.4600 - val_main_accuracy: 0.7037 - val_aux1_accuracy: 0.6939 - val_aux2_accuracy: 0.6989\n",
            "Epoch 27/100\n",
            "169/169 - 9s - loss: 0.2451 - main_loss: 0.0825 - aux1_loss: 0.0800 - aux2_loss: 0.0826 - main_accuracy: 0.9726 - aux1_accuracy: 0.9731 - aux2_accuracy: 0.9728 - val_loss: 3.0605 - val_main_loss: 0.9724 - val_aux1_loss: 1.0701 - val_aux2_loss: 1.0180 - val_main_accuracy: 0.7467 - val_aux1_accuracy: 0.7361 - val_aux2_accuracy: 0.7391\n",
            "Epoch 28/100\n",
            "169/169 - 9s - loss: 0.2503 - main_loss: 0.0848 - aux1_loss: 0.0807 - aux2_loss: 0.0848 - main_accuracy: 0.9702 - aux1_accuracy: 0.9707 - aux2_accuracy: 0.9702 - val_loss: 3.3011 - val_main_loss: 1.0481 - val_aux1_loss: 1.1598 - val_aux2_loss: 1.0932 - val_main_accuracy: 0.7750 - val_aux1_accuracy: 0.7781 - val_aux2_accuracy: 0.7750\n",
            "Epoch 29/100\n",
            "169/169 - 9s - loss: 0.2156 - main_loss: 0.0723 - aux1_loss: 0.0711 - aux2_loss: 0.0722 - main_accuracy: 0.9750 - aux1_accuracy: 0.9751 - aux2_accuracy: 0.9754 - val_loss: 6.4940 - val_main_loss: 2.1505 - val_aux1_loss: 2.1454 - val_aux2_loss: 2.1981 - val_main_accuracy: 0.6065 - val_aux1_accuracy: 0.6085 - val_aux2_accuracy: 0.6083\n",
            "Epoch 30/100\n",
            "169/169 - 9s - loss: 0.2176 - main_loss: 0.0738 - aux1_loss: 0.0708 - aux2_loss: 0.0729 - main_accuracy: 0.9758 - aux1_accuracy: 0.9763 - aux2_accuracy: 0.9758 - val_loss: 1.1363 - val_main_loss: 0.3657 - val_aux1_loss: 0.3911 - val_aux2_loss: 0.3795 - val_main_accuracy: 0.8852 - val_aux1_accuracy: 0.8844 - val_aux2_accuracy: 0.8828\n",
            "Epoch 31/100\n",
            "169/169 - 9s - loss: 0.2244 - main_loss: 0.0757 - aux1_loss: 0.0727 - aux2_loss: 0.0760 - main_accuracy: 0.9741 - aux1_accuracy: 0.9758 - aux2_accuracy: 0.9750 - val_loss: 3.6028 - val_main_loss: 1.1781 - val_aux1_loss: 1.2089 - val_aux2_loss: 1.2159 - val_main_accuracy: 0.7230 - val_aux1_accuracy: 0.7233 - val_aux2_accuracy: 0.7263\n",
            "Epoch 32/100\n",
            "169/169 - 9s - loss: 0.2199 - main_loss: 0.0742 - aux1_loss: 0.0719 - aux2_loss: 0.0738 - main_accuracy: 0.9742 - aux1_accuracy: 0.9750 - aux2_accuracy: 0.9747 - val_loss: 5.3165 - val_main_loss: 1.6738 - val_aux1_loss: 1.8738 - val_aux2_loss: 1.7689 - val_main_accuracy: 0.6709 - val_aux1_accuracy: 0.6719 - val_aux2_accuracy: 0.6728\n",
            "Epoch 33/100\n",
            "169/169 - 9s - loss: 0.1895 - main_loss: 0.0639 - aux1_loss: 0.0624 - aux2_loss: 0.0632 - main_accuracy: 0.9794 - aux1_accuracy: 0.9797 - aux2_accuracy: 0.9794 - val_loss: 2.2830 - val_main_loss: 0.7585 - val_aux1_loss: 0.7373 - val_aux2_loss: 0.7872 - val_main_accuracy: 0.8150 - val_aux1_accuracy: 0.8163 - val_aux2_accuracy: 0.8130\n",
            "Epoch 34/100\n",
            "169/169 - 9s - loss: 0.1823 - main_loss: 0.0609 - aux1_loss: 0.0590 - aux2_loss: 0.0624 - main_accuracy: 0.9802 - aux1_accuracy: 0.9811 - aux2_accuracy: 0.9799 - val_loss: 1.1167 - val_main_loss: 0.3579 - val_aux1_loss: 0.3840 - val_aux2_loss: 0.3748 - val_main_accuracy: 0.8991 - val_aux1_accuracy: 0.8974 - val_aux2_accuracy: 0.8978\n",
            "Epoch 35/100\n",
            "169/169 - 9s - loss: 0.1852 - main_loss: 0.0621 - aux1_loss: 0.0611 - aux2_loss: 0.0619 - main_accuracy: 0.9797 - aux1_accuracy: 0.9789 - aux2_accuracy: 0.9800 - val_loss: 1.5226 - val_main_loss: 0.4987 - val_aux1_loss: 0.5088 - val_aux2_loss: 0.5150 - val_main_accuracy: 0.8707 - val_aux1_accuracy: 0.8761 - val_aux2_accuracy: 0.8704\n",
            "Epoch 36/100\n",
            "169/169 - 9s - loss: 0.1569 - main_loss: 0.0528 - aux1_loss: 0.0513 - aux2_loss: 0.0528 - main_accuracy: 0.9826 - aux1_accuracy: 0.9826 - aux2_accuracy: 0.9824 - val_loss: 4.1649 - val_main_loss: 1.3726 - val_aux1_loss: 1.4043 - val_aux2_loss: 1.3880 - val_main_accuracy: 0.7328 - val_aux1_accuracy: 0.7365 - val_aux2_accuracy: 0.7344\n",
            "Epoch 37/100\n",
            "169/169 - 9s - loss: 0.1594 - main_loss: 0.0544 - aux1_loss: 0.0516 - aux2_loss: 0.0534 - main_accuracy: 0.9819 - aux1_accuracy: 0.9824 - aux2_accuracy: 0.9824 - val_loss: 1.1034 - val_main_loss: 0.3571 - val_aux1_loss: 0.3746 - val_aux2_loss: 0.3718 - val_main_accuracy: 0.9074 - val_aux1_accuracy: 0.9044 - val_aux2_accuracy: 0.9052\n",
            "Epoch 38/100\n",
            "169/169 - 9s - loss: 0.1567 - main_loss: 0.0529 - aux1_loss: 0.0505 - aux2_loss: 0.0532 - main_accuracy: 0.9825 - aux1_accuracy: 0.9832 - aux2_accuracy: 0.9825 - val_loss: 1.9583 - val_main_loss: 0.6558 - val_aux1_loss: 0.6337 - val_aux2_loss: 0.6688 - val_main_accuracy: 0.8557 - val_aux1_accuracy: 0.8643 - val_aux2_accuracy: 0.8606\n",
            "Epoch 39/100\n",
            "169/169 - 9s - loss: 0.1548 - main_loss: 0.0520 - aux1_loss: 0.0514 - aux2_loss: 0.0514 - main_accuracy: 0.9828 - aux1_accuracy: 0.9829 - aux2_accuracy: 0.9831 - val_loss: 8.0616 - val_main_loss: 2.5658 - val_aux1_loss: 2.7756 - val_aux2_loss: 2.7203 - val_main_accuracy: 0.6050 - val_aux1_accuracy: 0.6063 - val_aux2_accuracy: 0.6033\n",
            "Epoch 40/100\n",
            "169/169 - 9s - loss: 0.1250 - main_loss: 0.0417 - aux1_loss: 0.0408 - aux2_loss: 0.0425 - main_accuracy: 0.9853 - aux1_accuracy: 0.9852 - aux2_accuracy: 0.9859 - val_loss: 2.5127 - val_main_loss: 0.8199 - val_aux1_loss: 0.8458 - val_aux2_loss: 0.8471 - val_main_accuracy: 0.7928 - val_aux1_accuracy: 0.7931 - val_aux2_accuracy: 0.7893\n",
            "Epoch 41/100\n",
            "169/169 - 9s - loss: 0.1236 - main_loss: 0.0406 - aux1_loss: 0.0421 - aux2_loss: 0.0409 - main_accuracy: 0.9862 - aux1_accuracy: 0.9858 - aux2_accuracy: 0.9861 - val_loss: 1.1832 - val_main_loss: 0.3876 - val_aux1_loss: 0.3889 - val_aux2_loss: 0.4067 - val_main_accuracy: 0.9070 - val_aux1_accuracy: 0.9072 - val_aux2_accuracy: 0.9074\n",
            "Epoch 42/100\n",
            "169/169 - 9s - loss: 0.1784 - main_loss: 0.0595 - aux1_loss: 0.0592 - aux2_loss: 0.0598 - main_accuracy: 0.9807 - aux1_accuracy: 0.9815 - aux2_accuracy: 0.9807 - val_loss: 1.0531 - val_main_loss: 0.3564 - val_aux1_loss: 0.3432 - val_aux2_loss: 0.3535 - val_main_accuracy: 0.9094 - val_aux1_accuracy: 0.9124 - val_aux2_accuracy: 0.9115\n",
            "Epoch 43/100\n",
            "169/169 - 9s - loss: 0.0971 - main_loss: 0.0321 - aux1_loss: 0.0325 - aux2_loss: 0.0324 - main_accuracy: 0.9892 - aux1_accuracy: 0.9889 - aux2_accuracy: 0.9896 - val_loss: 1.8019 - val_main_loss: 0.5744 - val_aux1_loss: 0.6415 - val_aux2_loss: 0.5860 - val_main_accuracy: 0.8543 - val_aux1_accuracy: 0.8467 - val_aux2_accuracy: 0.8539\n",
            "Epoch 44/100\n",
            "169/169 - 9s - loss: 0.0940 - main_loss: 0.0314 - aux1_loss: 0.0310 - aux2_loss: 0.0315 - main_accuracy: 0.9887 - aux1_accuracy: 0.9889 - aux2_accuracy: 0.9893 - val_loss: 1.9291 - val_main_loss: 0.6288 - val_aux1_loss: 0.6521 - val_aux2_loss: 0.6483 - val_main_accuracy: 0.8609 - val_aux1_accuracy: 0.8620 - val_aux2_accuracy: 0.8600\n",
            "Epoch 45/100\n",
            "169/169 - 9s - loss: 0.1114 - main_loss: 0.0378 - aux1_loss: 0.0369 - aux2_loss: 0.0367 - main_accuracy: 0.9877 - aux1_accuracy: 0.9881 - aux2_accuracy: 0.9875 - val_loss: 2.3905 - val_main_loss: 0.7955 - val_aux1_loss: 0.7774 - val_aux2_loss: 0.8175 - val_main_accuracy: 0.8117 - val_aux1_accuracy: 0.8224 - val_aux2_accuracy: 0.8143\n",
            "Epoch 46/100\n",
            "169/169 - 9s - loss: 0.0801 - main_loss: 0.0266 - aux1_loss: 0.0265 - aux2_loss: 0.0270 - main_accuracy: 0.9906 - aux1_accuracy: 0.9903 - aux2_accuracy: 0.9904 - val_loss: 2.0278 - val_main_loss: 0.6608 - val_aux1_loss: 0.6800 - val_aux2_loss: 0.6871 - val_main_accuracy: 0.8906 - val_aux1_accuracy: 0.8939 - val_aux2_accuracy: 0.8919\n",
            "Epoch 47/100\n",
            "169/169 - 9s - loss: 0.1074 - main_loss: 0.0354 - aux1_loss: 0.0363 - aux2_loss: 0.0357 - main_accuracy: 0.9881 - aux1_accuracy: 0.9879 - aux2_accuracy: 0.9882 - val_loss: 4.0247 - val_main_loss: 1.3184 - val_aux1_loss: 1.3105 - val_aux2_loss: 1.3958 - val_main_accuracy: 0.7300 - val_aux1_accuracy: 0.7294 - val_aux2_accuracy: 0.7269\n",
            "Epoch 48/100\n",
            "169/169 - 9s - loss: 0.0869 - main_loss: 0.0283 - aux1_loss: 0.0295 - aux2_loss: 0.0291 - main_accuracy: 0.9903 - aux1_accuracy: 0.9904 - aux2_accuracy: 0.9913 - val_loss: 0.9912 - val_main_loss: 0.3354 - val_aux1_loss: 0.3204 - val_aux2_loss: 0.3355 - val_main_accuracy: 0.9226 - val_aux1_accuracy: 0.9254 - val_aux2_accuracy: 0.9230\n",
            "Epoch 49/100\n",
            "169/169 - 9s - loss: 0.0841 - main_loss: 0.0279 - aux1_loss: 0.0282 - aux2_loss: 0.0280 - main_accuracy: 0.9904 - aux1_accuracy: 0.9906 - aux2_accuracy: 0.9912 - val_loss: 1.1852 - val_main_loss: 0.3935 - val_aux1_loss: 0.3865 - val_aux2_loss: 0.4051 - val_main_accuracy: 0.9200 - val_aux1_accuracy: 0.9222 - val_aux2_accuracy: 0.9211\n",
            "Epoch 50/100\n",
            "169/169 - 9s - loss: 0.1224 - main_loss: 0.0415 - aux1_loss: 0.0395 - aux2_loss: 0.0414 - main_accuracy: 0.9873 - aux1_accuracy: 0.9874 - aux2_accuracy: 0.9871 - val_loss: 1.6867 - val_main_loss: 0.5473 - val_aux1_loss: 0.5948 - val_aux2_loss: 0.5446 - val_main_accuracy: 0.8646 - val_aux1_accuracy: 0.8633 - val_aux2_accuracy: 0.8663\n",
            "Epoch 51/100\n",
            "169/169 - 9s - loss: 0.0803 - main_loss: 0.0269 - aux1_loss: 0.0269 - aux2_loss: 0.0265 - main_accuracy: 0.9910 - aux1_accuracy: 0.9907 - aux2_accuracy: 0.9915 - val_loss: 5.2288 - val_main_loss: 1.6256 - val_aux1_loss: 1.8532 - val_aux2_loss: 1.7499 - val_main_accuracy: 0.7094 - val_aux1_accuracy: 0.7120 - val_aux2_accuracy: 0.7098\n",
            "Epoch 52/100\n",
            "169/169 - 9s - loss: 0.2154 - main_loss: 0.0731 - aux1_loss: 0.0691 - aux2_loss: 0.0731 - main_accuracy: 0.9771 - aux1_accuracy: 0.9778 - aux2_accuracy: 0.9774 - val_loss: 3.1986 - val_main_loss: 1.0720 - val_aux1_loss: 1.0776 - val_aux2_loss: 1.0491 - val_main_accuracy: 0.7626 - val_aux1_accuracy: 0.7615 - val_aux2_accuracy: 0.7639\n",
            "Epoch 53/100\n",
            "169/169 - 9s - loss: 0.1392 - main_loss: 0.0468 - aux1_loss: 0.0452 - aux2_loss: 0.0471 - main_accuracy: 0.9844 - aux1_accuracy: 0.9840 - aux2_accuracy: 0.9843 - val_loss: 2.9607 - val_main_loss: 0.9719 - val_aux1_loss: 0.9974 - val_aux2_loss: 0.9914 - val_main_accuracy: 0.7722 - val_aux1_accuracy: 0.7706 - val_aux2_accuracy: 0.7750\n",
            "Epoch 54/100\n",
            "169/169 - 9s - loss: 0.0977 - main_loss: 0.0328 - aux1_loss: 0.0326 - aux2_loss: 0.0324 - main_accuracy: 0.9887 - aux1_accuracy: 0.9892 - aux2_accuracy: 0.9886 - val_loss: 1.7167 - val_main_loss: 0.5343 - val_aux1_loss: 0.6206 - val_aux2_loss: 0.5618 - val_main_accuracy: 0.8698 - val_aux1_accuracy: 0.8663 - val_aux2_accuracy: 0.8698\n",
            "Epoch 55/100\n",
            "169/169 - 9s - loss: 0.0742 - main_loss: 0.0241 - aux1_loss: 0.0254 - aux2_loss: 0.0247 - main_accuracy: 0.9920 - aux1_accuracy: 0.9924 - aux2_accuracy: 0.9925 - val_loss: 3.2957 - val_main_loss: 1.0537 - val_aux1_loss: 1.1262 - val_aux2_loss: 1.1157 - val_main_accuracy: 0.7841 - val_aux1_accuracy: 0.7802 - val_aux2_accuracy: 0.7835\n",
            "Epoch 56/100\n",
            "169/169 - 9s - loss: 0.0505 - main_loss: 0.0160 - aux1_loss: 0.0173 - aux2_loss: 0.0172 - main_accuracy: 0.9946 - aux1_accuracy: 0.9936 - aux2_accuracy: 0.9939 - val_loss: 2.2881 - val_main_loss: 0.7562 - val_aux1_loss: 0.7694 - val_aux2_loss: 0.7625 - val_main_accuracy: 0.8419 - val_aux1_accuracy: 0.8428 - val_aux2_accuracy: 0.8446\n",
            "Epoch 57/100\n",
            "169/169 - 9s - loss: 0.0792 - main_loss: 0.0267 - aux1_loss: 0.0263 - aux2_loss: 0.0262 - main_accuracy: 0.9907 - aux1_accuracy: 0.9910 - aux2_accuracy: 0.9911 - val_loss: 7.4677 - val_main_loss: 2.2540 - val_aux1_loss: 2.6895 - val_aux2_loss: 2.5242 - val_main_accuracy: 0.7011 - val_aux1_accuracy: 0.7030 - val_aux2_accuracy: 0.7033\n",
            "Epoch 58/100\n",
            "169/169 - 9s - loss: 0.1099 - main_loss: 0.0367 - aux1_loss: 0.0367 - aux2_loss: 0.0365 - main_accuracy: 0.9872 - aux1_accuracy: 0.9876 - aux2_accuracy: 0.9875 - val_loss: 1.6577 - val_main_loss: 0.5280 - val_aux1_loss: 0.5767 - val_aux2_loss: 0.5530 - val_main_accuracy: 0.8802 - val_aux1_accuracy: 0.8743 - val_aux2_accuracy: 0.8800\n",
            "Epoch 59/100\n",
            "169/169 - 9s - loss: 0.0611 - main_loss: 0.0202 - aux1_loss: 0.0199 - aux2_loss: 0.0209 - main_accuracy: 0.9932 - aux1_accuracy: 0.9938 - aux2_accuracy: 0.9935 - val_loss: 1.2486 - val_main_loss: 0.4066 - val_aux1_loss: 0.4310 - val_aux2_loss: 0.4111 - val_main_accuracy: 0.9106 - val_aux1_accuracy: 0.9094 - val_aux2_accuracy: 0.9124\n",
            "Epoch 60/100\n",
            "169/169 - 9s - loss: 0.0916 - main_loss: 0.0317 - aux1_loss: 0.0286 - aux2_loss: 0.0313 - main_accuracy: 0.9897 - aux1_accuracy: 0.9909 - aux2_accuracy: 0.9902 - val_loss: 2.1644 - val_main_loss: 0.7146 - val_aux1_loss: 0.7117 - val_aux2_loss: 0.7382 - val_main_accuracy: 0.8457 - val_aux1_accuracy: 0.8443 - val_aux2_accuracy: 0.8454\n",
            "Epoch 61/100\n",
            "169/169 - 9s - loss: 0.0558 - main_loss: 0.0186 - aux1_loss: 0.0186 - aux2_loss: 0.0186 - main_accuracy: 0.9935 - aux1_accuracy: 0.9938 - aux2_accuracy: 0.9938 - val_loss: 2.6192 - val_main_loss: 0.8632 - val_aux1_loss: 0.8866 - val_aux2_loss: 0.8694 - val_main_accuracy: 0.8300 - val_aux1_accuracy: 0.8330 - val_aux2_accuracy: 0.8324\n",
            "Epoch 62/100\n",
            "169/169 - 9s - loss: 0.0682 - main_loss: 0.0224 - aux1_loss: 0.0229 - aux2_loss: 0.0229 - main_accuracy: 0.9925 - aux1_accuracy: 0.9925 - aux2_accuracy: 0.9925 - val_loss: 0.8653 - val_main_loss: 0.2885 - val_aux1_loss: 0.2831 - val_aux2_loss: 0.2938 - val_main_accuracy: 0.9413 - val_aux1_accuracy: 0.9450 - val_aux2_accuracy: 0.9424\n",
            "Epoch 63/100\n",
            "169/169 - 9s - loss: 0.0552 - main_loss: 0.0180 - aux1_loss: 0.0192 - aux2_loss: 0.0180 - main_accuracy: 0.9941 - aux1_accuracy: 0.9944 - aux2_accuracy: 0.9941 - val_loss: 1.7621 - val_main_loss: 0.5969 - val_aux1_loss: 0.5643 - val_aux2_loss: 0.6009 - val_main_accuracy: 0.8787 - val_aux1_accuracy: 0.8859 - val_aux2_accuracy: 0.8804\n",
            "Epoch 64/100\n",
            "169/169 - 9s - loss: 0.0852 - main_loss: 0.0284 - aux1_loss: 0.0273 - aux2_loss: 0.0295 - main_accuracy: 0.9914 - aux1_accuracy: 0.9916 - aux2_accuracy: 0.9912 - val_loss: 2.2456 - val_main_loss: 0.7113 - val_aux1_loss: 0.8012 - val_aux2_loss: 0.7332 - val_main_accuracy: 0.8481 - val_aux1_accuracy: 0.8487 - val_aux2_accuracy: 0.8480\n",
            "Epoch 65/100\n",
            "169/169 - 9s - loss: 0.0471 - main_loss: 0.0153 - aux1_loss: 0.0160 - aux2_loss: 0.0158 - main_accuracy: 0.9949 - aux1_accuracy: 0.9953 - aux2_accuracy: 0.9953 - val_loss: 1.1219 - val_main_loss: 0.3765 - val_aux1_loss: 0.3600 - val_aux2_loss: 0.3854 - val_main_accuracy: 0.9219 - val_aux1_accuracy: 0.9235 - val_aux2_accuracy: 0.9226\n",
            "Epoch 66/100\n",
            "169/169 - 9s - loss: 0.0523 - main_loss: 0.0175 - aux1_loss: 0.0173 - aux2_loss: 0.0175 - main_accuracy: 0.9944 - aux1_accuracy: 0.9946 - aux2_accuracy: 0.9944 - val_loss: 0.9659 - val_main_loss: 0.3115 - val_aux1_loss: 0.3338 - val_aux2_loss: 0.3206 - val_main_accuracy: 0.9302 - val_aux1_accuracy: 0.9302 - val_aux2_accuracy: 0.9309\n",
            "Epoch 67/100\n",
            "169/169 - 9s - loss: 0.0325 - main_loss: 0.0108 - aux1_loss: 0.0112 - aux2_loss: 0.0106 - main_accuracy: 0.9967 - aux1_accuracy: 0.9968 - aux2_accuracy: 0.9968 - val_loss: 1.4619 - val_main_loss: 0.4813 - val_aux1_loss: 0.4723 - val_aux2_loss: 0.5083 - val_main_accuracy: 0.9139 - val_aux1_accuracy: 0.9156 - val_aux2_accuracy: 0.9115\n",
            "Epoch 68/100\n",
            "169/169 - 9s - loss: 0.0366 - main_loss: 0.0120 - aux1_loss: 0.0125 - aux2_loss: 0.0121 - main_accuracy: 0.9955 - aux1_accuracy: 0.9957 - aux2_accuracy: 0.9961 - val_loss: 3.4140 - val_main_loss: 1.0816 - val_aux1_loss: 1.1780 - val_aux2_loss: 1.1545 - val_main_accuracy: 0.8150 - val_aux1_accuracy: 0.8109 - val_aux2_accuracy: 0.8137\n",
            "Epoch 69/100\n",
            "169/169 - 9s - loss: 0.0359 - main_loss: 0.0115 - aux1_loss: 0.0126 - aux2_loss: 0.0119 - main_accuracy: 0.9961 - aux1_accuracy: 0.9965 - aux2_accuracy: 0.9962 - val_loss: 1.0767 - val_main_loss: 0.3540 - val_aux1_loss: 0.3492 - val_aux2_loss: 0.3735 - val_main_accuracy: 0.9356 - val_aux1_accuracy: 0.9335 - val_aux2_accuracy: 0.9343\n",
            "Epoch 70/100\n",
            "169/169 - 9s - loss: 0.0494 - main_loss: 0.0162 - aux1_loss: 0.0166 - aux2_loss: 0.0167 - main_accuracy: 0.9956 - aux1_accuracy: 0.9948 - aux2_accuracy: 0.9954 - val_loss: 1.9873 - val_main_loss: 0.6292 - val_aux1_loss: 0.6751 - val_aux2_loss: 0.6830 - val_main_accuracy: 0.8759 - val_aux1_accuracy: 0.8757 - val_aux2_accuracy: 0.8737\n",
            "Epoch 71/100\n",
            "169/169 - 9s - loss: 0.0405 - main_loss: 0.0130 - aux1_loss: 0.0136 - aux2_loss: 0.0140 - main_accuracy: 0.9956 - aux1_accuracy: 0.9955 - aux2_accuracy: 0.9956 - val_loss: 2.0715 - val_main_loss: 0.6501 - val_aux1_loss: 0.7349 - val_aux2_loss: 0.6865 - val_main_accuracy: 0.8724 - val_aux1_accuracy: 0.8733 - val_aux2_accuracy: 0.8730\n",
            "Epoch 72/100\n",
            "169/169 - 9s - loss: 0.0435 - main_loss: 0.0146 - aux1_loss: 0.0144 - aux2_loss: 0.0145 - main_accuracy: 0.9953 - aux1_accuracy: 0.9949 - aux2_accuracy: 0.9954 - val_loss: 3.0853 - val_main_loss: 0.9574 - val_aux1_loss: 1.1252 - val_aux2_loss: 1.0028 - val_main_accuracy: 0.8085 - val_aux1_accuracy: 0.7993 - val_aux2_accuracy: 0.8081\n",
            "Epoch 73/100\n",
            "169/169 - 9s - loss: 0.0793 - main_loss: 0.0266 - aux1_loss: 0.0255 - aux2_loss: 0.0273 - main_accuracy: 0.9912 - aux1_accuracy: 0.9916 - aux2_accuracy: 0.9914 - val_loss: 1.3969 - val_main_loss: 0.4639 - val_aux1_loss: 0.4464 - val_aux2_loss: 0.4865 - val_main_accuracy: 0.9089 - val_aux1_accuracy: 0.9135 - val_aux2_accuracy: 0.9091\n",
            "Epoch 74/100\n",
            "169/169 - 9s - loss: 0.0349 - main_loss: 0.0114 - aux1_loss: 0.0122 - aux2_loss: 0.0113 - main_accuracy: 0.9966 - aux1_accuracy: 0.9960 - aux2_accuracy: 0.9968 - val_loss: 0.9743 - val_main_loss: 0.3306 - val_aux1_loss: 0.3025 - val_aux2_loss: 0.3412 - val_main_accuracy: 0.9441 - val_aux1_accuracy: 0.9459 - val_aux2_accuracy: 0.9444\n",
            "Epoch 75/100\n",
            "169/169 - 9s - loss: 0.0334 - main_loss: 0.0113 - aux1_loss: 0.0111 - aux2_loss: 0.0111 - main_accuracy: 0.9959 - aux1_accuracy: 0.9961 - aux2_accuracy: 0.9958 - val_loss: 2.9990 - val_main_loss: 0.9525 - val_aux1_loss: 1.0388 - val_aux2_loss: 1.0077 - val_main_accuracy: 0.8252 - val_aux1_accuracy: 0.8213 - val_aux2_accuracy: 0.8243\n",
            "Epoch 76/100\n",
            "169/169 - 9s - loss: 0.0697 - main_loss: 0.0229 - aux1_loss: 0.0234 - aux2_loss: 0.0234 - main_accuracy: 0.9930 - aux1_accuracy: 0.9923 - aux2_accuracy: 0.9922 - val_loss: 1.1890 - val_main_loss: 0.3809 - val_aux1_loss: 0.4102 - val_aux2_loss: 0.3978 - val_main_accuracy: 0.9152 - val_aux1_accuracy: 0.9141 - val_aux2_accuracy: 0.9154\n",
            "Epoch 77/100\n",
            "169/169 - 9s - loss: 0.0187 - main_loss: 0.0059 - aux1_loss: 0.0065 - aux2_loss: 0.0063 - main_accuracy: 0.9983 - aux1_accuracy: 0.9980 - aux2_accuracy: 0.9982 - val_loss: 1.4954 - val_main_loss: 0.5073 - val_aux1_loss: 0.4777 - val_aux2_loss: 0.5104 - val_main_accuracy: 0.9185 - val_aux1_accuracy: 0.9187 - val_aux2_accuracy: 0.9191\n",
            "Epoch 78/100\n",
            "169/169 - 9s - loss: 0.0421 - main_loss: 0.0138 - aux1_loss: 0.0141 - aux2_loss: 0.0142 - main_accuracy: 0.9951 - aux1_accuracy: 0.9957 - aux2_accuracy: 0.9956 - val_loss: 3.0608 - val_main_loss: 0.9992 - val_aux1_loss: 1.0264 - val_aux2_loss: 1.0352 - val_main_accuracy: 0.8176 - val_aux1_accuracy: 0.8204 - val_aux2_accuracy: 0.8200\n",
            "Epoch 79/100\n",
            "169/169 - 9s - loss: 0.0336 - main_loss: 0.0109 - aux1_loss: 0.0114 - aux2_loss: 0.0112 - main_accuracy: 0.9965 - aux1_accuracy: 0.9961 - aux2_accuracy: 0.9963 - val_loss: 1.4957 - val_main_loss: 0.4792 - val_aux1_loss: 0.5122 - val_aux2_loss: 0.5044 - val_main_accuracy: 0.9043 - val_aux1_accuracy: 0.9022 - val_aux2_accuracy: 0.9022\n",
            "Epoch 80/100\n",
            "169/169 - 9s - loss: 0.0464 - main_loss: 0.0153 - aux1_loss: 0.0158 - aux2_loss: 0.0153 - main_accuracy: 0.9947 - aux1_accuracy: 0.9947 - aux2_accuracy: 0.9950 - val_loss: 2.6487 - val_main_loss: 0.8441 - val_aux1_loss: 0.8950 - val_aux2_loss: 0.9095 - val_main_accuracy: 0.8189 - val_aux1_accuracy: 0.8156 - val_aux2_accuracy: 0.8170\n",
            "Epoch 81/100\n",
            "169/169 - 9s - loss: 0.0606 - main_loss: 0.0200 - aux1_loss: 0.0208 - aux2_loss: 0.0197 - main_accuracy: 0.9942 - aux1_accuracy: 0.9942 - aux2_accuracy: 0.9943 - val_loss: 4.1124 - val_main_loss: 1.3394 - val_aux1_loss: 1.3908 - val_aux2_loss: 1.3823 - val_main_accuracy: 0.7720 - val_aux1_accuracy: 0.7717 - val_aux2_accuracy: 0.7741\n",
            "Epoch 82/100\n",
            "169/169 - 9s - loss: 0.0084 - main_loss: 0.0026 - aux1_loss: 0.0032 - aux2_loss: 0.0026 - main_accuracy: 0.9993 - aux1_accuracy: 0.9990 - aux2_accuracy: 0.9993 - val_loss: 1.1468 - val_main_loss: 0.3915 - val_aux1_loss: 0.3624 - val_aux2_loss: 0.3929 - val_main_accuracy: 0.9367 - val_aux1_accuracy: 0.9376 - val_aux2_accuracy: 0.9365\n",
            "Epoch 83/100\n",
            "169/169 - 9s - loss: 0.0131 - main_loss: 0.0045 - aux1_loss: 0.0042 - aux2_loss: 0.0044 - main_accuracy: 0.9986 - aux1_accuracy: 0.9984 - aux2_accuracy: 0.9986 - val_loss: 1.7159 - val_main_loss: 0.5710 - val_aux1_loss: 0.5495 - val_aux2_loss: 0.5954 - val_main_accuracy: 0.9072 - val_aux1_accuracy: 0.9106 - val_aux2_accuracy: 0.9072\n",
            "Epoch 84/100\n",
            "169/169 - 9s - loss: 0.0614 - main_loss: 0.0208 - aux1_loss: 0.0193 - aux2_loss: 0.0213 - main_accuracy: 0.9931 - aux1_accuracy: 0.9935 - aux2_accuracy: 0.9933 - val_loss: 2.8636 - val_main_loss: 0.9474 - val_aux1_loss: 0.9414 - val_aux2_loss: 0.9748 - val_main_accuracy: 0.8274 - val_aux1_accuracy: 0.8391 - val_aux2_accuracy: 0.8287\n",
            "Epoch 85/100\n",
            "169/169 - 9s - loss: 0.0443 - main_loss: 0.0143 - aux1_loss: 0.0161 - aux2_loss: 0.0138 - main_accuracy: 0.9951 - aux1_accuracy: 0.9946 - aux2_accuracy: 0.9956 - val_loss: 1.0987 - val_main_loss: 0.3625 - val_aux1_loss: 0.3546 - val_aux2_loss: 0.3816 - val_main_accuracy: 0.9317 - val_aux1_accuracy: 0.9304 - val_aux2_accuracy: 0.9315\n",
            "Epoch 86/100\n",
            "169/169 - 9s - loss: 0.0208 - main_loss: 0.0066 - aux1_loss: 0.0075 - aux2_loss: 0.0067 - main_accuracy: 0.9981 - aux1_accuracy: 0.9975 - aux2_accuracy: 0.9977 - val_loss: 1.2727 - val_main_loss: 0.4263 - val_aux1_loss: 0.4113 - val_aux2_loss: 0.4351 - val_main_accuracy: 0.9202 - val_aux1_accuracy: 0.9219 - val_aux2_accuracy: 0.9204\n",
            "Epoch 87/100\n",
            "169/169 - 9s - loss: 0.0161 - main_loss: 0.0050 - aux1_loss: 0.0057 - aux2_loss: 0.0054 - main_accuracy: 0.9986 - aux1_accuracy: 0.9984 - aux2_accuracy: 0.9983 - val_loss: 4.6172 - val_main_loss: 1.5340 - val_aux1_loss: 1.5339 - val_aux2_loss: 1.5493 - val_main_accuracy: 0.7798 - val_aux1_accuracy: 0.7874 - val_aux2_accuracy: 0.7830\n",
            "Epoch 88/100\n",
            "169/169 - 9s - loss: 0.0714 - main_loss: 0.0235 - aux1_loss: 0.0241 - aux2_loss: 0.0237 - main_accuracy: 0.9929 - aux1_accuracy: 0.9929 - aux2_accuracy: 0.9927 - val_loss: 1.4417 - val_main_loss: 0.5032 - val_aux1_loss: 0.4335 - val_aux2_loss: 0.5050 - val_main_accuracy: 0.9083 - val_aux1_accuracy: 0.9167 - val_aux2_accuracy: 0.9104\n",
            "Epoch 89/100\n",
            "169/169 - 9s - loss: 0.0483 - main_loss: 0.0161 - aux1_loss: 0.0162 - aux2_loss: 0.0161 - main_accuracy: 0.9956 - aux1_accuracy: 0.9954 - aux2_accuracy: 0.9956 - val_loss: 1.0010 - val_main_loss: 0.3232 - val_aux1_loss: 0.3422 - val_aux2_loss: 0.3356 - val_main_accuracy: 0.9322 - val_aux1_accuracy: 0.9357 - val_aux2_accuracy: 0.9322\n",
            "Epoch 90/100\n",
            "169/169 - 9s - loss: 0.0236 - main_loss: 0.0073 - aux1_loss: 0.0087 - aux2_loss: 0.0075 - main_accuracy: 0.9977 - aux1_accuracy: 0.9970 - aux2_accuracy: 0.9976 - val_loss: 3.8803 - val_main_loss: 1.2358 - val_aux1_loss: 1.3576 - val_aux2_loss: 1.2869 - val_main_accuracy: 0.7952 - val_aux1_accuracy: 0.7933 - val_aux2_accuracy: 0.7937\n",
            "Epoch 91/100\n",
            "169/169 - 9s - loss: 0.0269 - main_loss: 0.0089 - aux1_loss: 0.0090 - aux2_loss: 0.0091 - main_accuracy: 0.9975 - aux1_accuracy: 0.9972 - aux2_accuracy: 0.9975 - val_loss: 2.1280 - val_main_loss: 0.6595 - val_aux1_loss: 0.7712 - val_aux2_loss: 0.6973 - val_main_accuracy: 0.8826 - val_aux1_accuracy: 0.8783 - val_aux2_accuracy: 0.8822\n",
            "Epoch 92/100\n",
            "169/169 - 9s - loss: 0.0274 - main_loss: 0.0092 - aux1_loss: 0.0088 - aux2_loss: 0.0095 - main_accuracy: 0.9971 - aux1_accuracy: 0.9973 - aux2_accuracy: 0.9970 - val_loss: 2.5515 - val_main_loss: 0.8074 - val_aux1_loss: 0.8616 - val_aux2_loss: 0.8825 - val_main_accuracy: 0.8378 - val_aux1_accuracy: 0.8380 - val_aux2_accuracy: 0.8369\n",
            "Epoch 93/100\n",
            "169/169 - 9s - loss: 0.0467 - main_loss: 0.0157 - aux1_loss: 0.0157 - aux2_loss: 0.0153 - main_accuracy: 0.9946 - aux1_accuracy: 0.9951 - aux2_accuracy: 0.9953 - val_loss: 1.1358 - val_main_loss: 0.3754 - val_aux1_loss: 0.3660 - val_aux2_loss: 0.3944 - val_main_accuracy: 0.9285 - val_aux1_accuracy: 0.9285 - val_aux2_accuracy: 0.9287\n",
            "Epoch 94/100\n",
            "169/169 - 9s - loss: 0.0298 - main_loss: 0.0100 - aux1_loss: 0.0101 - aux2_loss: 0.0098 - main_accuracy: 0.9969 - aux1_accuracy: 0.9967 - aux2_accuracy: 0.9968 - val_loss: 3.2296 - val_main_loss: 1.0434 - val_aux1_loss: 1.0819 - val_aux2_loss: 1.1043 - val_main_accuracy: 0.8061 - val_aux1_accuracy: 0.8111 - val_aux2_accuracy: 0.8063\n",
            "Epoch 95/100\n",
            "169/169 - 9s - loss: 0.0263 - main_loss: 0.0087 - aux1_loss: 0.0088 - aux2_loss: 0.0088 - main_accuracy: 0.9970 - aux1_accuracy: 0.9970 - aux2_accuracy: 0.9970 - val_loss: 1.5472 - val_main_loss: 0.5130 - val_aux1_loss: 0.4969 - val_aux2_loss: 0.5373 - val_main_accuracy: 0.9106 - val_aux1_accuracy: 0.9176 - val_aux2_accuracy: 0.9094\n",
            "Epoch 96/100\n",
            "169/169 - 9s - loss: 0.0322 - main_loss: 0.0104 - aux1_loss: 0.0110 - aux2_loss: 0.0108 - main_accuracy: 0.9966 - aux1_accuracy: 0.9964 - aux2_accuracy: 0.9968 - val_loss: 4.9475 - val_main_loss: 1.5702 - val_aux1_loss: 1.6651 - val_aux2_loss: 1.7122 - val_main_accuracy: 0.7852 - val_aux1_accuracy: 0.7948 - val_aux2_accuracy: 0.7843\n",
            "Epoch 97/100\n",
            "169/169 - 9s - loss: 0.0211 - main_loss: 0.0068 - aux1_loss: 0.0074 - aux2_loss: 0.0070 - main_accuracy: 0.9979 - aux1_accuracy: 0.9978 - aux2_accuracy: 0.9980 - val_loss: 12.9444 - val_main_loss: 4.1161 - val_aux1_loss: 4.5022 - val_aux2_loss: 4.3261 - val_main_accuracy: 0.5143 - val_aux1_accuracy: 0.5141 - val_aux2_accuracy: 0.5144\n",
            "Epoch 98/100\n",
            "169/169 - 9s - loss: 0.0454 - main_loss: 0.0158 - aux1_loss: 0.0144 - aux2_loss: 0.0152 - main_accuracy: 0.9951 - aux1_accuracy: 0.9955 - aux2_accuracy: 0.9952 - val_loss: 5.5807 - val_main_loss: 1.7186 - val_aux1_loss: 1.9577 - val_aux2_loss: 1.9044 - val_main_accuracy: 0.7500 - val_aux1_accuracy: 0.7535 - val_aux2_accuracy: 0.7496\n",
            "Epoch 99/100\n",
            "169/169 - 9s - loss: 0.0470 - main_loss: 0.0157 - aux1_loss: 0.0156 - aux2_loss: 0.0156 - main_accuracy: 0.9956 - aux1_accuracy: 0.9956 - aux2_accuracy: 0.9958 - val_loss: 1.9573 - val_main_loss: 0.6176 - val_aux1_loss: 0.6793 - val_aux2_loss: 0.6603 - val_main_accuracy: 0.8785 - val_aux1_accuracy: 0.8837 - val_aux2_accuracy: 0.8815\n",
            "Epoch 100/100\n",
            "169/169 - 9s - loss: 0.0189 - main_loss: 0.0060 - aux1_loss: 0.0070 - aux2_loss: 0.0059 - main_accuracy: 0.9981 - aux1_accuracy: 0.9977 - aux2_accuracy: 0.9981 - val_loss: 5.2933 - val_main_loss: 1.7407 - val_aux1_loss: 1.7444 - val_aux2_loss: 1.8083 - val_main_accuracy: 0.7531 - val_aux1_accuracy: 0.7541 - val_aux2_accuracy: 0.7507\n"
          ],
          "name": "stdout"
        }
      ]
    },
    {
      "cell_type": "code",
      "metadata": {
        "id": "3J0V6IgLOFmU",
        "colab_type": "code",
        "outputId": "a2c77c88-62de-453d-a0e3-b7ea9180283f",
        "colab": {
          "base_uri": "https://localhost:8080/",
          "height": 92
        }
      },
      "source": [
        "scores = model.evaluate(x_test, y_test, verbose=1)\n",
        "print('Loss: ', scores[1],'\\nAccuracy: ', scores[4]*100)"
      ],
      "execution_count": 19,
      "outputs": [
        {
          "output_type": "stream",
          "text": [
            "169/169 [==============================] - 2s 12ms/step - loss: 5.3150 - main_loss: 1.7475 - aux1_loss: 1.7534 - aux2_loss: 1.8141 - main_accuracy: 0.7531 - aux1_accuracy: 0.7541 - aux2_accuracy: 0.7507\n",
            "Loss:  1.747546911239624 \n",
            "Accuracy:  75.31481385231018\n"
          ],
          "name": "stdout"
        }
      ]
    },
    {
      "cell_type": "code",
      "metadata": {
        "id": "J5mFvoTcZV5I",
        "colab_type": "code",
        "outputId": "724eca91-328d-4bc5-a982-f5e5e1780fab",
        "colab": {
          "base_uri": "https://localhost:8080/",
          "height": 295
        }
      },
      "source": [
        "plt.plot(hist_inception5.history['main_accuracy'])\n",
        "plt.plot(hist_inception5.history['val_main_accuracy'])\n",
        "plt.title('Model Accuracy per Epoch')\n",
        "plt.ylabel('Accuracy')\n",
        "plt.xlabel('Epoch')\n",
        "plt.legend(['Train', 'Test'], loc='best')\n",
        "plt.show()"
      ],
      "execution_count": 20,
      "outputs": [
        {
          "output_type": "display_data",
          "data": {
            "image/png": "[encoded data removed]",
            "text/plain": [
              "<Figure size 432x288 with 1 Axes>"
            ]
          },
          "metadata": {
            "tags": [],
            "needs_background": "light"
          }
        }
      ]
    },
    {
      "cell_type": "code",
      "metadata": {
        "id": "MFie6VNtZged",
        "colab_type": "code",
        "outputId": "afc75b83-9a7b-4dbb-b1f1-ebbecc86cbfd",
        "colab": {
          "base_uri": "https://localhost:8080/",
          "height": 295
        }
      },
      "source": [
        "plt.plot(hist_inception5.history['main_loss'])\n",
        "plt.plot(hist_inception5.history['val_main_loss'])\n",
        "plt.title('Model Loss per Epoch')\n",
        "plt.ylabel('Loss')\n",
        "plt.xlabel('Epoch')\n",
        "plt.legend(['Train', 'Test'], loc='best')\n",
        "plt.show()"
      ],
      "execution_count": 21,
      "outputs": [
        {
          "output_type": "display_data",
          "data": {
            "image/png": "[encoded data removed]",
            "text/plain": [
              "<Figure size 432x288 with 1 Axes>"
            ]
          },
          "metadata": {
            "tags": [],
            "needs_background": "light"
          }
        }
      ]
    },
    {
      "cell_type": "markdown",
      "metadata": {
        "id": "6vsl1Y-mfN6c",
        "colab_type": "text"
      },
      "source": [
        "## **Epochs # 150**"
      ]
    },
    {
      "cell_type": "code",
      "metadata": {
        "id": "ahvOpvn9SYIN",
        "colab_type": "code",
        "outputId": "56b71ed0-27e7-4fc0-ca93-373913f0d79f",
        "colab": {
          "base_uri": "https://localhost:8080/",
          "height": 1000
        }
      },
      "source": [
        "hist_inception6 = model.fit(x_train, y_train, validation_data=(x_test, y_test), \n",
        "                                     epochs=150, batch_size=128, verbose=2)"
      ],
      "execution_count": 38,
      "outputs": [
        {
          "output_type": "stream",
          "text": [
            "Epoch 1/150\n",
            "169/169 - 9s - loss: 3.8822 - main_loss: 1.3339 - aux1_loss: 1.2186 - aux2_loss: 1.3297 - main_accuracy: 0.5006 - aux1_accuracy: 0.5500 - aux2_accuracy: 0.5063 - val_loss: 5.2765 - val_main_loss: 1.7627 - val_aux1_loss: 1.7671 - val_aux2_loss: 1.7467 - val_main_accuracy: 0.4087 - val_aux1_accuracy: 0.4215 - val_aux2_accuracy: 0.4311\n",
            "Epoch 2/150\n",
            "169/169 - 9s - loss: 2.3993 - main_loss: 0.8222 - aux1_loss: 0.7590 - aux2_loss: 0.8180 - main_accuracy: 0.7173 - aux1_accuracy: 0.7323 - aux2_accuracy: 0.7190 - val_loss: 6.9163 - val_main_loss: 2.3217 - val_aux1_loss: 2.2937 - val_aux2_loss: 2.3009 - val_main_accuracy: 0.3531 - val_aux1_accuracy: 0.3661 - val_aux2_accuracy: 0.3594\n",
            "Epoch 3/150\n",
            "169/169 - 9s - loss: 1.9350 - main_loss: 0.6575 - aux1_loss: 0.6241 - aux2_loss: 0.6534 - main_accuracy: 0.7730 - aux1_accuracy: 0.7837 - aux2_accuracy: 0.7749 - val_loss: 5.8694 - val_main_loss: 2.0770 - val_aux1_loss: 1.8065 - val_aux2_loss: 1.9859 - val_main_accuracy: 0.4431 - val_aux1_accuracy: 0.4839 - val_aux2_accuracy: 0.4548\n",
            "Epoch 4/150\n",
            "169/169 - 9s - loss: 1.5676 - main_loss: 0.5332 - aux1_loss: 0.5028 - aux2_loss: 0.5317 - main_accuracy: 0.8239 - aux1_accuracy: 0.8335 - aux2_accuracy: 0.8256 - val_loss: 3.3642 - val_main_loss: 1.1278 - val_aux1_loss: 1.1182 - val_aux2_loss: 1.1182 - val_main_accuracy: 0.6354 - val_aux1_accuracy: 0.6343 - val_aux2_accuracy: 0.6367\n",
            "Epoch 5/150\n",
            "169/169 - 9s - loss: 1.3503 - main_loss: 0.4586 - aux1_loss: 0.4334 - aux2_loss: 0.4583 - main_accuracy: 0.8494 - aux1_accuracy: 0.8555 - aux2_accuracy: 0.8498 - val_loss: 3.8449 - val_main_loss: 1.2965 - val_aux1_loss: 1.2490 - val_aux2_loss: 1.2994 - val_main_accuracy: 0.6187 - val_aux1_accuracy: 0.6215 - val_aux2_accuracy: 0.6228\n",
            "Epoch 6/150\n",
            "169/169 - 9s - loss: 1.2431 - main_loss: 0.4234 - aux1_loss: 0.3991 - aux2_loss: 0.4207 - main_accuracy: 0.8595 - aux1_accuracy: 0.8653 - aux2_accuracy: 0.8613 - val_loss: 2.7099 - val_main_loss: 0.9007 - val_aux1_loss: 0.9086 - val_aux2_loss: 0.9006 - val_main_accuracy: 0.7265 - val_aux1_accuracy: 0.7293 - val_aux2_accuracy: 0.7330\n",
            "Epoch 7/150\n",
            "169/169 - 9s - loss: 1.0814 - main_loss: 0.3699 - aux1_loss: 0.3455 - aux2_loss: 0.3660 - main_accuracy: 0.8796 - aux1_accuracy: 0.8831 - aux2_accuracy: 0.8813 - val_loss: 1.8646 - val_main_loss: 0.6126 - val_aux1_loss: 0.6442 - val_aux2_loss: 0.6078 - val_main_accuracy: 0.7909 - val_aux1_accuracy: 0.7835 - val_aux2_accuracy: 0.7941\n",
            "Epoch 8/150\n",
            "169/169 - 9s - loss: 1.0082 - main_loss: 0.3442 - aux1_loss: 0.3230 - aux2_loss: 0.3410 - main_accuracy: 0.8848 - aux1_accuracy: 0.8916 - aux2_accuracy: 0.8868 - val_loss: 2.1110 - val_main_loss: 0.6996 - val_aux1_loss: 0.7197 - val_aux2_loss: 0.6917 - val_main_accuracy: 0.7493 - val_aux1_accuracy: 0.7328 - val_aux2_accuracy: 0.7450\n",
            "Epoch 9/150\n",
            "169/169 - 9s - loss: 0.9135 - main_loss: 0.3091 - aux1_loss: 0.2955 - aux2_loss: 0.3089 - main_accuracy: 0.8962 - aux1_accuracy: 0.9006 - aux2_accuracy: 0.8977 - val_loss: 4.6182 - val_main_loss: 1.5188 - val_aux1_loss: 1.5990 - val_aux2_loss: 1.5004 - val_main_accuracy: 0.6339 - val_aux1_accuracy: 0.6283 - val_aux2_accuracy: 0.6406\n",
            "Epoch 10/150\n",
            "169/169 - 9s - loss: 0.8599 - main_loss: 0.2941 - aux1_loss: 0.2768 - aux2_loss: 0.2890 - main_accuracy: 0.9031 - aux1_accuracy: 0.9067 - aux2_accuracy: 0.9055 - val_loss: 1.9083 - val_main_loss: 0.6573 - val_aux1_loss: 0.6143 - val_aux2_loss: 0.6368 - val_main_accuracy: 0.7861 - val_aux1_accuracy: 0.7920 - val_aux2_accuracy: 0.7898\n",
            "Epoch 11/150\n",
            "169/169 - 9s - loss: 0.7782 - main_loss: 0.2650 - aux1_loss: 0.2512 - aux2_loss: 0.2620 - main_accuracy: 0.9104 - aux1_accuracy: 0.9156 - aux2_accuracy: 0.9123 - val_loss: 3.1596 - val_main_loss: 1.0491 - val_aux1_loss: 1.0622 - val_aux2_loss: 1.0483 - val_main_accuracy: 0.7106 - val_aux1_accuracy: 0.7080 - val_aux2_accuracy: 0.7120\n",
            "Epoch 12/150\n",
            "169/169 - 9s - loss: 0.7667 - main_loss: 0.2615 - aux1_loss: 0.2476 - aux2_loss: 0.2576 - main_accuracy: 0.9122 - aux1_accuracy: 0.9151 - aux2_accuracy: 0.9130 - val_loss: 1.9859 - val_main_loss: 0.6445 - val_aux1_loss: 0.6860 - val_aux2_loss: 0.6554 - val_main_accuracy: 0.7900 - val_aux1_accuracy: 0.7787 - val_aux2_accuracy: 0.7869\n",
            "Epoch 13/150\n",
            "169/169 - 9s - loss: 0.6636 - main_loss: 0.2254 - aux1_loss: 0.2154 - aux2_loss: 0.2228 - main_accuracy: 0.9237 - aux1_accuracy: 0.9275 - aux2_accuracy: 0.9256 - val_loss: 5.2130 - val_main_loss: 1.8283 - val_aux1_loss: 1.5915 - val_aux2_loss: 1.7932 - val_main_accuracy: 0.6161 - val_aux1_accuracy: 0.6304 - val_aux2_accuracy: 0.6204\n",
            "Epoch 14/150\n",
            "169/169 - 9s - loss: 0.5978 - main_loss: 0.2018 - aux1_loss: 0.1934 - aux2_loss: 0.2025 - main_accuracy: 0.9323 - aux1_accuracy: 0.9348 - aux2_accuracy: 0.9350 - val_loss: 9.5892 - val_main_loss: 3.1022 - val_aux1_loss: 3.3613 - val_aux2_loss: 3.1258 - val_main_accuracy: 0.3781 - val_aux1_accuracy: 0.3828 - val_aux2_accuracy: 0.3769\n",
            "Epoch 15/150\n",
            "169/169 - 9s - loss: 0.5846 - main_loss: 0.1996 - aux1_loss: 0.1890 - aux2_loss: 0.1960 - main_accuracy: 0.9338 - aux1_accuracy: 0.9373 - aux2_accuracy: 0.9342 - val_loss: 2.5164 - val_main_loss: 0.8348 - val_aux1_loss: 0.8278 - val_aux2_loss: 0.8539 - val_main_accuracy: 0.7954 - val_aux1_accuracy: 0.7957 - val_aux2_accuracy: 0.7931\n",
            "Epoch 16/150\n",
            "169/169 - 9s - loss: 0.5374 - main_loss: 0.1814 - aux1_loss: 0.1750 - aux2_loss: 0.1810 - main_accuracy: 0.9402 - aux1_accuracy: 0.9407 - aux2_accuracy: 0.9409 - val_loss: 2.7633 - val_main_loss: 0.8984 - val_aux1_loss: 0.9355 - val_aux2_loss: 0.9294 - val_main_accuracy: 0.7437 - val_aux1_accuracy: 0.7411 - val_aux2_accuracy: 0.7381\n",
            "Epoch 17/150\n",
            "169/169 - 9s - loss: 0.4789 - main_loss: 0.1622 - aux1_loss: 0.1556 - aux2_loss: 0.1612 - main_accuracy: 0.9460 - aux1_accuracy: 0.9480 - aux2_accuracy: 0.9469 - val_loss: 1.4052 - val_main_loss: 0.4636 - val_aux1_loss: 0.4815 - val_aux2_loss: 0.4600 - val_main_accuracy: 0.8550 - val_aux1_accuracy: 0.8520 - val_aux2_accuracy: 0.8581\n",
            "Epoch 18/150\n",
            "169/169 - 9s - loss: 0.4643 - main_loss: 0.1566 - aux1_loss: 0.1506 - aux2_loss: 0.1571 - main_accuracy: 0.9456 - aux1_accuracy: 0.9474 - aux2_accuracy: 0.9462 - val_loss: 1.6087 - val_main_loss: 0.5357 - val_aux1_loss: 0.5410 - val_aux2_loss: 0.5320 - val_main_accuracy: 0.8456 - val_aux1_accuracy: 0.8363 - val_aux2_accuracy: 0.8470\n",
            "Epoch 19/150\n",
            "169/169 - 9s - loss: 0.3854 - main_loss: 0.1297 - aux1_loss: 0.1259 - aux2_loss: 0.1298 - main_accuracy: 0.9559 - aux1_accuracy: 0.9585 - aux2_accuracy: 0.9570 - val_loss: 1.4979 - val_main_loss: 0.5016 - val_aux1_loss: 0.4836 - val_aux2_loss: 0.5127 - val_main_accuracy: 0.8578 - val_aux1_accuracy: 0.8633 - val_aux2_accuracy: 0.8578\n",
            "Epoch 20/150\n",
            "169/169 - 9s - loss: 0.4269 - main_loss: 0.1438 - aux1_loss: 0.1389 - aux2_loss: 0.1442 - main_accuracy: 0.9499 - aux1_accuracy: 0.9518 - aux2_accuracy: 0.9506 - val_loss: 1.7409 - val_main_loss: 0.5851 - val_aux1_loss: 0.5836 - val_aux2_loss: 0.5722 - val_main_accuracy: 0.8250 - val_aux1_accuracy: 0.8287 - val_aux2_accuracy: 0.8285\n",
            "Epoch 21/150\n",
            "169/169 - 9s - loss: 0.3532 - main_loss: 0.1190 - aux1_loss: 0.1144 - aux2_loss: 0.1198 - main_accuracy: 0.9594 - aux1_accuracy: 0.9622 - aux2_accuracy: 0.9607 - val_loss: 1.5479 - val_main_loss: 0.4947 - val_aux1_loss: 0.5522 - val_aux2_loss: 0.5010 - val_main_accuracy: 0.8570 - val_aux1_accuracy: 0.8589 - val_aux2_accuracy: 0.8576\n",
            "Epoch 22/150\n",
            "169/169 - 9s - loss: 0.3402 - main_loss: 0.1137 - aux1_loss: 0.1122 - aux2_loss: 0.1143 - main_accuracy: 0.9613 - aux1_accuracy: 0.9620 - aux2_accuracy: 0.9609 - val_loss: 3.3997 - val_main_loss: 1.1080 - val_aux1_loss: 1.1515 - val_aux2_loss: 1.1402 - val_main_accuracy: 0.7350 - val_aux1_accuracy: 0.7372 - val_aux2_accuracy: 0.7354\n",
            "Epoch 23/150\n",
            "169/169 - 9s - loss: 0.3347 - main_loss: 0.1120 - aux1_loss: 0.1107 - aux2_loss: 0.1120 - main_accuracy: 0.9610 - aux1_accuracy: 0.9631 - aux2_accuracy: 0.9628 - val_loss: 3.4129 - val_main_loss: 1.0860 - val_aux1_loss: 1.2047 - val_aux2_loss: 1.1222 - val_main_accuracy: 0.7204 - val_aux1_accuracy: 0.7007 - val_aux2_accuracy: 0.7189\n",
            "Epoch 24/150\n",
            "169/169 - 9s - loss: 0.3373 - main_loss: 0.1135 - aux1_loss: 0.1101 - aux2_loss: 0.1136 - main_accuracy: 0.9610 - aux1_accuracy: 0.9629 - aux2_accuracy: 0.9621 - val_loss: 1.0816 - val_main_loss: 0.3660 - val_aux1_loss: 0.3544 - val_aux2_loss: 0.3613 - val_main_accuracy: 0.8956 - val_aux1_accuracy: 0.9007 - val_aux2_accuracy: 0.8976\n",
            "Epoch 25/150\n",
            "169/169 - 9s - loss: 0.3128 - main_loss: 0.1056 - aux1_loss: 0.1022 - aux2_loss: 0.1050 - main_accuracy: 0.9652 - aux1_accuracy: 0.9669 - aux2_accuracy: 0.9656 - val_loss: 0.9881 - val_main_loss: 0.3374 - val_aux1_loss: 0.3116 - val_aux2_loss: 0.3391 - val_main_accuracy: 0.9056 - val_aux1_accuracy: 0.9102 - val_aux2_accuracy: 0.9087\n",
            "Epoch 26/150\n",
            "169/169 - 9s - loss: 0.2889 - main_loss: 0.0978 - aux1_loss: 0.0939 - aux2_loss: 0.0972 - main_accuracy: 0.9669 - aux1_accuracy: 0.9674 - aux2_accuracy: 0.9667 - val_loss: 1.3673 - val_main_loss: 0.4442 - val_aux1_loss: 0.4619 - val_aux2_loss: 0.4611 - val_main_accuracy: 0.8752 - val_aux1_accuracy: 0.8733 - val_aux2_accuracy: 0.8752\n",
            "Epoch 27/150\n",
            "169/169 - 9s - loss: 0.2870 - main_loss: 0.0971 - aux1_loss: 0.0933 - aux2_loss: 0.0966 - main_accuracy: 0.9678 - aux1_accuracy: 0.9688 - aux2_accuracy: 0.9672 - val_loss: 2.2160 - val_main_loss: 0.6953 - val_aux1_loss: 0.8024 - val_aux2_loss: 0.7183 - val_main_accuracy: 0.8191 - val_aux1_accuracy: 0.8150 - val_aux2_accuracy: 0.8183\n",
            "Epoch 28/150\n",
            "169/169 - 9s - loss: 0.2341 - main_loss: 0.0783 - aux1_loss: 0.0764 - aux2_loss: 0.0794 - main_accuracy: 0.9749 - aux1_accuracy: 0.9748 - aux2_accuracy: 0.9737 - val_loss: 9.9110 - val_main_loss: 3.0943 - val_aux1_loss: 3.4670 - val_aux2_loss: 3.3498 - val_main_accuracy: 0.5154 - val_aux1_accuracy: 0.5209 - val_aux2_accuracy: 0.5100\n",
            "Epoch 29/150\n",
            "169/169 - 9s - loss: 0.2378 - main_loss: 0.0802 - aux1_loss: 0.0768 - aux2_loss: 0.0808 - main_accuracy: 0.9736 - aux1_accuracy: 0.9741 - aux2_accuracy: 0.9738 - val_loss: 1.8742 - val_main_loss: 0.6148 - val_aux1_loss: 0.6276 - val_aux2_loss: 0.6318 - val_main_accuracy: 0.8519 - val_aux1_accuracy: 0.8474 - val_aux2_accuracy: 0.8515\n",
            "Epoch 30/150\n",
            "169/169 - 9s - loss: 0.2367 - main_loss: 0.0807 - aux1_loss: 0.0767 - aux2_loss: 0.0793 - main_accuracy: 0.9730 - aux1_accuracy: 0.9732 - aux2_accuracy: 0.9730 - val_loss: 1.5611 - val_main_loss: 0.5220 - val_aux1_loss: 0.5269 - val_aux2_loss: 0.5123 - val_main_accuracy: 0.8607 - val_aux1_accuracy: 0.8672 - val_aux2_accuracy: 0.8663\n",
            "Epoch 31/150\n",
            "169/169 - 9s - loss: 0.2133 - main_loss: 0.0712 - aux1_loss: 0.0710 - aux2_loss: 0.0711 - main_accuracy: 0.9748 - aux1_accuracy: 0.9760 - aux2_accuracy: 0.9749 - val_loss: 9.5578 - val_main_loss: 3.1256 - val_aux1_loss: 3.1790 - val_aux2_loss: 3.2531 - val_main_accuracy: 0.5826 - val_aux1_accuracy: 0.5931 - val_aux2_accuracy: 0.5907\n",
            "Epoch 32/150\n",
            "169/169 - 9s - loss: 0.1766 - main_loss: 0.0594 - aux1_loss: 0.0581 - aux2_loss: 0.0591 - main_accuracy: 0.9806 - aux1_accuracy: 0.9804 - aux2_accuracy: 0.9806 - val_loss: 1.4666 - val_main_loss: 0.4863 - val_aux1_loss: 0.4853 - val_aux2_loss: 0.4951 - val_main_accuracy: 0.8800 - val_aux1_accuracy: 0.8778 - val_aux2_accuracy: 0.8806\n",
            "Epoch 33/150\n",
            "169/169 - 9s - loss: 0.2019 - main_loss: 0.0679 - aux1_loss: 0.0667 - aux2_loss: 0.0672 - main_accuracy: 0.9775 - aux1_accuracy: 0.9774 - aux2_accuracy: 0.9775 - val_loss: 3.4293 - val_main_loss: 1.0971 - val_aux1_loss: 1.1669 - val_aux2_loss: 1.1654 - val_main_accuracy: 0.7507 - val_aux1_accuracy: 0.7519 - val_aux2_accuracy: 0.7487\n",
            "Epoch 34/150\n",
            "169/169 - 9s - loss: 0.1812 - main_loss: 0.0607 - aux1_loss: 0.0599 - aux2_loss: 0.0606 - main_accuracy: 0.9800 - aux1_accuracy: 0.9800 - aux2_accuracy: 0.9812 - val_loss: 2.5729 - val_main_loss: 0.8329 - val_aux1_loss: 0.8788 - val_aux2_loss: 0.8613 - val_main_accuracy: 0.8150 - val_aux1_accuracy: 0.8144 - val_aux2_accuracy: 0.8156\n",
            "Epoch 35/150\n",
            "169/169 - 9s - loss: 0.1731 - main_loss: 0.0576 - aux1_loss: 0.0578 - aux2_loss: 0.0576 - main_accuracy: 0.9804 - aux1_accuracy: 0.9804 - aux2_accuracy: 0.9805 - val_loss: 1.1408 - val_main_loss: 0.4108 - val_aux1_loss: 0.3247 - val_aux2_loss: 0.4053 - val_main_accuracy: 0.9096 - val_aux1_accuracy: 0.9191 - val_aux2_accuracy: 0.9113\n",
            "Epoch 36/150\n",
            "169/169 - 9s - loss: 0.1619 - main_loss: 0.0550 - aux1_loss: 0.0523 - aux2_loss: 0.0546 - main_accuracy: 0.9819 - aux1_accuracy: 0.9822 - aux2_accuracy: 0.9817 - val_loss: 5.3067 - val_main_loss: 1.6432 - val_aux1_loss: 1.8647 - val_aux2_loss: 1.7988 - val_main_accuracy: 0.7089 - val_aux1_accuracy: 0.6998 - val_aux2_accuracy: 0.7087\n",
            "Epoch 37/150\n",
            "169/169 - 9s - loss: 0.1569 - main_loss: 0.0528 - aux1_loss: 0.0522 - aux2_loss: 0.0519 - main_accuracy: 0.9832 - aux1_accuracy: 0.9830 - aux2_accuracy: 0.9830 - val_loss: 0.8624 - val_main_loss: 0.2936 - val_aux1_loss: 0.2665 - val_aux2_loss: 0.3023 - val_main_accuracy: 0.9239 - val_aux1_accuracy: 0.9263 - val_aux2_accuracy: 0.9243\n",
            "Epoch 38/150\n",
            "169/169 - 9s - loss: 0.1640 - main_loss: 0.0552 - aux1_loss: 0.0544 - aux2_loss: 0.0543 - main_accuracy: 0.9816 - aux1_accuracy: 0.9817 - aux2_accuracy: 0.9819 - val_loss: 2.3013 - val_main_loss: 0.7569 - val_aux1_loss: 0.7773 - val_aux2_loss: 0.7672 - val_main_accuracy: 0.8185 - val_aux1_accuracy: 0.8176 - val_aux2_accuracy: 0.8183\n",
            "Epoch 39/150\n",
            "169/169 - 9s - loss: 0.1661 - main_loss: 0.0549 - aux1_loss: 0.0547 - aux2_loss: 0.0566 - main_accuracy: 0.9817 - aux1_accuracy: 0.9819 - aux2_accuracy: 0.9814 - val_loss: 12.9697 - val_main_loss: 4.1891 - val_aux1_loss: 4.4363 - val_aux2_loss: 4.3443 - val_main_accuracy: 0.5100 - val_aux1_accuracy: 0.5072 - val_aux2_accuracy: 0.5104\n",
            "Epoch 40/150\n",
            "169/169 - 9s - loss: 0.1352 - main_loss: 0.0461 - aux1_loss: 0.0439 - aux2_loss: 0.0452 - main_accuracy: 0.9849 - aux1_accuracy: 0.9850 - aux2_accuracy: 0.9852 - val_loss: 2.8360 - val_main_loss: 0.9160 - val_aux1_loss: 0.9673 - val_aux2_loss: 0.9527 - val_main_accuracy: 0.8020 - val_aux1_accuracy: 0.7952 - val_aux2_accuracy: 0.8024\n",
            "Epoch 41/150\n",
            "169/169 - 9s - loss: 0.1470 - main_loss: 0.0489 - aux1_loss: 0.0488 - aux2_loss: 0.0493 - main_accuracy: 0.9832 - aux1_accuracy: 0.9834 - aux2_accuracy: 0.9835 - val_loss: 1.6627 - val_main_loss: 0.5382 - val_aux1_loss: 0.5792 - val_aux2_loss: 0.5453 - val_main_accuracy: 0.8648 - val_aux1_accuracy: 0.8670 - val_aux2_accuracy: 0.8650\n",
            "Epoch 42/150\n",
            "169/169 - 9s - loss: 0.1208 - main_loss: 0.0406 - aux1_loss: 0.0401 - aux2_loss: 0.0401 - main_accuracy: 0.9863 - aux1_accuracy: 0.9866 - aux2_accuracy: 0.9869 - val_loss: 1.7042 - val_main_loss: 0.5628 - val_aux1_loss: 0.5728 - val_aux2_loss: 0.5686 - val_main_accuracy: 0.8689 - val_aux1_accuracy: 0.8719 - val_aux2_accuracy: 0.8694\n",
            "Epoch 43/150\n",
            "169/169 - 9s - loss: 0.1389 - main_loss: 0.0464 - aux1_loss: 0.0460 - aux2_loss: 0.0465 - main_accuracy: 0.9844 - aux1_accuracy: 0.9847 - aux2_accuracy: 0.9837 - val_loss: 1.3646 - val_main_loss: 0.4674 - val_aux1_loss: 0.4400 - val_aux2_loss: 0.4572 - val_main_accuracy: 0.8861 - val_aux1_accuracy: 0.8874 - val_aux2_accuracy: 0.8889\n",
            "Epoch 44/150\n",
            "169/169 - 9s - loss: 0.1097 - main_loss: 0.0366 - aux1_loss: 0.0358 - aux2_loss: 0.0373 - main_accuracy: 0.9878 - aux1_accuracy: 0.9882 - aux2_accuracy: 0.9878 - val_loss: 1.3530 - val_main_loss: 0.4554 - val_aux1_loss: 0.4400 - val_aux2_loss: 0.4576 - val_main_accuracy: 0.8928 - val_aux1_accuracy: 0.8967 - val_aux2_accuracy: 0.8952\n",
            "Epoch 45/150\n",
            "169/169 - 9s - loss: 0.1433 - main_loss: 0.0482 - aux1_loss: 0.0467 - aux2_loss: 0.0484 - main_accuracy: 0.9842 - aux1_accuracy: 0.9851 - aux2_accuracy: 0.9848 - val_loss: 1.3175 - val_main_loss: 0.4284 - val_aux1_loss: 0.4393 - val_aux2_loss: 0.4499 - val_main_accuracy: 0.8913 - val_aux1_accuracy: 0.8922 - val_aux2_accuracy: 0.8907\n",
            "Epoch 46/150\n",
            "169/169 - 9s - loss: 0.1053 - main_loss: 0.0355 - aux1_loss: 0.0344 - aux2_loss: 0.0353 - main_accuracy: 0.9882 - aux1_accuracy: 0.9888 - aux2_accuracy: 0.9886 - val_loss: 1.1427 - val_main_loss: 0.3701 - val_aux1_loss: 0.3978 - val_aux2_loss: 0.3748 - val_main_accuracy: 0.9178 - val_aux1_accuracy: 0.9126 - val_aux2_accuracy: 0.9185\n",
            "Epoch 47/150\n",
            "169/169 - 9s - loss: 0.0910 - main_loss: 0.0306 - aux1_loss: 0.0300 - aux2_loss: 0.0303 - main_accuracy: 0.9895 - aux1_accuracy: 0.9895 - aux2_accuracy: 0.9891 - val_loss: 1.1180 - val_main_loss: 0.3684 - val_aux1_loss: 0.3754 - val_aux2_loss: 0.3743 - val_main_accuracy: 0.9150 - val_aux1_accuracy: 0.9180 - val_aux2_accuracy: 0.9161\n",
            "Epoch 48/150\n",
            "169/169 - 9s - loss: 0.0751 - main_loss: 0.0248 - aux1_loss: 0.0252 - aux2_loss: 0.0251 - main_accuracy: 0.9910 - aux1_accuracy: 0.9915 - aux2_accuracy: 0.9917 - val_loss: 2.2718 - val_main_loss: 0.7734 - val_aux1_loss: 0.7220 - val_aux2_loss: 0.7764 - val_main_accuracy: 0.8493 - val_aux1_accuracy: 0.8548 - val_aux2_accuracy: 0.8528\n",
            "Epoch 49/150\n",
            "169/169 - 9s - loss: 0.1075 - main_loss: 0.0362 - aux1_loss: 0.0351 - aux2_loss: 0.0362 - main_accuracy: 0.9876 - aux1_accuracy: 0.9883 - aux2_accuracy: 0.9878 - val_loss: 0.8048 - val_main_loss: 0.2629 - val_aux1_loss: 0.2728 - val_aux2_loss: 0.2690 - val_main_accuracy: 0.9346 - val_aux1_accuracy: 0.9335 - val_aux2_accuracy: 0.9343\n",
            "Epoch 50/150\n",
            "169/169 - 9s - loss: 0.0825 - main_loss: 0.0270 - aux1_loss: 0.0273 - aux2_loss: 0.0282 - main_accuracy: 0.9912 - aux1_accuracy: 0.9914 - aux2_accuracy: 0.9910 - val_loss: 1.3500 - val_main_loss: 0.4546 - val_aux1_loss: 0.4328 - val_aux2_loss: 0.4626 - val_main_accuracy: 0.8959 - val_aux1_accuracy: 0.8996 - val_aux2_accuracy: 0.8941\n",
            "Epoch 51/150\n",
            "169/169 - 9s - loss: 0.1021 - main_loss: 0.0346 - aux1_loss: 0.0328 - aux2_loss: 0.0348 - main_accuracy: 0.9892 - aux1_accuracy: 0.9900 - aux2_accuracy: 0.9892 - val_loss: 1.4963 - val_main_loss: 0.4931 - val_aux1_loss: 0.4953 - val_aux2_loss: 0.5079 - val_main_accuracy: 0.8881 - val_aux1_accuracy: 0.8948 - val_aux2_accuracy: 0.8902\n",
            "Epoch 52/150\n",
            "169/169 - 9s - loss: 0.1085 - main_loss: 0.0372 - aux1_loss: 0.0352 - aux2_loss: 0.0361 - main_accuracy: 0.9879 - aux1_accuracy: 0.9883 - aux2_accuracy: 0.9880 - val_loss: 0.8994 - val_main_loss: 0.2960 - val_aux1_loss: 0.3014 - val_aux2_loss: 0.3020 - val_main_accuracy: 0.9272 - val_aux1_accuracy: 0.9285 - val_aux2_accuracy: 0.9278\n",
            "Epoch 53/150\n",
            "169/169 - 9s - loss: 0.0836 - main_loss: 0.0285 - aux1_loss: 0.0278 - aux2_loss: 0.0273 - main_accuracy: 0.9907 - aux1_accuracy: 0.9910 - aux2_accuracy: 0.9910 - val_loss: 1.2387 - val_main_loss: 0.3818 - val_aux1_loss: 0.4668 - val_aux2_loss: 0.3901 - val_main_accuracy: 0.9006 - val_aux1_accuracy: 0.8957 - val_aux2_accuracy: 0.9026\n",
            "Epoch 54/150\n",
            "169/169 - 9s - loss: 0.0842 - main_loss: 0.0279 - aux1_loss: 0.0287 - aux2_loss: 0.0277 - main_accuracy: 0.9911 - aux1_accuracy: 0.9906 - aux2_accuracy: 0.9911 - val_loss: 16.0437 - val_main_loss: 5.0685 - val_aux1_loss: 5.7714 - val_aux2_loss: 5.2038 - val_main_accuracy: 0.3874 - val_aux1_accuracy: 0.3946 - val_aux2_accuracy: 0.3930\n",
            "Epoch 55/150\n",
            "169/169 - 9s - loss: 0.0638 - main_loss: 0.0210 - aux1_loss: 0.0220 - aux2_loss: 0.0208 - main_accuracy: 0.9933 - aux1_accuracy: 0.9931 - aux2_accuracy: 0.9937 - val_loss: 1.0012 - val_main_loss: 0.3368 - val_aux1_loss: 0.3258 - val_aux2_loss: 0.3386 - val_main_accuracy: 0.9393 - val_aux1_accuracy: 0.9391 - val_aux2_accuracy: 0.9396\n",
            "Epoch 56/150\n",
            "169/169 - 9s - loss: 0.0463 - main_loss: 0.0152 - aux1_loss: 0.0164 - aux2_loss: 0.0147 - main_accuracy: 0.9947 - aux1_accuracy: 0.9946 - aux2_accuracy: 0.9950 - val_loss: 1.5260 - val_main_loss: 0.5219 - val_aux1_loss: 0.4860 - val_aux2_loss: 0.5182 - val_main_accuracy: 0.8846 - val_aux1_accuracy: 0.8900 - val_aux2_accuracy: 0.8867\n",
            "Epoch 57/150\n",
            "169/169 - 9s - loss: 0.0602 - main_loss: 0.0201 - aux1_loss: 0.0200 - aux2_loss: 0.0201 - main_accuracy: 0.9936 - aux1_accuracy: 0.9940 - aux2_accuracy: 0.9935 - val_loss: 0.9041 - val_main_loss: 0.3026 - val_aux1_loss: 0.2919 - val_aux2_loss: 0.3096 - val_main_accuracy: 0.9381 - val_aux1_accuracy: 0.9398 - val_aux2_accuracy: 0.9378\n",
            "Epoch 58/150\n",
            "169/169 - 9s - loss: 0.0829 - main_loss: 0.0281 - aux1_loss: 0.0272 - aux2_loss: 0.0276 - main_accuracy: 0.9907 - aux1_accuracy: 0.9903 - aux2_accuracy: 0.9910 - val_loss: 1.0105 - val_main_loss: 0.3260 - val_aux1_loss: 0.3477 - val_aux2_loss: 0.3367 - val_main_accuracy: 0.9287 - val_aux1_accuracy: 0.9294 - val_aux2_accuracy: 0.9289\n",
            "Epoch 59/150\n",
            "169/169 - 9s - loss: 0.0609 - main_loss: 0.0193 - aux1_loss: 0.0217 - aux2_loss: 0.0198 - main_accuracy: 0.9932 - aux1_accuracy: 0.9929 - aux2_accuracy: 0.9932 - val_loss: 1.0909 - val_main_loss: 0.3735 - val_aux1_loss: 0.3408 - val_aux2_loss: 0.3766 - val_main_accuracy: 0.9291 - val_aux1_accuracy: 0.9285 - val_aux2_accuracy: 0.9291\n",
            "Epoch 60/150\n",
            "169/169 - 9s - loss: 0.0388 - main_loss: 0.0125 - aux1_loss: 0.0135 - aux2_loss: 0.0128 - main_accuracy: 0.9963 - aux1_accuracy: 0.9956 - aux2_accuracy: 0.9965 - val_loss: 4.6270 - val_main_loss: 1.4386 - val_aux1_loss: 1.6432 - val_aux2_loss: 1.5453 - val_main_accuracy: 0.7735 - val_aux1_accuracy: 0.7667 - val_aux2_accuracy: 0.7717\n",
            "Epoch 61/150\n",
            "169/169 - 9s - loss: 0.0421 - main_loss: 0.0138 - aux1_loss: 0.0147 - aux2_loss: 0.0136 - main_accuracy: 0.9951 - aux1_accuracy: 0.9952 - aux2_accuracy: 0.9954 - val_loss: 1.3058 - val_main_loss: 0.4346 - val_aux1_loss: 0.4285 - val_aux2_loss: 0.4428 - val_main_accuracy: 0.9206 - val_aux1_accuracy: 0.9219 - val_aux2_accuracy: 0.9222\n",
            "Epoch 62/150\n",
            "169/169 - 9s - loss: 0.0754 - main_loss: 0.0255 - aux1_loss: 0.0252 - aux2_loss: 0.0246 - main_accuracy: 0.9915 - aux1_accuracy: 0.9915 - aux2_accuracy: 0.9918 - val_loss: 9.3370 - val_main_loss: 2.9086 - val_aux1_loss: 3.2450 - val_aux2_loss: 3.1834 - val_main_accuracy: 0.5796 - val_aux1_accuracy: 0.5765 - val_aux2_accuracy: 0.5789\n",
            "Epoch 63/150\n",
            "169/169 - 9s - loss: 0.0422 - main_loss: 0.0136 - aux1_loss: 0.0146 - aux2_loss: 0.0140 - main_accuracy: 0.9958 - aux1_accuracy: 0.9952 - aux2_accuracy: 0.9959 - val_loss: 2.7723 - val_main_loss: 0.9222 - val_aux1_loss: 0.9002 - val_aux2_loss: 0.9499 - val_main_accuracy: 0.8372 - val_aux1_accuracy: 0.8361 - val_aux2_accuracy: 0.8374\n",
            "Epoch 64/150\n",
            "169/169 - 9s - loss: 0.0633 - main_loss: 0.0210 - aux1_loss: 0.0207 - aux2_loss: 0.0216 - main_accuracy: 0.9931 - aux1_accuracy: 0.9933 - aux2_accuracy: 0.9929 - val_loss: 1.9824 - val_main_loss: 0.6704 - val_aux1_loss: 0.6300 - val_aux2_loss: 0.6820 - val_main_accuracy: 0.8704 - val_aux1_accuracy: 0.8756 - val_aux2_accuracy: 0.8709\n",
            "Epoch 65/150\n",
            "169/169 - 9s - loss: 0.0858 - main_loss: 0.0296 - aux1_loss: 0.0275 - aux2_loss: 0.0287 - main_accuracy: 0.9905 - aux1_accuracy: 0.9909 - aux2_accuracy: 0.9912 - val_loss: 5.2256 - val_main_loss: 1.6964 - val_aux1_loss: 1.8316 - val_aux2_loss: 1.6976 - val_main_accuracy: 0.6952 - val_aux1_accuracy: 0.6974 - val_aux2_accuracy: 0.7004\n",
            "Epoch 66/150\n",
            "169/169 - 9s - loss: 0.0537 - main_loss: 0.0174 - aux1_loss: 0.0181 - aux2_loss: 0.0181 - main_accuracy: 0.9948 - aux1_accuracy: 0.9943 - aux2_accuracy: 0.9943 - val_loss: 3.7788 - val_main_loss: 1.2506 - val_aux1_loss: 1.2603 - val_aux2_loss: 1.2679 - val_main_accuracy: 0.7861 - val_aux1_accuracy: 0.7848 - val_aux2_accuracy: 0.7881\n",
            "Epoch 67/150\n",
            "169/169 - 9s - loss: 0.0554 - main_loss: 0.0186 - aux1_loss: 0.0187 - aux2_loss: 0.0181 - main_accuracy: 0.9944 - aux1_accuracy: 0.9941 - aux2_accuracy: 0.9944 - val_loss: 11.2580 - val_main_loss: 3.6352 - val_aux1_loss: 3.7716 - val_aux2_loss: 3.8512 - val_main_accuracy: 0.5915 - val_aux1_accuracy: 0.5909 - val_aux2_accuracy: 0.5917\n",
            "Epoch 68/150\n",
            "169/169 - 9s - loss: 0.0628 - main_loss: 0.0209 - aux1_loss: 0.0210 - aux2_loss: 0.0209 - main_accuracy: 0.9937 - aux1_accuracy: 0.9931 - aux2_accuracy: 0.9933 - val_loss: 1.4868 - val_main_loss: 0.4922 - val_aux1_loss: 0.4936 - val_aux2_loss: 0.5010 - val_main_accuracy: 0.9024 - val_aux1_accuracy: 0.9022 - val_aux2_accuracy: 0.9037\n",
            "Epoch 69/150\n",
            "169/169 - 9s - loss: 0.0466 - main_loss: 0.0157 - aux1_loss: 0.0154 - aux2_loss: 0.0155 - main_accuracy: 0.9952 - aux1_accuracy: 0.9950 - aux2_accuracy: 0.9954 - val_loss: 1.0409 - val_main_loss: 0.3440 - val_aux1_loss: 0.3464 - val_aux2_loss: 0.3505 - val_main_accuracy: 0.9281 - val_aux1_accuracy: 0.9287 - val_aux2_accuracy: 0.9283\n",
            "Epoch 70/150\n",
            "169/169 - 9s - loss: 0.0361 - main_loss: 0.0114 - aux1_loss: 0.0125 - aux2_loss: 0.0121 - main_accuracy: 0.9967 - aux1_accuracy: 0.9962 - aux2_accuracy: 0.9961 - val_loss: 4.4907 - val_main_loss: 1.4865 - val_aux1_loss: 1.4400 - val_aux2_loss: 1.5643 - val_main_accuracy: 0.7594 - val_aux1_accuracy: 0.7644 - val_aux2_accuracy: 0.7594\n",
            "Epoch 71/150\n",
            "169/169 - 9s - loss: 0.0553 - main_loss: 0.0182 - aux1_loss: 0.0185 - aux2_loss: 0.0185 - main_accuracy: 0.9945 - aux1_accuracy: 0.9945 - aux2_accuracy: 0.9944 - val_loss: 0.8440 - val_main_loss: 0.2851 - val_aux1_loss: 0.2739 - val_aux2_loss: 0.2851 - val_main_accuracy: 0.9319 - val_aux1_accuracy: 0.9339 - val_aux2_accuracy: 0.9330\n",
            "Epoch 72/150\n",
            "169/169 - 9s - loss: 0.0351 - main_loss: 0.0121 - aux1_loss: 0.0118 - aux2_loss: 0.0113 - main_accuracy: 0.9964 - aux1_accuracy: 0.9959 - aux2_accuracy: 0.9967 - val_loss: 1.6213 - val_main_loss: 0.5401 - val_aux1_loss: 0.5291 - val_aux2_loss: 0.5521 - val_main_accuracy: 0.8969 - val_aux1_accuracy: 0.8996 - val_aux2_accuracy: 0.8980\n",
            "Epoch 73/150\n",
            "169/169 - 9s - loss: 0.0311 - main_loss: 0.0100 - aux1_loss: 0.0110 - aux2_loss: 0.0100 - main_accuracy: 0.9965 - aux1_accuracy: 0.9959 - aux2_accuracy: 0.9964 - val_loss: 0.7041 - val_main_loss: 0.2341 - val_aux1_loss: 0.2307 - val_aux2_loss: 0.2393 - val_main_accuracy: 0.9528 - val_aux1_accuracy: 0.9535 - val_aux2_accuracy: 0.9531\n",
            "Epoch 74/150\n",
            "169/169 - 9s - loss: 0.0309 - main_loss: 0.0095 - aux1_loss: 0.0111 - aux2_loss: 0.0103 - main_accuracy: 0.9971 - aux1_accuracy: 0.9963 - aux2_accuracy: 0.9969 - val_loss: 9.0127 - val_main_loss: 2.8956 - val_aux1_loss: 3.0994 - val_aux2_loss: 3.0177 - val_main_accuracy: 0.6628 - val_aux1_accuracy: 0.6615 - val_aux2_accuracy: 0.6656\n",
            "Epoch 75/150\n",
            "169/169 - 9s - loss: 0.0622 - main_loss: 0.0212 - aux1_loss: 0.0204 - aux2_loss: 0.0206 - main_accuracy: 0.9932 - aux1_accuracy: 0.9937 - aux2_accuracy: 0.9938 - val_loss: 0.7533 - val_main_loss: 0.2430 - val_aux1_loss: 0.2595 - val_aux2_loss: 0.2508 - val_main_accuracy: 0.9456 - val_aux1_accuracy: 0.9457 - val_aux2_accuracy: 0.9456\n",
            "Epoch 76/150\n",
            "169/169 - 9s - loss: 0.0194 - main_loss: 0.0062 - aux1_loss: 0.0068 - aux2_loss: 0.0064 - main_accuracy: 0.9982 - aux1_accuracy: 0.9981 - aux2_accuracy: 0.9982 - val_loss: 1.0253 - val_main_loss: 0.3376 - val_aux1_loss: 0.3411 - val_aux2_loss: 0.3465 - val_main_accuracy: 0.9315 - val_aux1_accuracy: 0.9313 - val_aux2_accuracy: 0.9328\n",
            "Epoch 77/150\n",
            "169/169 - 9s - loss: 0.0252 - main_loss: 0.0082 - aux1_loss: 0.0092 - aux2_loss: 0.0078 - main_accuracy: 0.9970 - aux1_accuracy: 0.9965 - aux2_accuracy: 0.9973 - val_loss: 1.1366 - val_main_loss: 0.3734 - val_aux1_loss: 0.3725 - val_aux2_loss: 0.3906 - val_main_accuracy: 0.9281 - val_aux1_accuracy: 0.9254 - val_aux2_accuracy: 0.9278\n",
            "Epoch 78/150\n",
            "169/169 - 9s - loss: 0.0301 - main_loss: 0.0096 - aux1_loss: 0.0102 - aux2_loss: 0.0103 - main_accuracy: 0.9968 - aux1_accuracy: 0.9970 - aux2_accuracy: 0.9969 - val_loss: 1.5101 - val_main_loss: 0.4797 - val_aux1_loss: 0.5120 - val_aux2_loss: 0.5184 - val_main_accuracy: 0.9098 - val_aux1_accuracy: 0.9070 - val_aux2_accuracy: 0.9100\n",
            "Epoch 79/150\n",
            "169/169 - 9s - loss: 0.0809 - main_loss: 0.0273 - aux1_loss: 0.0267 - aux2_loss: 0.0268 - main_accuracy: 0.9912 - aux1_accuracy: 0.9918 - aux2_accuracy: 0.9918 - val_loss: 1.7817 - val_main_loss: 0.5876 - val_aux1_loss: 0.6081 - val_aux2_loss: 0.5860 - val_main_accuracy: 0.8694 - val_aux1_accuracy: 0.8746 - val_aux2_accuracy: 0.8735\n",
            "Epoch 80/150\n",
            "169/169 - 9s - loss: 0.0519 - main_loss: 0.0177 - aux1_loss: 0.0172 - aux2_loss: 0.0170 - main_accuracy: 0.9945 - aux1_accuracy: 0.9950 - aux2_accuracy: 0.9950 - val_loss: 4.0473 - val_main_loss: 1.2307 - val_aux1_loss: 1.4738 - val_aux2_loss: 1.3428 - val_main_accuracy: 0.7519 - val_aux1_accuracy: 0.7481 - val_aux2_accuracy: 0.7485\n",
            "Epoch 81/150\n",
            "169/169 - 9s - loss: 0.0649 - main_loss: 0.0218 - aux1_loss: 0.0218 - aux2_loss: 0.0212 - main_accuracy: 0.9934 - aux1_accuracy: 0.9932 - aux2_accuracy: 0.9936 - val_loss: 6.3827 - val_main_loss: 1.9945 - val_aux1_loss: 2.2496 - val_aux2_loss: 2.1386 - val_main_accuracy: 0.7013 - val_aux1_accuracy: 0.6985 - val_aux2_accuracy: 0.7026\n",
            "Epoch 82/150\n",
            "169/169 - 9s - loss: 0.0249 - main_loss: 0.0082 - aux1_loss: 0.0084 - aux2_loss: 0.0083 - main_accuracy: 0.9980 - aux1_accuracy: 0.9978 - aux2_accuracy: 0.9976 - val_loss: 1.5663 - val_main_loss: 0.5183 - val_aux1_loss: 0.5183 - val_aux2_loss: 0.5297 - val_main_accuracy: 0.9024 - val_aux1_accuracy: 0.9011 - val_aux2_accuracy: 0.9026\n",
            "Epoch 83/150\n",
            "169/169 - 9s - loss: 0.0419 - main_loss: 0.0139 - aux1_loss: 0.0138 - aux2_loss: 0.0142 - main_accuracy: 0.9958 - aux1_accuracy: 0.9960 - aux2_accuracy: 0.9956 - val_loss: 1.5435 - val_main_loss: 0.5056 - val_aux1_loss: 0.5179 - val_aux2_loss: 0.5199 - val_main_accuracy: 0.9026 - val_aux1_accuracy: 0.9022 - val_aux2_accuracy: 0.9007\n",
            "Epoch 84/150\n",
            "169/169 - 9s - loss: 0.0191 - main_loss: 0.0064 - aux1_loss: 0.0067 - aux2_loss: 0.0060 - main_accuracy: 0.9978 - aux1_accuracy: 0.9977 - aux2_accuracy: 0.9981 - val_loss: 1.1682 - val_main_loss: 0.3804 - val_aux1_loss: 0.3900 - val_aux2_loss: 0.3978 - val_main_accuracy: 0.9267 - val_aux1_accuracy: 0.9261 - val_aux2_accuracy: 0.9265\n",
            "Epoch 85/150\n",
            "169/169 - 9s - loss: 0.0742 - main_loss: 0.0254 - aux1_loss: 0.0237 - aux2_loss: 0.0251 - main_accuracy: 0.9916 - aux1_accuracy: 0.9920 - aux2_accuracy: 0.9915 - val_loss: 5.5611 - val_main_loss: 1.6930 - val_aux1_loss: 1.9736 - val_aux2_loss: 1.8945 - val_main_accuracy: 0.7650 - val_aux1_accuracy: 0.7624 - val_aux2_accuracy: 0.7667\n",
            "Epoch 86/150\n",
            "169/169 - 9s - loss: 0.0286 - main_loss: 0.0094 - aux1_loss: 0.0096 - aux2_loss: 0.0096 - main_accuracy: 0.9976 - aux1_accuracy: 0.9975 - aux2_accuracy: 0.9975 - val_loss: 1.6553 - val_main_loss: 0.5286 - val_aux1_loss: 0.5732 - val_aux2_loss: 0.5535 - val_main_accuracy: 0.8948 - val_aux1_accuracy: 0.8907 - val_aux2_accuracy: 0.8950\n",
            "Epoch 87/150\n",
            "169/169 - 9s - loss: 0.0345 - main_loss: 0.0118 - aux1_loss: 0.0116 - aux2_loss: 0.0112 - main_accuracy: 0.9964 - aux1_accuracy: 0.9965 - aux2_accuracy: 0.9968 - val_loss: 1.2068 - val_main_loss: 0.3949 - val_aux1_loss: 0.4044 - val_aux2_loss: 0.4076 - val_main_accuracy: 0.9167 - val_aux1_accuracy: 0.9176 - val_aux2_accuracy: 0.9165\n",
            "Epoch 88/150\n",
            "169/169 - 9s - loss: 0.0097 - main_loss: 0.0029 - aux1_loss: 0.0038 - aux2_loss: 0.0030 - main_accuracy: 0.9992 - aux1_accuracy: 0.9990 - aux2_accuracy: 0.9992 - val_loss: 0.7354 - val_main_loss: 0.2506 - val_aux1_loss: 0.2346 - val_aux2_loss: 0.2502 - val_main_accuracy: 0.9533 - val_aux1_accuracy: 0.9543 - val_aux2_accuracy: 0.9544\n",
            "Epoch 89/150\n",
            "169/169 - 9s - loss: 0.0272 - main_loss: 0.0084 - aux1_loss: 0.0100 - aux2_loss: 0.0088 - main_accuracy: 0.9977 - aux1_accuracy: 0.9975 - aux2_accuracy: 0.9974 - val_loss: 0.6981 - val_main_loss: 0.2327 - val_aux1_loss: 0.2297 - val_aux2_loss: 0.2358 - val_main_accuracy: 0.9524 - val_aux1_accuracy: 0.9535 - val_aux2_accuracy: 0.9528\n",
            "Epoch 90/150\n",
            "169/169 - 9s - loss: 0.0057 - main_loss: 0.0017 - aux1_loss: 0.0023 - aux2_loss: 0.0017 - main_accuracy: 0.9996 - aux1_accuracy: 0.9993 - aux2_accuracy: 0.9995 - val_loss: 2.8009 - val_main_loss: 0.8945 - val_aux1_loss: 0.9450 - val_aux2_loss: 0.9614 - val_main_accuracy: 0.8613 - val_aux1_accuracy: 0.8544 - val_aux2_accuracy: 0.8606\n",
            "Epoch 91/150\n",
            "169/169 - 9s - loss: 0.0020 - main_loss: 4.7192e-04 - aux1_loss: 0.0011 - aux2_loss: 4.9593e-04 - main_accuracy: 0.9999 - aux1_accuracy: 0.9998 - aux2_accuracy: 0.9999 - val_loss: 0.7561 - val_main_loss: 0.2574 - val_aux1_loss: 0.2368 - val_aux2_loss: 0.2618 - val_main_accuracy: 0.9574 - val_aux1_accuracy: 0.9576 - val_aux2_accuracy: 0.9574\n",
            "Epoch 92/150\n",
            "169/169 - 9s - loss: 0.0195 - main_loss: 0.0065 - aux1_loss: 0.0064 - aux2_loss: 0.0065 - main_accuracy: 0.9982 - aux1_accuracy: 0.9983 - aux2_accuracy: 0.9984 - val_loss: 4.6938 - val_main_loss: 1.5128 - val_aux1_loss: 1.5890 - val_aux2_loss: 1.5920 - val_main_accuracy: 0.7728 - val_aux1_accuracy: 0.7720 - val_aux2_accuracy: 0.7717\n",
            "Epoch 93/150\n",
            "169/169 - 9s - loss: 0.1315 - main_loss: 0.0443 - aux1_loss: 0.0440 - aux2_loss: 0.0432 - main_accuracy: 0.9866 - aux1_accuracy: 0.9874 - aux2_accuracy: 0.9875 - val_loss: 6.3782 - val_main_loss: 1.9005 - val_aux1_loss: 2.3892 - val_aux2_loss: 2.0885 - val_main_accuracy: 0.6154 - val_aux1_accuracy: 0.6298 - val_aux2_accuracy: 0.6170\n",
            "Epoch 94/150\n",
            "169/169 - 9s - loss: 0.0642 - main_loss: 0.0209 - aux1_loss: 0.0219 - aux2_loss: 0.0214 - main_accuracy: 0.9934 - aux1_accuracy: 0.9927 - aux2_accuracy: 0.9928 - val_loss: 1.5473 - val_main_loss: 0.5208 - val_aux1_loss: 0.4974 - val_aux2_loss: 0.5292 - val_main_accuracy: 0.8922 - val_aux1_accuracy: 0.8935 - val_aux2_accuracy: 0.8924\n",
            "Epoch 95/150\n",
            "169/169 - 9s - loss: 0.0407 - main_loss: 0.0142 - aux1_loss: 0.0126 - aux2_loss: 0.0139 - main_accuracy: 0.9950 - aux1_accuracy: 0.9955 - aux2_accuracy: 0.9956 - val_loss: 1.3030 - val_main_loss: 0.4315 - val_aux1_loss: 0.4327 - val_aux2_loss: 0.4389 - val_main_accuracy: 0.9111 - val_aux1_accuracy: 0.9120 - val_aux2_accuracy: 0.9115\n",
            "Epoch 96/150\n",
            "169/169 - 9s - loss: 0.0235 - main_loss: 0.0076 - aux1_loss: 0.0082 - aux2_loss: 0.0077 - main_accuracy: 0.9979 - aux1_accuracy: 0.9975 - aux2_accuracy: 0.9976 - val_loss: 1.2912 - val_main_loss: 0.4380 - val_aux1_loss: 0.4029 - val_aux2_loss: 0.4503 - val_main_accuracy: 0.9167 - val_aux1_accuracy: 0.9180 - val_aux2_accuracy: 0.9174\n",
            "Epoch 97/150\n",
            "169/169 - 9s - loss: 0.0139 - main_loss: 0.0043 - aux1_loss: 0.0049 - aux2_loss: 0.0047 - main_accuracy: 0.9988 - aux1_accuracy: 0.9987 - aux2_accuracy: 0.9987 - val_loss: 0.9329 - val_main_loss: 0.3151 - val_aux1_loss: 0.2951 - val_aux2_loss: 0.3228 - val_main_accuracy: 0.9472 - val_aux1_accuracy: 0.9474 - val_aux2_accuracy: 0.9467\n",
            "Epoch 98/150\n",
            "169/169 - 9s - loss: 0.0142 - main_loss: 0.0047 - aux1_loss: 0.0045 - aux2_loss: 0.0050 - main_accuracy: 0.9983 - aux1_accuracy: 0.9985 - aux2_accuracy: 0.9983 - val_loss: 1.8129 - val_main_loss: 0.6308 - val_aux1_loss: 0.5441 - val_aux2_loss: 0.6380 - val_main_accuracy: 0.8943 - val_aux1_accuracy: 0.9024 - val_aux2_accuracy: 0.8935\n",
            "Epoch 99/150\n",
            "169/169 - 9s - loss: 0.0595 - main_loss: 0.0197 - aux1_loss: 0.0201 - aux2_loss: 0.0197 - main_accuracy: 0.9934 - aux1_accuracy: 0.9937 - aux2_accuracy: 0.9934 - val_loss: 1.6943 - val_main_loss: 0.5362 - val_aux1_loss: 0.5889 - val_aux2_loss: 0.5691 - val_main_accuracy: 0.8902 - val_aux1_accuracy: 0.8857 - val_aux2_accuracy: 0.8883\n",
            "Epoch 100/150\n",
            "169/169 - 9s - loss: 0.0289 - main_loss: 0.0098 - aux1_loss: 0.0092 - aux2_loss: 0.0099 - main_accuracy: 0.9967 - aux1_accuracy: 0.9970 - aux2_accuracy: 0.9972 - val_loss: 0.9689 - val_main_loss: 0.3206 - val_aux1_loss: 0.3231 - val_aux2_loss: 0.3252 - val_main_accuracy: 0.9359 - val_aux1_accuracy: 0.9391 - val_aux2_accuracy: 0.9380\n",
            "Epoch 101/150\n",
            "169/169 - 9s - loss: 0.0252 - main_loss: 0.0082 - aux1_loss: 0.0087 - aux2_loss: 0.0083 - main_accuracy: 0.9971 - aux1_accuracy: 0.9971 - aux2_accuracy: 0.9970 - val_loss: 1.0819 - val_main_loss: 0.3549 - val_aux1_loss: 0.3626 - val_aux2_loss: 0.3644 - val_main_accuracy: 0.9298 - val_aux1_accuracy: 0.9274 - val_aux2_accuracy: 0.9307\n",
            "Epoch 102/150\n",
            "169/169 - 9s - loss: 0.0325 - main_loss: 0.0109 - aux1_loss: 0.0105 - aux2_loss: 0.0111 - main_accuracy: 0.9966 - aux1_accuracy: 0.9965 - aux2_accuracy: 0.9968 - val_loss: 0.9996 - val_main_loss: 0.3311 - val_aux1_loss: 0.3306 - val_aux2_loss: 0.3378 - val_main_accuracy: 0.9381 - val_aux1_accuracy: 0.9369 - val_aux2_accuracy: 0.9370\n",
            "Epoch 103/150\n",
            "169/169 - 9s - loss: 0.0373 - main_loss: 0.0128 - aux1_loss: 0.0120 - aux2_loss: 0.0124 - main_accuracy: 0.9954 - aux1_accuracy: 0.9961 - aux2_accuracy: 0.9961 - val_loss: 1.0746 - val_main_loss: 0.3573 - val_aux1_loss: 0.3534 - val_aux2_loss: 0.3639 - val_main_accuracy: 0.9294 - val_aux1_accuracy: 0.9291 - val_aux2_accuracy: 0.9294\n",
            "Epoch 104/150\n",
            "169/169 - 9s - loss: 0.0196 - main_loss: 0.0069 - aux1_loss: 0.0061 - aux2_loss: 0.0066 - main_accuracy: 0.9981 - aux1_accuracy: 0.9985 - aux2_accuracy: 0.9979 - val_loss: 1.5199 - val_main_loss: 0.4940 - val_aux1_loss: 0.5204 - val_aux2_loss: 0.5054 - val_main_accuracy: 0.9117 - val_aux1_accuracy: 0.9102 - val_aux2_accuracy: 0.9130\n",
            "Epoch 105/150\n",
            "169/169 - 9s - loss: 0.0032 - main_loss: 9.8931e-04 - aux1_loss: 0.0012 - aux2_loss: 9.7824e-04 - main_accuracy: 0.9996 - aux1_accuracy: 0.9997 - aux2_accuracy: 0.9997 - val_loss: 0.7849 - val_main_loss: 0.2604 - val_aux1_loss: 0.2569 - val_aux2_loss: 0.2676 - val_main_accuracy: 0.9569 - val_aux1_accuracy: 0.9567 - val_aux2_accuracy: 0.9576\n",
            "Epoch 106/150\n",
            "169/169 - 9s - loss: 0.0199 - main_loss: 0.0067 - aux1_loss: 0.0062 - aux2_loss: 0.0069 - main_accuracy: 0.9981 - aux1_accuracy: 0.9980 - aux2_accuracy: 0.9978 - val_loss: 3.4138 - val_main_loss: 1.0761 - val_aux1_loss: 1.2274 - val_aux2_loss: 1.1103 - val_main_accuracy: 0.7963 - val_aux1_accuracy: 0.7944 - val_aux2_accuracy: 0.7989\n",
            "Epoch 107/150\n",
            "169/169 - 9s - loss: 0.0556 - main_loss: 0.0188 - aux1_loss: 0.0184 - aux2_loss: 0.0184 - main_accuracy: 0.9944 - aux1_accuracy: 0.9944 - aux2_accuracy: 0.9944 - val_loss: 0.7649 - val_main_loss: 0.2503 - val_aux1_loss: 0.2578 - val_aux2_loss: 0.2568 - val_main_accuracy: 0.9500 - val_aux1_accuracy: 0.9515 - val_aux2_accuracy: 0.9502\n",
            "Epoch 108/150\n",
            "169/169 - 9s - loss: 0.0080 - main_loss: 0.0024 - aux1_loss: 0.0026 - aux2_loss: 0.0029 - main_accuracy: 0.9992 - aux1_accuracy: 0.9991 - aux2_accuracy: 0.9989 - val_loss: 2.3013 - val_main_loss: 0.7625 - val_aux1_loss: 0.7508 - val_aux2_loss: 0.7880 - val_main_accuracy: 0.8659 - val_aux1_accuracy: 0.8669 - val_aux2_accuracy: 0.8650\n",
            "Epoch 109/150\n",
            "169/169 - 9s - loss: 0.0147 - main_loss: 0.0047 - aux1_loss: 0.0049 - aux2_loss: 0.0050 - main_accuracy: 0.9986 - aux1_accuracy: 0.9986 - aux2_accuracy: 0.9985 - val_loss: 2.2449 - val_main_loss: 0.7591 - val_aux1_loss: 0.7168 - val_aux2_loss: 0.7690 - val_main_accuracy: 0.8739 - val_aux1_accuracy: 0.8800 - val_aux2_accuracy: 0.8741\n",
            "Epoch 110/150\n",
            "169/169 - 9s - loss: 0.0264 - main_loss: 0.0089 - aux1_loss: 0.0086 - aux2_loss: 0.0089 - main_accuracy: 0.9973 - aux1_accuracy: 0.9974 - aux2_accuracy: 0.9976 - val_loss: 3.6941 - val_main_loss: 1.2059 - val_aux1_loss: 1.2672 - val_aux2_loss: 1.2210 - val_main_accuracy: 0.8178 - val_aux1_accuracy: 0.8200 - val_aux2_accuracy: 0.8211\n",
            "Epoch 111/150\n",
            "169/169 - 9s - loss: 0.0180 - main_loss: 0.0060 - aux1_loss: 0.0059 - aux2_loss: 0.0061 - main_accuracy: 0.9982 - aux1_accuracy: 0.9984 - aux2_accuracy: 0.9984 - val_loss: 12.1314 - val_main_loss: 3.8994 - val_aux1_loss: 4.2139 - val_aux2_loss: 4.0181 - val_main_accuracy: 0.5431 - val_aux1_accuracy: 0.5419 - val_aux2_accuracy: 0.5439\n",
            "Epoch 112/150\n",
            "169/169 - 9s - loss: 0.0247 - main_loss: 0.0081 - aux1_loss: 0.0083 - aux2_loss: 0.0083 - main_accuracy: 0.9972 - aux1_accuracy: 0.9972 - aux2_accuracy: 0.9971 - val_loss: 1.1249 - val_main_loss: 0.3655 - val_aux1_loss: 0.3830 - val_aux2_loss: 0.3764 - val_main_accuracy: 0.9354 - val_aux1_accuracy: 0.9320 - val_aux2_accuracy: 0.9328\n",
            "Epoch 113/150\n",
            "169/169 - 9s - loss: 0.0358 - main_loss: 0.0115 - aux1_loss: 0.0125 - aux2_loss: 0.0118 - main_accuracy: 0.9969 - aux1_accuracy: 0.9965 - aux2_accuracy: 0.9968 - val_loss: 2.0820 - val_main_loss: 0.6783 - val_aux1_loss: 0.7056 - val_aux2_loss: 0.6982 - val_main_accuracy: 0.8726 - val_aux1_accuracy: 0.8831 - val_aux2_accuracy: 0.8763\n",
            "Epoch 114/150\n",
            "169/169 - 9s - loss: 0.0299 - main_loss: 0.0098 - aux1_loss: 0.0108 - aux2_loss: 0.0094 - main_accuracy: 0.9972 - aux1_accuracy: 0.9966 - aux2_accuracy: 0.9973 - val_loss: 1.1629 - val_main_loss: 0.3797 - val_aux1_loss: 0.3913 - val_aux2_loss: 0.3919 - val_main_accuracy: 0.9302 - val_aux1_accuracy: 0.9300 - val_aux2_accuracy: 0.9306\n",
            "Epoch 115/150\n",
            "169/169 - 9s - loss: 0.0095 - main_loss: 0.0029 - aux1_loss: 0.0035 - aux2_loss: 0.0031 - main_accuracy: 0.9992 - aux1_accuracy: 0.9991 - aux2_accuracy: 0.9993 - val_loss: 2.5957 - val_main_loss: 0.8579 - val_aux1_loss: 0.8576 - val_aux2_loss: 0.8801 - val_main_accuracy: 0.8665 - val_aux1_accuracy: 0.8635 - val_aux2_accuracy: 0.8665\n",
            "Epoch 116/150\n",
            "169/169 - 9s - loss: 0.0025 - main_loss: 5.8681e-04 - aux1_loss: 0.0013 - aux2_loss: 5.9481e-04 - main_accuracy: 0.9999 - aux1_accuracy: 0.9996 - aux2_accuracy: 0.9999 - val_loss: 0.6578 - val_main_loss: 0.2190 - val_aux1_loss: 0.2130 - val_aux2_loss: 0.2258 - val_main_accuracy: 0.9635 - val_aux1_accuracy: 0.9648 - val_aux2_accuracy: 0.9643\n",
            "Epoch 117/150\n",
            "169/169 - 9s - loss: 6.6058e-04 - main_loss: 1.3358e-04 - aux1_loss: 3.3416e-04 - aux2_loss: 1.9284e-04 - main_accuracy: 1.0000 - aux1_accuracy: 1.0000 - aux2_accuracy: 1.0000 - val_loss: 0.6624 - val_main_loss: 0.2212 - val_aux1_loss: 0.2143 - val_aux2_loss: 0.2269 - val_main_accuracy: 0.9654 - val_aux1_accuracy: 0.9644 - val_aux2_accuracy: 0.9661\n",
            "Epoch 118/150\n",
            "169/169 - 9s - loss: 0.0013 - main_loss: 3.4658e-04 - aux1_loss: 6.8937e-04 - aux2_loss: 3.0312e-04 - main_accuracy: 0.9999 - aux1_accuracy: 0.9998 - aux2_accuracy: 1.0000 - val_loss: 1.6131 - val_main_loss: 0.5425 - val_aux1_loss: 0.5080 - val_aux2_loss: 0.5626 - val_main_accuracy: 0.9220 - val_aux1_accuracy: 0.9224 - val_aux2_accuracy: 0.9204\n",
            "Epoch 119/150\n",
            "169/169 - 9s - loss: 0.0401 - main_loss: 0.0134 - aux1_loss: 0.0131 - aux2_loss: 0.0135 - main_accuracy: 0.9962 - aux1_accuracy: 0.9956 - aux2_accuracy: 0.9961 - val_loss: 16.3336 - val_main_loss: 5.0443 - val_aux1_loss: 5.9048 - val_aux2_loss: 5.3845 - val_main_accuracy: 0.4896 - val_aux1_accuracy: 0.4900 - val_aux2_accuracy: 0.4883\n",
            "Epoch 120/150\n",
            "169/169 - 9s - loss: 0.0295 - main_loss: 0.0099 - aux1_loss: 0.0096 - aux2_loss: 0.0100 - main_accuracy: 0.9965 - aux1_accuracy: 0.9970 - aux2_accuracy: 0.9967 - val_loss: 1.0064 - val_main_loss: 0.3241 - val_aux1_loss: 0.3421 - val_aux2_loss: 0.3402 - val_main_accuracy: 0.9389 - val_aux1_accuracy: 0.9381 - val_aux2_accuracy: 0.9393\n",
            "Epoch 121/150\n",
            "169/169 - 9s - loss: 0.0042 - main_loss: 0.0014 - aux1_loss: 0.0015 - aux2_loss: 0.0013 - main_accuracy: 0.9996 - aux1_accuracy: 0.9995 - aux2_accuracy: 0.9996 - val_loss: 0.8602 - val_main_loss: 0.2837 - val_aux1_loss: 0.2826 - val_aux2_loss: 0.2940 - val_main_accuracy: 0.9537 - val_aux1_accuracy: 0.9544 - val_aux2_accuracy: 0.9530\n",
            "Epoch 122/150\n",
            "169/169 - 9s - loss: 0.0085 - main_loss: 0.0027 - aux1_loss: 0.0031 - aux2_loss: 0.0027 - main_accuracy: 0.9992 - aux1_accuracy: 0.9990 - aux2_accuracy: 0.9990 - val_loss: 1.4074 - val_main_loss: 0.4527 - val_aux1_loss: 0.4760 - val_aux2_loss: 0.4786 - val_main_accuracy: 0.9213 - val_aux1_accuracy: 0.9185 - val_aux2_accuracy: 0.9204\n",
            "Epoch 123/150\n",
            "169/169 - 9s - loss: 0.0524 - main_loss: 0.0171 - aux1_loss: 0.0181 - aux2_loss: 0.0171 - main_accuracy: 0.9946 - aux1_accuracy: 0.9943 - aux2_accuracy: 0.9948 - val_loss: 10.1625 - val_main_loss: 3.1863 - val_aux1_loss: 3.5926 - val_aux2_loss: 3.3836 - val_main_accuracy: 0.6467 - val_aux1_accuracy: 0.6437 - val_aux2_accuracy: 0.6439\n",
            "Epoch 124/150\n",
            "169/169 - 9s - loss: 0.0127 - main_loss: 0.0040 - aux1_loss: 0.0046 - aux2_loss: 0.0040 - main_accuracy: 0.9988 - aux1_accuracy: 0.9987 - aux2_accuracy: 0.9988 - val_loss: 0.7618 - val_main_loss: 0.2528 - val_aux1_loss: 0.2499 - val_aux2_loss: 0.2591 - val_main_accuracy: 0.9539 - val_aux1_accuracy: 0.9550 - val_aux2_accuracy: 0.9548\n",
            "Epoch 125/150\n",
            "169/169 - 9s - loss: 0.0039 - main_loss: 0.0013 - aux1_loss: 0.0014 - aux2_loss: 0.0012 - main_accuracy: 0.9996 - aux1_accuracy: 0.9996 - aux2_accuracy: 0.9997 - val_loss: 1.1439 - val_main_loss: 0.3817 - val_aux1_loss: 0.3674 - val_aux2_loss: 0.3948 - val_main_accuracy: 0.9331 - val_aux1_accuracy: 0.9348 - val_aux2_accuracy: 0.9343\n",
            "Epoch 126/150\n",
            "169/169 - 9s - loss: 0.0061 - main_loss: 0.0020 - aux1_loss: 0.0019 - aux2_loss: 0.0023 - main_accuracy: 0.9994 - aux1_accuracy: 0.9993 - aux2_accuracy: 0.9993 - val_loss: 4.3184 - val_main_loss: 1.4141 - val_aux1_loss: 1.4510 - val_aux2_loss: 1.4534 - val_main_accuracy: 0.7965 - val_aux1_accuracy: 0.7983 - val_aux2_accuracy: 0.7961\n",
            "Epoch 127/150\n",
            "169/169 - 9s - loss: 0.0373 - main_loss: 0.0123 - aux1_loss: 0.0124 - aux2_loss: 0.0127 - main_accuracy: 0.9959 - aux1_accuracy: 0.9960 - aux2_accuracy: 0.9959 - val_loss: 1.2848 - val_main_loss: 0.4113 - val_aux1_loss: 0.4486 - val_aux2_loss: 0.4250 - val_main_accuracy: 0.9169 - val_aux1_accuracy: 0.9167 - val_aux2_accuracy: 0.9131\n",
            "Epoch 128/150\n",
            "169/169 - 9s - loss: 0.0131 - main_loss: 0.0042 - aux1_loss: 0.0045 - aux2_loss: 0.0044 - main_accuracy: 0.9987 - aux1_accuracy: 0.9987 - aux2_accuracy: 0.9988 - val_loss: 0.9788 - val_main_loss: 0.3200 - val_aux1_loss: 0.3275 - val_aux2_loss: 0.3313 - val_main_accuracy: 0.9356 - val_aux1_accuracy: 0.9393 - val_aux2_accuracy: 0.9361\n",
            "Epoch 129/150\n",
            "169/169 - 9s - loss: 0.0193 - main_loss: 0.0068 - aux1_loss: 0.0061 - aux2_loss: 0.0065 - main_accuracy: 0.9977 - aux1_accuracy: 0.9981 - aux2_accuracy: 0.9976 - val_loss: 1.4432 - val_main_loss: 0.4709 - val_aux1_loss: 0.4798 - val_aux2_loss: 0.4926 - val_main_accuracy: 0.9185 - val_aux1_accuracy: 0.9198 - val_aux2_accuracy: 0.9185\n",
            "Epoch 130/150\n",
            "169/169 - 9s - loss: 0.0175 - main_loss: 0.0055 - aux1_loss: 0.0061 - aux2_loss: 0.0059 - main_accuracy: 0.9984 - aux1_accuracy: 0.9980 - aux2_accuracy: 0.9983 - val_loss: 0.7007 - val_main_loss: 0.2284 - val_aux1_loss: 0.2386 - val_aux2_loss: 0.2337 - val_main_accuracy: 0.9580 - val_aux1_accuracy: 0.9600 - val_aux2_accuracy: 0.9591\n",
            "Epoch 131/150\n",
            "169/169 - 9s - loss: 0.0052 - main_loss: 0.0017 - aux1_loss: 0.0017 - aux2_loss: 0.0019 - main_accuracy: 0.9997 - aux1_accuracy: 0.9997 - aux2_accuracy: 0.9996 - val_loss: 0.9452 - val_main_loss: 0.3108 - val_aux1_loss: 0.3156 - val_aux2_loss: 0.3188 - val_main_accuracy: 0.9519 - val_aux1_accuracy: 0.9524 - val_aux2_accuracy: 0.9519\n",
            "Epoch 132/150\n",
            "169/169 - 9s - loss: 0.0029 - main_loss: 8.3341e-04 - aux1_loss: 0.0011 - aux2_loss: 9.5928e-04 - main_accuracy: 0.9998 - aux1_accuracy: 0.9999 - aux2_accuracy: 0.9999 - val_loss: 0.8346 - val_main_loss: 0.2773 - val_aux1_loss: 0.2741 - val_aux2_loss: 0.2832 - val_main_accuracy: 0.9533 - val_aux1_accuracy: 0.9561 - val_aux2_accuracy: 0.9539\n",
            "Epoch 133/150\n",
            "169/169 - 9s - loss: 0.0104 - main_loss: 0.0034 - aux1_loss: 0.0035 - aux2_loss: 0.0034 - main_accuracy: 0.9989 - aux1_accuracy: 0.9988 - aux2_accuracy: 0.9989 - val_loss: 1.0512 - val_main_loss: 0.3436 - val_aux1_loss: 0.3550 - val_aux2_loss: 0.3525 - val_main_accuracy: 0.9309 - val_aux1_accuracy: 0.9330 - val_aux2_accuracy: 0.9313\n",
            "Epoch 134/150\n",
            "169/169 - 9s - loss: 0.0383 - main_loss: 0.0131 - aux1_loss: 0.0126 - aux2_loss: 0.0126 - main_accuracy: 0.9963 - aux1_accuracy: 0.9965 - aux2_accuracy: 0.9964 - val_loss: 3.9281 - val_main_loss: 1.1903 - val_aux1_loss: 1.4836 - val_aux2_loss: 1.2542 - val_main_accuracy: 0.8050 - val_aux1_accuracy: 0.8002 - val_aux2_accuracy: 0.8078\n",
            "Epoch 135/150\n",
            "169/169 - 9s - loss: 0.0105 - main_loss: 0.0035 - aux1_loss: 0.0034 - aux2_loss: 0.0037 - main_accuracy: 0.9991 - aux1_accuracy: 0.9992 - aux2_accuracy: 0.9988 - val_loss: 0.9803 - val_main_loss: 0.3207 - val_aux1_loss: 0.3339 - val_aux2_loss: 0.3257 - val_main_accuracy: 0.9370 - val_aux1_accuracy: 0.9387 - val_aux2_accuracy: 0.9385\n",
            "Epoch 136/150\n",
            "169/169 - 9s - loss: 0.0047 - main_loss: 0.0015 - aux1_loss: 0.0015 - aux2_loss: 0.0017 - main_accuracy: 0.9995 - aux1_accuracy: 0.9995 - aux2_accuracy: 0.9995 - val_loss: 0.8519 - val_main_loss: 0.2797 - val_aux1_loss: 0.2839 - val_aux2_loss: 0.2884 - val_main_accuracy: 0.9546 - val_aux1_accuracy: 0.9561 - val_aux2_accuracy: 0.9539\n",
            "Epoch 137/150\n",
            "169/169 - 9s - loss: 0.0039 - main_loss: 0.0011 - aux1_loss: 0.0018 - aux2_loss: 0.0010 - main_accuracy: 0.9995 - aux1_accuracy: 0.9994 - aux2_accuracy: 0.9998 - val_loss: 1.3530 - val_main_loss: 0.4466 - val_aux1_loss: 0.4505 - val_aux2_loss: 0.4559 - val_main_accuracy: 0.9370 - val_aux1_accuracy: 0.9352 - val_aux2_accuracy: 0.9374\n",
            "Epoch 138/150\n",
            "169/169 - 9s - loss: 0.0085 - main_loss: 0.0026 - aux1_loss: 0.0035 - aux2_loss: 0.0024 - main_accuracy: 0.9992 - aux1_accuracy: 0.9989 - aux2_accuracy: 0.9992 - val_loss: 3.0836 - val_main_loss: 0.9862 - val_aux1_loss: 1.0529 - val_aux2_loss: 1.0446 - val_main_accuracy: 0.8581 - val_aux1_accuracy: 0.8572 - val_aux2_accuracy: 0.8591\n",
            "Epoch 139/150\n",
            "169/169 - 9s - loss: 0.0438 - main_loss: 0.0146 - aux1_loss: 0.0147 - aux2_loss: 0.0145 - main_accuracy: 0.9958 - aux1_accuracy: 0.9957 - aux2_accuracy: 0.9961 - val_loss: 5.3023 - val_main_loss: 1.5997 - val_aux1_loss: 1.9745 - val_aux2_loss: 1.7281 - val_main_accuracy: 0.6941 - val_aux1_accuracy: 0.6954 - val_aux2_accuracy: 0.6900\n",
            "Epoch 140/150\n",
            "169/169 - 9s - loss: 0.0279 - main_loss: 0.0093 - aux1_loss: 0.0091 - aux2_loss: 0.0095 - main_accuracy: 0.9975 - aux1_accuracy: 0.9970 - aux2_accuracy: 0.9975 - val_loss: 1.2878 - val_main_loss: 0.4153 - val_aux1_loss: 0.4463 - val_aux2_loss: 0.4262 - val_main_accuracy: 0.9254 - val_aux1_accuracy: 0.9252 - val_aux2_accuracy: 0.9267\n",
            "Epoch 141/150\n",
            "169/169 - 9s - loss: 0.0115 - main_loss: 0.0038 - aux1_loss: 0.0038 - aux2_loss: 0.0038 - main_accuracy: 0.9992 - aux1_accuracy: 0.9991 - aux2_accuracy: 0.9992 - val_loss: 0.6588 - val_main_loss: 0.2171 - val_aux1_loss: 0.2177 - val_aux2_loss: 0.2240 - val_main_accuracy: 0.9602 - val_aux1_accuracy: 0.9619 - val_aux2_accuracy: 0.9606\n",
            "Epoch 142/150\n",
            "169/169 - 9s - loss: 0.0031 - main_loss: 8.9848e-04 - aux1_loss: 0.0013 - aux2_loss: 8.4388e-04 - main_accuracy: 0.9999 - aux1_accuracy: 0.9996 - aux2_accuracy: 0.9998 - val_loss: 1.0104 - val_main_loss: 0.3335 - val_aux1_loss: 0.3327 - val_aux2_loss: 0.3442 - val_main_accuracy: 0.9415 - val_aux1_accuracy: 0.9404 - val_aux2_accuracy: 0.9406\n",
            "Epoch 143/150\n",
            "169/169 - 9s - loss: 0.0053 - main_loss: 0.0016 - aux1_loss: 0.0022 - aux2_loss: 0.0015 - main_accuracy: 0.9995 - aux1_accuracy: 0.9994 - aux2_accuracy: 0.9994 - val_loss: 0.8893 - val_main_loss: 0.2941 - val_aux1_loss: 0.2935 - val_aux2_loss: 0.3017 - val_main_accuracy: 0.9491 - val_aux1_accuracy: 0.9491 - val_aux2_accuracy: 0.9496\n",
            "Epoch 144/150\n",
            "169/169 - 9s - loss: 0.0048 - main_loss: 0.0016 - aux1_loss: 0.0017 - aux2_loss: 0.0015 - main_accuracy: 0.9994 - aux1_accuracy: 0.9995 - aux2_accuracy: 0.9994 - val_loss: 8.6987 - val_main_loss: 2.7361 - val_aux1_loss: 3.0538 - val_aux2_loss: 2.9088 - val_main_accuracy: 0.7052 - val_aux1_accuracy: 0.7028 - val_aux2_accuracy: 0.7056\n",
            "Epoch 145/150\n",
            "169/169 - 9s - loss: 0.0048 - main_loss: 0.0015 - aux1_loss: 0.0018 - aux2_loss: 0.0016 - main_accuracy: 0.9995 - aux1_accuracy: 0.9994 - aux2_accuracy: 0.9995 - val_loss: 1.9585 - val_main_loss: 0.6448 - val_aux1_loss: 0.6457 - val_aux2_loss: 0.6679 - val_main_accuracy: 0.9009 - val_aux1_accuracy: 0.9041 - val_aux2_accuracy: 0.9026\n",
            "Epoch 146/150\n",
            "169/169 - 9s - loss: 0.0039 - main_loss: 0.0011 - aux1_loss: 0.0018 - aux2_loss: 0.0010 - main_accuracy: 0.9997 - aux1_accuracy: 0.9994 - aux2_accuracy: 0.9996 - val_loss: 0.8684 - val_main_loss: 0.2973 - val_aux1_loss: 0.2679 - val_aux2_loss: 0.3032 - val_main_accuracy: 0.9580 - val_aux1_accuracy: 0.9578 - val_aux2_accuracy: 0.9576\n",
            "Epoch 147/150\n",
            "169/169 - 9s - loss: 0.0023 - main_loss: 6.3569e-04 - aux1_loss: 0.0011 - aux2_loss: 5.6928e-04 - main_accuracy: 0.9997 - aux1_accuracy: 0.9995 - aux2_accuracy: 0.9998 - val_loss: 1.2057 - val_main_loss: 0.4125 - val_aux1_loss: 0.3779 - val_aux2_loss: 0.4152 - val_main_accuracy: 0.9369 - val_aux1_accuracy: 0.9394 - val_aux2_accuracy: 0.9374\n",
            "Epoch 148/150\n",
            "169/169 - 9s - loss: 0.0132 - main_loss: 0.0041 - aux1_loss: 0.0048 - aux2_loss: 0.0042 - main_accuracy: 0.9986 - aux1_accuracy: 0.9984 - aux2_accuracy: 0.9985 - val_loss: 7.4305 - val_main_loss: 2.3323 - val_aux1_loss: 2.6305 - val_aux2_loss: 2.4677 - val_main_accuracy: 0.7081 - val_aux1_accuracy: 0.7037 - val_aux2_accuracy: 0.7076\n",
            "Epoch 149/150\n",
            "169/169 - 9s - loss: 0.0030 - main_loss: 8.9706e-04 - aux1_loss: 0.0012 - aux2_loss: 9.2135e-04 - main_accuracy: 0.9997 - aux1_accuracy: 0.9997 - aux2_accuracy: 0.9998 - val_loss: 1.1556 - val_main_loss: 0.3902 - val_aux1_loss: 0.3650 - val_aux2_loss: 0.4004 - val_main_accuracy: 0.9452 - val_aux1_accuracy: 0.9470 - val_aux2_accuracy: 0.9456\n",
            "Epoch 150/150\n",
            "169/169 - 9s - loss: 0.0376 - main_loss: 0.0125 - aux1_loss: 0.0125 - aux2_loss: 0.0125 - main_accuracy: 0.9962 - aux1_accuracy: 0.9957 - aux2_accuracy: 0.9965 - val_loss: 3.7418 - val_main_loss: 1.1407 - val_aux1_loss: 1.3788 - val_aux2_loss: 1.2223 - val_main_accuracy: 0.7659 - val_aux1_accuracy: 0.7581 - val_aux2_accuracy: 0.7635\n"
          ],
          "name": "stdout"
        }
      ]
    },
    {
      "cell_type": "code",
      "metadata": {
        "id": "hdnqVcXQYZBb",
        "colab_type": "code",
        "outputId": "03374dd7-20fb-4f81-db91-7eccb7ca91f6",
        "colab": {
          "base_uri": "https://localhost:8080/",
          "height": 92
        }
      },
      "source": [
        "scores = model.evaluate(x_test, y_test, verbose=1)\n",
        "print('Loss: ', scores[1],'\\nAccuracy: ', scores[4]*100)"
      ],
      "execution_count": 40,
      "outputs": [
        {
          "output_type": "stream",
          "text": [
            "169/169 [==============================] - 2s 12ms/step - loss: 3.7097 - main_loss: 1.1319 - aux1_loss: 1.3662 - aux2_loss: 1.2117 - main_accuracy: 0.7659 - aux1_accuracy: 0.7581 - aux2_accuracy: 0.7635\n",
            "Loss:  1.1318641901016235 \n",
            "Accuracy:  76.5925943851471\n"
          ],
          "name": "stdout"
        }
      ]
    },
    {
      "cell_type": "code",
      "metadata": {
        "id": "XBVhXUD-YZIu",
        "colab_type": "code",
        "outputId": "9c2d1851-2ccb-4aad-ecee-393650e71fef",
        "colab": {
          "base_uri": "https://localhost:8080/",
          "height": 295
        }
      },
      "source": [
        "plt.plot(hist_inception6.history['main_accuracy'])\n",
        "plt.plot(hist_inception6.history['val_main_accuracy'])\n",
        "plt.title('Model Accuracy per Epoch')\n",
        "plt.ylabel('Accuracy')\n",
        "plt.xlabel('Epoch')\n",
        "plt.legend(['Train', 'Test'], loc='best')\n",
        "plt.show()"
      ],
      "execution_count": 41,
      "outputs": [
        {
          "output_type": "display_data",
          "data": {
            "image/png": "[encoded data removed]",
            "text/plain": [
              "<Figure size 432x288 with 1 Axes>"
            ]
          },
          "metadata": {
            "tags": [],
            "needs_background": "light"
          }
        }
      ]
    },
    {
      "cell_type": "code",
      "metadata": {
        "id": "kcsHY2ugZCqn",
        "colab_type": "code",
        "outputId": "74910255-3803-4f80-c670-d3e1a77a18f3",
        "colab": {
          "base_uri": "https://localhost:8080/",
          "height": 295
        }
      },
      "source": [
        "plt.plot(hist_inception6.history['main_loss'])\n",
        "plt.plot(hist_inception6.history['val_main_loss'])\n",
        "plt.title('Model Loss per Epoch')\n",
        "plt.ylabel('Loss')\n",
        "plt.xlabel('Epoch')\n",
        "plt.legend(['Train', 'Test'], loc='best')\n",
        "plt.show()"
      ],
      "execution_count": 42,
      "outputs": [
        {
          "output_type": "display_data",
          "data": {
            "image/png": "[encoded data removed]",
            "text/plain": [
              "<Figure size 432x288 with 1 Axes>"
            ]
          },
          "metadata": {
            "tags": [],
            "needs_background": "light"
          }
        }
      ]
    },
    {
      "cell_type": "markdown",
      "metadata": {
        "id": "IPXGZPm7fT-s",
        "colab_type": "text"
      },
      "source": [
        "## **Epochs # 50**"
      ]
    },
    {
      "cell_type": "code",
      "metadata": {
        "id": "UoZMoDpKY3rz",
        "colab_type": "code",
        "outputId": "6ed032c2-578f-4327-feb8-bbd78db5c7c0",
        "colab": {
          "base_uri": "https://localhost:8080/",
          "height": 1000
        }
      },
      "source": [
        "hist_inception7 = model.fit(x_train, y_train, validation_data=(x_test, y_test), \n",
        "                                     epochs=50, batch_size=128, verbose=2)"
      ],
      "execution_count": 0,
      "outputs": [
        {
          "output_type": "stream",
          "text": [
            "Epoch 1/50\n",
            "169/169 - 9s - loss: 3.7677 - main_loss: 1.3046 - aux1_loss: 1.1805 - aux2_loss: 1.2825 - main_accuracy: 0.5166 - aux1_accuracy: 0.5715 - aux2_accuracy: 0.5336 - val_loss: 5.4210 - val_main_loss: 1.8067 - val_aux1_loss: 1.7747 - val_aux2_loss: 1.8396 - val_main_accuracy: 0.3950 - val_aux1_accuracy: 0.3517 - val_aux2_accuracy: 0.3822\n",
            "Epoch 2/50\n",
            "169/169 - 9s - loss: 2.3515 - main_loss: 0.8016 - aux1_loss: 0.7526 - aux2_loss: 0.7973 - main_accuracy: 0.7261 - aux1_accuracy: 0.7401 - aux2_accuracy: 0.7265 - val_loss: 13.1225 - val_main_loss: 4.2209 - val_aux1_loss: 4.9328 - val_aux2_loss: 3.9689 - val_main_accuracy: 0.2450 - val_aux1_accuracy: 0.2335 - val_aux2_accuracy: 0.2517\n",
            "Epoch 3/50\n",
            "169/169 - 9s - loss: 1.9828 - main_loss: 0.6755 - aux1_loss: 0.6379 - aux2_loss: 0.6693 - main_accuracy: 0.7706 - aux1_accuracy: 0.7798 - aux2_accuracy: 0.7747 - val_loss: 15.1829 - val_main_loss: 4.7912 - val_aux1_loss: 5.5050 - val_aux2_loss: 4.8867 - val_main_accuracy: 0.3013 - val_aux1_accuracy: 0.3065 - val_aux2_accuracy: 0.3011\n",
            "Epoch 4/50\n",
            "169/169 - 9s - loss: 1.6708 - main_loss: 0.5722 - aux1_loss: 0.5337 - aux2_loss: 0.5649 - main_accuracy: 0.8096 - aux1_accuracy: 0.8194 - aux2_accuracy: 0.8126 - val_loss: 6.8216 - val_main_loss: 2.2637 - val_aux1_loss: 2.3441 - val_aux2_loss: 2.2138 - val_main_accuracy: 0.4169 - val_aux1_accuracy: 0.4080 - val_aux2_accuracy: 0.4152\n",
            "Epoch 5/50\n",
            "169/169 - 9s - loss: 1.4002 - main_loss: 0.4754 - aux1_loss: 0.4528 - aux2_loss: 0.4720 - main_accuracy: 0.8432 - aux1_accuracy: 0.8480 - aux2_accuracy: 0.8441 - val_loss: 2.8853 - val_main_loss: 0.9179 - val_aux1_loss: 1.0145 - val_aux2_loss: 0.9529 - val_main_accuracy: 0.6685 - val_aux1_accuracy: 0.6541 - val_aux2_accuracy: 0.6580\n",
            "Epoch 6/50\n",
            "169/169 - 9s - loss: 1.3547 - main_loss: 0.4627 - aux1_loss: 0.4318 - aux2_loss: 0.4602 - main_accuracy: 0.8468 - aux1_accuracy: 0.8537 - aux2_accuracy: 0.8483 - val_loss: 4.8656 - val_main_loss: 1.4337 - val_aux1_loss: 1.9043 - val_aux2_loss: 1.5276 - val_main_accuracy: 0.5733 - val_aux1_accuracy: 0.5591 - val_aux2_accuracy: 0.5750\n",
            "Epoch 7/50\n",
            "169/169 - 9s - loss: 1.1750 - main_loss: 0.4006 - aux1_loss: 0.3791 - aux2_loss: 0.3953 - main_accuracy: 0.8669 - aux1_accuracy: 0.8710 - aux2_accuracy: 0.8685 - val_loss: 4.6874 - val_main_loss: 1.5639 - val_aux1_loss: 1.4907 - val_aux2_loss: 1.6328 - val_main_accuracy: 0.5826 - val_aux1_accuracy: 0.5880 - val_aux2_accuracy: 0.5780\n",
            "Epoch 8/50\n",
            "169/169 - 9s - loss: 1.0010 - main_loss: 0.3396 - aux1_loss: 0.3230 - aux2_loss: 0.3385 - main_accuracy: 0.8882 - aux1_accuracy: 0.8939 - aux2_accuracy: 0.8893 - val_loss: 4.5525 - val_main_loss: 1.5371 - val_aux1_loss: 1.5044 - val_aux2_loss: 1.5109 - val_main_accuracy: 0.5804 - val_aux1_accuracy: 0.5907 - val_aux2_accuracy: 0.5872\n",
            "Epoch 9/50\n",
            "169/169 - 9s - loss: 0.9042 - main_loss: 0.3094 - aux1_loss: 0.2908 - aux2_loss: 0.3040 - main_accuracy: 0.8978 - aux1_accuracy: 0.9022 - aux2_accuracy: 0.8985 - val_loss: 6.4802 - val_main_loss: 2.0697 - val_aux1_loss: 2.2406 - val_aux2_loss: 2.1700 - val_main_accuracy: 0.5161 - val_aux1_accuracy: 0.5061 - val_aux2_accuracy: 0.5170\n",
            "Epoch 10/50\n",
            "169/169 - 9s - loss: 0.8225 - main_loss: 0.2801 - aux1_loss: 0.2638 - aux2_loss: 0.2786 - main_accuracy: 0.9057 - aux1_accuracy: 0.9092 - aux2_accuracy: 0.9084 - val_loss: 7.6753 - val_main_loss: 2.5137 - val_aux1_loss: 2.6424 - val_aux2_loss: 2.5193 - val_main_accuracy: 0.4894 - val_aux1_accuracy: 0.4841 - val_aux2_accuracy: 0.4935\n",
            "Epoch 11/50\n",
            "169/169 - 9s - loss: 0.7425 - main_loss: 0.2533 - aux1_loss: 0.2381 - aux2_loss: 0.2511 - main_accuracy: 0.9137 - aux1_accuracy: 0.9181 - aux2_accuracy: 0.9151 - val_loss: 17.2774 - val_main_loss: 5.7892 - val_aux1_loss: 5.5503 - val_aux2_loss: 5.9379 - val_main_accuracy: 0.1119 - val_aux1_accuracy: 0.1176 - val_aux2_accuracy: 0.1119\n",
            "Epoch 12/50\n",
            "169/169 - 9s - loss: 0.9435 - main_loss: 0.3217 - aux1_loss: 0.3046 - aux2_loss: 0.3172 - main_accuracy: 0.8931 - aux1_accuracy: 0.8938 - aux2_accuracy: 0.8925 - val_loss: 16.3653 - val_main_loss: 4.9364 - val_aux1_loss: 6.1983 - val_aux2_loss: 5.2306 - val_main_accuracy: 0.3098 - val_aux1_accuracy: 0.3028 - val_aux2_accuracy: 0.3113\n",
            "Epoch 13/50\n",
            "169/169 - 9s - loss: 0.6606 - main_loss: 0.2252 - aux1_loss: 0.2128 - aux2_loss: 0.2226 - main_accuracy: 0.9233 - aux1_accuracy: 0.9273 - aux2_accuracy: 0.9248 - val_loss: 6.1270 - val_main_loss: 1.9642 - val_aux1_loss: 2.1766 - val_aux2_loss: 1.9862 - val_main_accuracy: 0.5113 - val_aux1_accuracy: 0.5054 - val_aux2_accuracy: 0.5126\n",
            "Epoch 14/50\n",
            "169/169 - 9s - loss: 0.5940 - main_loss: 0.2029 - aux1_loss: 0.1898 - aux2_loss: 0.2013 - main_accuracy: 0.9308 - aux1_accuracy: 0.9359 - aux2_accuracy: 0.9324 - val_loss: 7.8382 - val_main_loss: 2.5101 - val_aux1_loss: 2.6928 - val_aux2_loss: 2.6352 - val_main_accuracy: 0.4794 - val_aux1_accuracy: 0.4694 - val_aux2_accuracy: 0.4770\n",
            "Epoch 15/50\n",
            "169/169 - 9s - loss: 0.5265 - main_loss: 0.1791 - aux1_loss: 0.1705 - aux2_loss: 0.1769 - main_accuracy: 0.9389 - aux1_accuracy: 0.9424 - aux2_accuracy: 0.9401 - val_loss: 5.0451 - val_main_loss: 1.6037 - val_aux1_loss: 1.7475 - val_aux2_loss: 1.6939 - val_main_accuracy: 0.6278 - val_aux1_accuracy: 0.6244 - val_aux2_accuracy: 0.6261\n",
            "Epoch 16/50\n",
            "169/169 - 9s - loss: 0.4543 - main_loss: 0.1535 - aux1_loss: 0.1482 - aux2_loss: 0.1525 - main_accuracy: 0.9468 - aux1_accuracy: 0.9495 - aux2_accuracy: 0.9480 - val_loss: 2.9078 - val_main_loss: 0.9482 - val_aux1_loss: 0.9564 - val_aux2_loss: 1.0032 - val_main_accuracy: 0.7483 - val_aux1_accuracy: 0.7461 - val_aux2_accuracy: 0.7444\n",
            "Epoch 17/50\n",
            "169/169 - 9s - loss: 0.4764 - main_loss: 0.1628 - aux1_loss: 0.1536 - aux2_loss: 0.1601 - main_accuracy: 0.9442 - aux1_accuracy: 0.9469 - aux2_accuracy: 0.9466 - val_loss: 4.6191 - val_main_loss: 1.5269 - val_aux1_loss: 1.5154 - val_aux2_loss: 1.5768 - val_main_accuracy: 0.6611 - val_aux1_accuracy: 0.6691 - val_aux2_accuracy: 0.6591\n",
            "Epoch 18/50\n",
            "169/169 - 9s - loss: 0.4260 - main_loss: 0.1449 - aux1_loss: 0.1366 - aux2_loss: 0.1446 - main_accuracy: 0.9500 - aux1_accuracy: 0.9523 - aux2_accuracy: 0.9504 - val_loss: 2.3936 - val_main_loss: 0.7864 - val_aux1_loss: 0.8028 - val_aux2_loss: 0.8044 - val_main_accuracy: 0.7700 - val_aux1_accuracy: 0.7726 - val_aux2_accuracy: 0.7689\n",
            "Epoch 19/50\n",
            "169/169 - 9s - loss: 0.3765 - main_loss: 0.1276 - aux1_loss: 0.1222 - aux2_loss: 0.1267 - main_accuracy: 0.9575 - aux1_accuracy: 0.9603 - aux2_accuracy: 0.9575 - val_loss: 1.3363 - val_main_loss: 0.4526 - val_aux1_loss: 0.4524 - val_aux2_loss: 0.4314 - val_main_accuracy: 0.8726 - val_aux1_accuracy: 0.8683 - val_aux2_accuracy: 0.8754\n",
            "Epoch 20/50\n",
            "169/169 - 9s - loss: 0.3639 - main_loss: 0.1221 - aux1_loss: 0.1181 - aux2_loss: 0.1237 - main_accuracy: 0.9588 - aux1_accuracy: 0.9592 - aux2_accuracy: 0.9582 - val_loss: 1.2864 - val_main_loss: 0.4196 - val_aux1_loss: 0.4324 - val_aux2_loss: 0.4345 - val_main_accuracy: 0.8665 - val_aux1_accuracy: 0.8657 - val_aux2_accuracy: 0.8650\n",
            "Epoch 21/50\n",
            "169/169 - 9s - loss: 0.3125 - main_loss: 0.1066 - aux1_loss: 0.1007 - aux2_loss: 0.1052 - main_accuracy: 0.9630 - aux1_accuracy: 0.9650 - aux2_accuracy: 0.9644 - val_loss: 10.3436 - val_main_loss: 3.4004 - val_aux1_loss: 3.4983 - val_aux2_loss: 3.4448 - val_main_accuracy: 0.5037 - val_aux1_accuracy: 0.5019 - val_aux2_accuracy: 0.5081\n",
            "Epoch 22/50\n",
            "169/169 - 9s - loss: 0.3731 - main_loss: 0.1253 - aux1_loss: 0.1226 - aux2_loss: 0.1252 - main_accuracy: 0.9578 - aux1_accuracy: 0.9595 - aux2_accuracy: 0.9581 - val_loss: 1.6570 - val_main_loss: 0.5514 - val_aux1_loss: 0.5583 - val_aux2_loss: 0.5472 - val_main_accuracy: 0.8546 - val_aux1_accuracy: 0.8526 - val_aux2_accuracy: 0.8598\n",
            "Epoch 23/50\n",
            "169/169 - 9s - loss: 0.3485 - main_loss: 0.1181 - aux1_loss: 0.1135 - aux2_loss: 0.1170 - main_accuracy: 0.9598 - aux1_accuracy: 0.9610 - aux2_accuracy: 0.9608 - val_loss: 1.6412 - val_main_loss: 0.5583 - val_aux1_loss: 0.5352 - val_aux2_loss: 0.5477 - val_main_accuracy: 0.8478 - val_aux1_accuracy: 0.8517 - val_aux2_accuracy: 0.8533\n",
            "Epoch 24/50\n",
            "169/169 - 9s - loss: 0.3114 - main_loss: 0.1062 - aux1_loss: 0.0998 - aux2_loss: 0.1055 - main_accuracy: 0.9655 - aux1_accuracy: 0.9675 - aux2_accuracy: 0.9648 - val_loss: 0.9779 - val_main_loss: 0.3207 - val_aux1_loss: 0.3331 - val_aux2_loss: 0.3240 - val_main_accuracy: 0.9080 - val_aux1_accuracy: 0.9059 - val_aux2_accuracy: 0.9076\n",
            "Epoch 25/50\n",
            "169/169 - 9s - loss: 0.2948 - main_loss: 0.1014 - aux1_loss: 0.0947 - aux2_loss: 0.0987 - main_accuracy: 0.9654 - aux1_accuracy: 0.9673 - aux2_accuracy: 0.9664 - val_loss: 1.7927 - val_main_loss: 0.5858 - val_aux1_loss: 0.6116 - val_aux2_loss: 0.5953 - val_main_accuracy: 0.8320 - val_aux1_accuracy: 0.8270 - val_aux2_accuracy: 0.8328\n",
            "Epoch 26/50\n",
            "169/169 - 9s - loss: 0.2603 - main_loss: 0.0872 - aux1_loss: 0.0854 - aux2_loss: 0.0877 - main_accuracy: 0.9715 - aux1_accuracy: 0.9719 - aux2_accuracy: 0.9719 - val_loss: 3.8655 - val_main_loss: 1.2687 - val_aux1_loss: 1.3033 - val_aux2_loss: 1.2935 - val_main_accuracy: 0.7213 - val_aux1_accuracy: 0.7352 - val_aux2_accuracy: 0.7270\n",
            "Epoch 27/50\n",
            "169/169 - 9s - loss: 0.2676 - main_loss: 0.0902 - aux1_loss: 0.0869 - aux2_loss: 0.0904 - main_accuracy: 0.9696 - aux1_accuracy: 0.9701 - aux2_accuracy: 0.9697 - val_loss: 2.0785 - val_main_loss: 0.7128 - val_aux1_loss: 0.6676 - val_aux2_loss: 0.6982 - val_main_accuracy: 0.7983 - val_aux1_accuracy: 0.8113 - val_aux2_accuracy: 0.8031\n",
            "Epoch 28/50\n",
            "169/169 - 9s - loss: 0.1897 - main_loss: 0.0640 - aux1_loss: 0.0617 - aux2_loss: 0.0640 - main_accuracy: 0.9788 - aux1_accuracy: 0.9793 - aux2_accuracy: 0.9787 - val_loss: 1.5880 - val_main_loss: 0.5154 - val_aux1_loss: 0.5294 - val_aux2_loss: 0.5431 - val_main_accuracy: 0.8557 - val_aux1_accuracy: 0.8504 - val_aux2_accuracy: 0.8531\n",
            "Epoch 29/50\n",
            "169/169 - 9s - loss: 0.2351 - main_loss: 0.0799 - aux1_loss: 0.0762 - aux2_loss: 0.0790 - main_accuracy: 0.9731 - aux1_accuracy: 0.9736 - aux2_accuracy: 0.9734 - val_loss: 1.6061 - val_main_loss: 0.5525 - val_aux1_loss: 0.5047 - val_aux2_loss: 0.5489 - val_main_accuracy: 0.8715 - val_aux1_accuracy: 0.8787 - val_aux2_accuracy: 0.8733\n",
            "Epoch 30/50\n",
            "169/169 - 9s - loss: 0.2438 - main_loss: 0.0826 - aux1_loss: 0.0803 - aux2_loss: 0.0809 - main_accuracy: 0.9720 - aux1_accuracy: 0.9736 - aux2_accuracy: 0.9728 - val_loss: 1.3094 - val_main_loss: 0.4265 - val_aux1_loss: 0.4550 - val_aux2_loss: 0.4280 - val_main_accuracy: 0.8752 - val_aux1_accuracy: 0.8733 - val_aux2_accuracy: 0.8785\n",
            "Epoch 31/50\n",
            "169/169 - 9s - loss: 0.1961 - main_loss: 0.0660 - aux1_loss: 0.0642 - aux2_loss: 0.0659 - main_accuracy: 0.9779 - aux1_accuracy: 0.9784 - aux2_accuracy: 0.9785 - val_loss: 3.4159 - val_main_loss: 1.1566 - val_aux1_loss: 1.1085 - val_aux2_loss: 1.1508 - val_main_accuracy: 0.7007 - val_aux1_accuracy: 0.7074 - val_aux2_accuracy: 0.7043\n",
            "Epoch 32/50\n",
            "169/169 - 9s - loss: 0.1777 - main_loss: 0.0588 - aux1_loss: 0.0597 - aux2_loss: 0.0592 - main_accuracy: 0.9803 - aux1_accuracy: 0.9804 - aux2_accuracy: 0.9804 - val_loss: 14.5962 - val_main_loss: 4.7098 - val_aux1_loss: 4.9384 - val_aux2_loss: 4.9480 - val_main_accuracy: 0.4778 - val_aux1_accuracy: 0.4659 - val_aux2_accuracy: 0.4776\n",
            "Epoch 33/50\n",
            "169/169 - 9s - loss: 0.1819 - main_loss: 0.0621 - aux1_loss: 0.0592 - aux2_loss: 0.0606 - main_accuracy: 0.9787 - aux1_accuracy: 0.9801 - aux2_accuracy: 0.9793 - val_loss: 2.2203 - val_main_loss: 0.7392 - val_aux1_loss: 0.7252 - val_aux2_loss: 0.7560 - val_main_accuracy: 0.8259 - val_aux1_accuracy: 0.8287 - val_aux2_accuracy: 0.8263\n",
            "Epoch 34/50\n",
            "169/169 - 9s - loss: 0.1700 - main_loss: 0.0566 - aux1_loss: 0.0563 - aux2_loss: 0.0571 - main_accuracy: 0.9812 - aux1_accuracy: 0.9809 - aux2_accuracy: 0.9804 - val_loss: 1.6138 - val_main_loss: 0.5328 - val_aux1_loss: 0.5535 - val_aux2_loss: 0.5275 - val_main_accuracy: 0.8678 - val_aux1_accuracy: 0.8737 - val_aux2_accuracy: 0.8720\n",
            "Epoch 35/50\n",
            "169/169 - 9s - loss: 0.1562 - main_loss: 0.0526 - aux1_loss: 0.0512 - aux2_loss: 0.0525 - main_accuracy: 0.9828 - aux1_accuracy: 0.9828 - aux2_accuracy: 0.9830 - val_loss: 2.5874 - val_main_loss: 0.8153 - val_aux1_loss: 0.9269 - val_aux2_loss: 0.8452 - val_main_accuracy: 0.8196 - val_aux1_accuracy: 0.8189 - val_aux2_accuracy: 0.8180\n",
            "Epoch 36/50\n",
            "169/169 - 9s - loss: 0.1559 - main_loss: 0.0522 - aux1_loss: 0.0513 - aux2_loss: 0.0523 - main_accuracy: 0.9825 - aux1_accuracy: 0.9825 - aux2_accuracy: 0.9827 - val_loss: 0.9773 - val_main_loss: 0.3278 - val_aux1_loss: 0.3208 - val_aux2_loss: 0.3287 - val_main_accuracy: 0.9141 - val_aux1_accuracy: 0.9163 - val_aux2_accuracy: 0.9157\n",
            "Epoch 37/50\n",
            "169/169 - 9s - loss: 0.1491 - main_loss: 0.0507 - aux1_loss: 0.0482 - aux2_loss: 0.0503 - main_accuracy: 0.9837 - aux1_accuracy: 0.9837 - aux2_accuracy: 0.9835 - val_loss: 5.4563 - val_main_loss: 1.7127 - val_aux1_loss: 1.9498 - val_aux2_loss: 1.7938 - val_main_accuracy: 0.6802 - val_aux1_accuracy: 0.6817 - val_aux2_accuracy: 0.6800\n",
            "Epoch 38/50\n",
            "169/169 - 9s - loss: 0.1508 - main_loss: 0.0504 - aux1_loss: 0.0496 - aux2_loss: 0.0508 - main_accuracy: 0.9826 - aux1_accuracy: 0.9831 - aux2_accuracy: 0.9829 - val_loss: 1.4575 - val_main_loss: 0.4786 - val_aux1_loss: 0.4840 - val_aux2_loss: 0.4948 - val_main_accuracy: 0.8865 - val_aux1_accuracy: 0.8891 - val_aux2_accuracy: 0.8872\n",
            "Epoch 39/50\n",
            "169/169 - 9s - loss: 0.1132 - main_loss: 0.0385 - aux1_loss: 0.0377 - aux2_loss: 0.0369 - main_accuracy: 0.9876 - aux1_accuracy: 0.9874 - aux2_accuracy: 0.9880 - val_loss: 2.0178 - val_main_loss: 0.6877 - val_aux1_loss: 0.6467 - val_aux2_loss: 0.6834 - val_main_accuracy: 0.8469 - val_aux1_accuracy: 0.8496 - val_aux2_accuracy: 0.8494\n",
            "Epoch 40/50\n",
            "169/169 - 9s - loss: 0.0895 - main_loss: 0.0297 - aux1_loss: 0.0301 - aux2_loss: 0.0297 - main_accuracy: 0.9901 - aux1_accuracy: 0.9898 - aux2_accuracy: 0.9899 - val_loss: 1.8035 - val_main_loss: 0.6050 - val_aux1_loss: 0.5780 - val_aux2_loss: 0.6205 - val_main_accuracy: 0.8700 - val_aux1_accuracy: 0.8754 - val_aux2_accuracy: 0.8717\n",
            "Epoch 41/50\n",
            "169/169 - 9s - loss: 0.1482 - main_loss: 0.0493 - aux1_loss: 0.0498 - aux2_loss: 0.0491 - main_accuracy: 0.9831 - aux1_accuracy: 0.9831 - aux2_accuracy: 0.9827 - val_loss: 2.7876 - val_main_loss: 0.8838 - val_aux1_loss: 0.9632 - val_aux2_loss: 0.9407 - val_main_accuracy: 0.7981 - val_aux1_accuracy: 0.7983 - val_aux2_accuracy: 0.7969\n",
            "Epoch 42/50\n",
            "169/169 - 9s - loss: 0.1210 - main_loss: 0.0411 - aux1_loss: 0.0392 - aux2_loss: 0.0407 - main_accuracy: 0.9861 - aux1_accuracy: 0.9862 - aux2_accuracy: 0.9864 - val_loss: 1.1539 - val_main_loss: 0.3821 - val_aux1_loss: 0.3818 - val_aux2_loss: 0.3900 - val_main_accuracy: 0.9111 - val_aux1_accuracy: 0.9131 - val_aux2_accuracy: 0.9115\n",
            "Epoch 43/50\n",
            "169/169 - 9s - loss: 0.1134 - main_loss: 0.0378 - aux1_loss: 0.0375 - aux2_loss: 0.0381 - main_accuracy: 0.9887 - aux1_accuracy: 0.9883 - aux2_accuracy: 0.9883 - val_loss: 1.0168 - val_main_loss: 0.3407 - val_aux1_loss: 0.3317 - val_aux2_loss: 0.3444 - val_main_accuracy: 0.9202 - val_aux1_accuracy: 0.9211 - val_aux2_accuracy: 0.9217\n",
            "Epoch 44/50\n",
            "169/169 - 9s - loss: 0.1090 - main_loss: 0.0369 - aux1_loss: 0.0358 - aux2_loss: 0.0363 - main_accuracy: 0.9877 - aux1_accuracy: 0.9879 - aux2_accuracy: 0.9875 - val_loss: 1.2953 - val_main_loss: 0.4339 - val_aux1_loss: 0.4205 - val_aux2_loss: 0.4409 - val_main_accuracy: 0.8967 - val_aux1_accuracy: 0.8981 - val_aux2_accuracy: 0.8989\n",
            "Epoch 45/50\n",
            "169/169 - 9s - loss: 0.1304 - main_loss: 0.0440 - aux1_loss: 0.0432 - aux2_loss: 0.0432 - main_accuracy: 0.9856 - aux1_accuracy: 0.9858 - aux2_accuracy: 0.9862 - val_loss: 2.7319 - val_main_loss: 0.8960 - val_aux1_loss: 0.9272 - val_aux2_loss: 0.9087 - val_main_accuracy: 0.8115 - val_aux1_accuracy: 0.8109 - val_aux2_accuracy: 0.8128\n",
            "Epoch 46/50\n",
            "169/169 - 9s - loss: 0.0849 - main_loss: 0.0284 - aux1_loss: 0.0285 - aux2_loss: 0.0280 - main_accuracy: 0.9906 - aux1_accuracy: 0.9902 - aux2_accuracy: 0.9906 - val_loss: 1.3480 - val_main_loss: 0.4323 - val_aux1_loss: 0.4502 - val_aux2_loss: 0.4655 - val_main_accuracy: 0.8894 - val_aux1_accuracy: 0.8930 - val_aux2_accuracy: 0.8889\n",
            "Epoch 47/50\n",
            "169/169 - 9s - loss: 0.0791 - main_loss: 0.0268 - aux1_loss: 0.0261 - aux2_loss: 0.0262 - main_accuracy: 0.9917 - aux1_accuracy: 0.9915 - aux2_accuracy: 0.9919 - val_loss: 1.1616 - val_main_loss: 0.3834 - val_aux1_loss: 0.3839 - val_aux2_loss: 0.3942 - val_main_accuracy: 0.9281 - val_aux1_accuracy: 0.9300 - val_aux2_accuracy: 0.9285\n",
            "Epoch 48/50\n",
            "169/169 - 9s - loss: 0.0689 - main_loss: 0.0227 - aux1_loss: 0.0235 - aux2_loss: 0.0227 - main_accuracy: 0.9933 - aux1_accuracy: 0.9920 - aux2_accuracy: 0.9930 - val_loss: 6.0968 - val_main_loss: 1.8574 - val_aux1_loss: 2.2069 - val_aux2_loss: 2.0326 - val_main_accuracy: 0.6491 - val_aux1_accuracy: 0.6428 - val_aux2_accuracy: 0.6481\n",
            "Epoch 49/50\n",
            "169/169 - 9s - loss: 0.1398 - main_loss: 0.0473 - aux1_loss: 0.0464 - aux2_loss: 0.0462 - main_accuracy: 0.9842 - aux1_accuracy: 0.9837 - aux2_accuracy: 0.9852 - val_loss: 1.6026 - val_main_loss: 0.5171 - val_aux1_loss: 0.5416 - val_aux2_loss: 0.5439 - val_main_accuracy: 0.8830 - val_aux1_accuracy: 0.8844 - val_aux2_accuracy: 0.8822\n",
            "Epoch 50/50\n",
            "169/169 - 9s - loss: 0.0816 - main_loss: 0.0265 - aux1_loss: 0.0280 - aux2_loss: 0.0271 - main_accuracy: 0.9911 - aux1_accuracy: 0.9907 - aux2_accuracy: 0.9911 - val_loss: 6.4112 - val_main_loss: 1.9995 - val_aux1_loss: 2.3340 - val_aux2_loss: 2.0777 - val_main_accuracy: 0.6528 - val_aux1_accuracy: 0.6498 - val_aux2_accuracy: 0.6530\n"
          ],
          "name": "stdout"
        }
      ]
    },
    {
      "cell_type": "code",
      "metadata": {
        "id": "GW4tb4kdbyYj",
        "colab_type": "code",
        "outputId": "c3fef109-ddbc-4462-cec7-dbf96406630d",
        "colab": {
          "base_uri": "https://localhost:8080/",
          "height": 92
        }
      },
      "source": [
        "scores = model.evaluate(x_test, y_test, verbose=1)\n",
        "print('Loss: ', scores[1],'\\nAccuracy: ', scores[4]*100)"
      ],
      "execution_count": 0,
      "outputs": [
        {
          "output_type": "stream",
          "text": [
            "169/169 [==============================] - 2s 12ms/step - loss: 6.4725 - main_loss: 2.0179 - aux1_loss: 2.3581 - aux2_loss: 2.0965 - main_accuracy: 0.6528 - aux1_accuracy: 0.6498 - aux2_accuracy: 0.6530\n",
            "Loss:  2.017895460128784 \n",
            "Accuracy:  65.27777910232544\n"
          ],
          "name": "stdout"
        }
      ]
    },
    {
      "cell_type": "code",
      "metadata": {
        "id": "uLd8ysAKcCi8",
        "colab_type": "code",
        "outputId": "f79af7c2-be74-4a8a-ef00-3e175c4f6748",
        "colab": {
          "base_uri": "https://localhost:8080/",
          "height": 295
        }
      },
      "source": [
        "plt.plot(hist_inception7.history['main_accuracy'])\n",
        "plt.plot(hist_inception7.history['val_main_accuracy'])\n",
        "plt.title('Model Accuracy per Epoch')\n",
        "plt.ylabel('Accuracy')\n",
        "plt.xlabel('Epoch')\n",
        "plt.legend(['Train', 'Test'], loc='best')\n",
        "plt.show()"
      ],
      "execution_count": 0,
      "outputs": [
        {
          "output_type": "display_data",
          "data": {
            "image/png": "[encoded data removed]",
            "text/plain": [
              "<Figure size 432x288 with 1 Axes>"
            ]
          },
          "metadata": {
            "tags": [],
            "needs_background": "light"
          }
        }
      ]
    },
    {
      "cell_type": "code",
      "metadata": {
        "id": "JERFDU1Wbymt",
        "colab_type": "code",
        "outputId": "64051c22-9b4d-4fd2-dffe-ac7aa25c71d6",
        "colab": {
          "base_uri": "https://localhost:8080/",
          "height": 295
        }
      },
      "source": [
        "plt.plot(hist_inception7.history['main_loss'])\n",
        "plt.plot(hist_inception7.history['val_main_loss'])\n",
        "plt.title('Model Loss per Epoch')\n",
        "plt.ylabel('Loss')\n",
        "plt.xlabel('Epoch')\n",
        "plt.legend(['Train', 'Test'], loc='best')\n",
        "plt.show()"
      ],
      "execution_count": 0,
      "outputs": [
        {
          "output_type": "display_data",
          "data": {
            "image/png": "[encoded data removed]",
            "text/plain": [
              "<Figure size 432x288 with 1 Axes>"
            ]
          },
          "metadata": {
            "tags": [],
            "needs_background": "light"
          }
        }
      ]
    }
  ]
}