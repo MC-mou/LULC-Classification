{
 "cells": [
  {
   "cell_type": "code",
   "execution_count": 0,
   "metadata": {
    "colab": {},
    "colab_type": "code",
    "id": "wVaL4obZHIAV"
   },
   "outputs": [],
   "source": [
    "import os\n",
    "from google.colab import drive\n",
    "import numpy as np\n",
    "#import imageio  #for reading images\n",
    "#import cv2\n",
    "from PIL import Image\n",
    "import time\n"
   ]
  },
  {
   "cell_type": "markdown",
   "metadata": {
    "colab_type": "text",
    "id": "YqnEWh1JIExQ"
   },
   "source": [
    "Reading data from Google Drive and save to binary file"
   ]
  },
  {
   "cell_type": "code",
   "execution_count": 0,
   "metadata": {
    "colab": {
     "base_uri": "https://localhost:8080/",
     "height": 122
    },
    "colab_type": "code",
    "executionInfo": {
     "elapsed": 26842,
     "status": "ok",
     "timestamp": 1583655602240,
     "user": {
      "displayName": "Roger Chow",
      "photoUrl": "",
      "userId": "03060450649812936924"
     },
     "user_tz": 240
    },
    "id": "sG4mWdfPIJjy",
    "outputId": "a527b00a-f741-494b-d044-8c8661080a9c"
   },
   "outputs": [
    {
     "name": "stdout",
     "output_type": "stream",
     "text": [
      "Go to this URL in a browser: https://accounts.google.com/o/oauth2/auth?client_id=947318989803-6bn6qk8qdgf4n4g3pfee6491hc0brc4i.apps.googleusercontent.com&redirect_uri=urn%3aietf%3awg%3aoauth%3a2.0%3aoob&response_type=code&scope=email%20https%3a%2f%2fwww.googleapis.com%2fauth%2fdocs.test%20https%3a%2f%2fwww.googleapis.com%2fauth%2fdrive%20https%3a%2f%2fwww.googleapis.com%2fauth%2fdrive.photos.readonly%20https%3a%2f%2fwww.googleapis.com%2fauth%2fpeopleapi.readonly\n",
      "\n",
      "Enter your authorization code:\n",
      "··········\n",
      "Mounted at /content/drive\n"
     ]
    }
   ],
   "source": [
    "drive.mount('/content/drive')"
   ]
  },
  {
   "cell_type": "code",
   "execution_count": 0,
   "metadata": {
    "colab": {
     "base_uri": "https://localhost:8080/",
     "height": 34
    },
    "colab_type": "code",
    "executionInfo": {
     "elapsed": 257,
     "status": "ok",
     "timestamp": 1583655608207,
     "user": {
      "displayName": "Roger Chow",
      "photoUrl": "",
      "userId": "03060450649812936924"
     },
     "user_tz": 240
    },
    "id": "cX_YEbr5IOEe",
    "outputId": "15240e7e-29fd-4217-994d-7ede32dd9c31"
   },
   "outputs": [
    {
     "data": {
      "text/plain": [
       "'/content'"
      ]
     },
     "execution_count": 4,
     "metadata": {
      "tags": []
     },
     "output_type": "execute_result"
    }
   ],
   "source": [
    "os.getcwd()"
   ]
  },
  {
   "cell_type": "code",
   "execution_count": 0,
   "metadata": {
    "colab": {
     "base_uri": "https://localhost:8080/",
     "height": 187
    },
    "colab_type": "code",
    "executionInfo": {
     "elapsed": 1577,
     "status": "ok",
     "timestamp": 1583655611211,
     "user": {
      "displayName": "Roger Chow",
      "photoUrl": "",
      "userId": "03060450649812936924"
     },
     "user_tz": 240
    },
    "id": "RcEyDHbJIp2c",
    "outputId": "cad8fde2-459c-4dc2-bb05-b79310bb1dc0"
   },
   "outputs": [
    {
     "data": {
      "text/plain": [
       "['Highway',\n",
       " 'River',\n",
       " 'Forest',\n",
       " 'SeaLake',\n",
       " 'Residential',\n",
       " 'AnnualCrop',\n",
       " 'HerbaceousVegetation',\n",
       " 'Industrial',\n",
       " 'Pasture',\n",
       " 'PermanentCrop']"
      ]
     },
     "execution_count": 5,
     "metadata": {
      "tags": []
     },
     "output_type": "execute_result"
    }
   ],
   "source": [
    "os.listdir('/content/drive/Shared drives/DS8013/Data/EuroSAT/2750')"
   ]
  },
  {
   "cell_type": "code",
   "execution_count": 0,
   "metadata": {
    "colab": {
     "base_uri": "https://localhost:8080/",
     "height": 357
    },
    "colab_type": "code",
    "executionInfo": {
     "elapsed": 10733091,
     "status": "ok",
     "timestamp": 1583644166168,
     "user": {
      "displayName": "Roger Chow",
      "photoUrl": "",
      "userId": "03060450649812936924"
     },
     "user_tz": 300
    },
    "id": "PXgOsxpMItFs",
    "outputId": "f985fdc0-ae52-440a-9904-cfbca9a834d1"
   },
   "outputs": [
    {
     "name": "stdout",
     "output_type": "stream",
     "text": [
      "start reading class: Highway\n",
      "finished reading class: Highway  total seconds: 3.1246843338012695\n",
      "start reading class: River\n",
      "finished reading class: River  total seconds: 940.7625031471252\n",
      "start reading class: Forest\n",
      "finished reading class: Forest  total seconds: 1197.8720092773438\n",
      "start reading class: SeaLake\n",
      "finished reading class: SeaLake  total seconds: 1429.1408700942993\n",
      "start reading class: Residential\n",
      "finished reading class: Residential  total seconds: 1408.2065641880035\n",
      "start reading class: AnnualCrop\n",
      "finished reading class: AnnualCrop  total seconds: 1159.0227012634277\n",
      "start reading class: HerbaceousVegetation\n",
      "finished reading class: HerbaceousVegetation  total seconds: 1351.2974591255188\n",
      "start reading class: Industrial\n",
      "finished reading class: Industrial  total seconds: 1159.5379688739777\n",
      "start reading class: Pasture\n",
      "finished reading class: Pasture  total seconds: 935.291868686676\n",
      "start reading class: PermanentCrop\n",
      "finished reading class: PermanentCrop  total seconds: 1147.2691762447357\n"
     ]
    }
   ],
   "source": [
    "data_flder = '/content/drive/Shared drives/DS8013/Data/EuroSAT/2750/'\n",
    "\n",
    "image_classes = os.listdir(data_flder)\n",
    "\n",
    "y = []\n",
    "X = []\n",
    "\n",
    "#\n",
    "for i in range(len(image_classes)):\n",
    "  start_time =  time.time()\n",
    "  image_class = image_classes[i]\n",
    "  file_list = os.listdir(data_flder + image_class + '/') \n",
    "  print('start reading class:', image_class)\n",
    "  for j in range(len(file_list)):\n",
    "    file = file_list[j]\n",
    "    #print(i)\n",
    "    y.append(image_class)\n",
    "    #X.append(cv2.imread(data_flder + image_class + '/' + file))\n",
    "    X.append(np.asarray(Image.open(data_flder + image_class + '/' + file)))\n",
    "  \n",
    "  end_time =  time.time()\n",
    "  print('finished reading class:', image_class, ' total seconds:', (end_time - start_time))\n",
    "  \n",
    "\n",
    "binary_flder = '/content/drive/Shared drives/DS8013/Data/Binary/'\n",
    "np.save(binary_flder + 'X.npy', np.array(X))\n",
    "np.save(binary_flder + 'y.npy', np.array(y))"
   ]
  },
  {
   "cell_type": "code",
   "execution_count": 0,
   "metadata": {
    "colab": {},
    "colab_type": "code",
    "id": "ZQrrpy2tMDo_"
   },
   "outputs": [],
   "source": []
  },
  {
   "cell_type": "markdown",
   "metadata": {
    "colab_type": "text",
    "id": "ozlok7N5OeN0"
   },
   "source": [
    "Load images from binary files\n"
   ]
  },
  {
   "cell_type": "code",
   "execution_count": 0,
   "metadata": {
    "colab": {},
    "colab_type": "code",
    "id": "528Bc7VmOybK"
   },
   "outputs": [],
   "source": [
    "binary_flder = '/content/drive/Shared drives/DS8013/Data/Binary/'"
   ]
  },
  {
   "cell_type": "code",
   "execution_count": 0,
   "metadata": {
    "colab": {},
    "colab_type": "code",
    "id": "qDArSkk7O3nx"
   },
   "outputs": [],
   "source": [
    "X = np.load(binary_flder + 'X.npy')\n",
    "y = np.load(binary_flder + 'y.npy')"
   ]
  },
  {
   "cell_type": "code",
   "execution_count": 0,
   "metadata": {
    "colab": {
     "base_uri": "https://localhost:8080/",
     "height": 34
    },
    "colab_type": "code",
    "executionInfo": {
     "elapsed": 301,
     "status": "ok",
     "timestamp": 1583655720188,
     "user": {
      "displayName": "Roger Chow",
      "photoUrl": "",
      "userId": "03060450649812936924"
     },
     "user_tz": 240
    },
    "id": "jwmmRqIGPE0P",
    "outputId": "07ebeee8-4f5a-43fe-bd70-e45d5e264a05"
   },
   "outputs": [
    {
     "data": {
      "text/plain": [
       "27000"
      ]
     },
     "execution_count": 8,
     "metadata": {
      "tags": []
     },
     "output_type": "execute_result"
    }
   ],
   "source": [
    "len(X)"
   ]
  },
  {
   "cell_type": "code",
   "execution_count": 0,
   "metadata": {
    "colab": {
     "base_uri": "https://localhost:8080/",
     "height": 34
    },
    "colab_type": "code",
    "executionInfo": {
     "elapsed": 277,
     "status": "ok",
     "timestamp": 1583655731652,
     "user": {
      "displayName": "Roger Chow",
      "photoUrl": "",
      "userId": "03060450649812936924"
     },
     "user_tz": 240
    },
    "id": "AljQtlfJPJOP",
    "outputId": "0ab66c47-5951-4bc6-ccff-b7316e792b79"
   },
   "outputs": [
    {
     "data": {
      "text/plain": [
       "27000"
      ]
     },
     "execution_count": 9,
     "metadata": {
      "tags": []
     },
     "output_type": "execute_result"
    }
   ],
   "source": [
    "len(y)"
   ]
  },
  {
   "cell_type": "code",
   "execution_count": 0,
   "metadata": {
    "colab": {},
    "colab_type": "code",
    "id": "bpl1echdPMBy"
   },
   "outputs": [],
   "source": [
    "unique_elements, counts_elements = np.unique(y, return_counts=True)"
   ]
  },
  {
   "cell_type": "code",
   "execution_count": 0,
   "metadata": {
    "colab": {
     "base_uri": "https://localhost:8080/",
     "height": 34
    },
    "colab_type": "code",
    "executionInfo": {
     "elapsed": 316,
     "status": "ok",
     "timestamp": 1583655863454,
     "user": {
      "displayName": "Roger Chow",
      "photoUrl": "",
      "userId": "03060450649812936924"
     },
     "user_tz": 240
    },
    "id": "T8aTkpTHPliC",
    "outputId": "1b3587e2-c569-434b-89c8-90dea4c73ddf"
   },
   "outputs": [
    {
     "name": "stdout",
     "output_type": "stream",
     "text": [
      "[('AnnualCrop', 3000), ('Forest', 3000), ('HerbaceousVegetation', 3000), ('Highway', 2500), ('Industrial', 2500), ('Pasture', 2000), ('PermanentCrop', 2500), ('Residential', 3000), ('River', 2500), ('SeaLake', 3000)]\n"
     ]
    }
   ],
   "source": [
    "print (list(zip(unique_elements, counts_elements)))"
   ]
  },
  {
   "cell_type": "code",
   "execution_count": 0,
   "metadata": {
    "colab": {},
    "colab_type": "code",
    "id": "O3GpWTqbPsMt"
   },
   "outputs": [],
   "source": []
  }
 ],
 "metadata": {
  "accelerator": "GPU",
  "colab": {
   "authorship_tag": "ABX9TyMbhRcfWHkW/xOi5wRjzzRs",
   "collapsed_sections": [],
   "name": "LandUse_JPGToBin.ipynb",
   "provenance": []
  },
  "kernelspec": {
   "display_name": "Python 3",
   "language": "python",
   "name": "python3"
  },
  "language_info": {
   "codemirror_mode": {
    "name": "ipython",
    "version": 3
   },
   "file_extension": ".py",
   "mimetype": "text/x-python",
   "name": "python",
   "nbconvert_exporter": "python",
   "pygments_lexer": "ipython3",
   "version": "3.6.12"
  }
 },
 "nbformat": 4,
 "nbformat_minor": 1
}
