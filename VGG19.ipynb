{
 "cells": [
  {
   "cell_type": "code",
   "execution_count": 0,
   "metadata": {
    "colab": {
     "base_uri": "https://localhost:8080/",
     "height": 35
    },
    "colab_type": "code",
    "executionInfo": {
     "elapsed": 2606,
     "status": "ok",
     "timestamp": 1587683509065,
     "user": {
      "displayName": "Mohsena Chowdhury",
      "photoUrl": "",
      "userId": "05410988732792814331"
     },
     "user_tz": 240
    },
    "id": "lFfNvsVvOb5d",
    "outputId": "90c1d904-acb0-4a31-f098-c43477ebe6af"
   },
   "outputs": [
    {
     "name": "stderr",
     "output_type": "stream",
     "text": [
      "Using TensorFlow backend.\n"
     ]
    }
   ],
   "source": [
    "import os\n",
    "from google.colab import drive\n",
    "import numpy as np\n",
    "import matplotlib.pyplot as plt\n",
    "import time\n",
    "\n",
    "from sklearn import preprocessing\n",
    "from sklearn.model_selection import train_test_split\n",
    "from keras.utils import to_categorical\n",
    "import keras\n",
    "from tensorflow.keras.models import Sequential\n",
    "from tensorflow.keras import models, layers, optimizers, utils"
   ]
  },
  {
   "cell_type": "code",
   "execution_count": 0,
   "metadata": {
    "colab": {
     "base_uri": "https://localhost:8080/",
     "height": 129
    },
    "colab_type": "code",
    "executionInfo": {
     "elapsed": 48735,
     "status": "ok",
     "timestamp": 1587683559260,
     "user": {
      "displayName": "Mohsena Chowdhury",
      "photoUrl": "",
      "userId": "05410988732792814331"
     },
     "user_tz": 240
    },
    "id": "En-zrbznOffl",
    "outputId": "44921daf-d0ad-437e-bcac-b8fd30963df6"
   },
   "outputs": [
    {
     "name": "stdout",
     "output_type": "stream",
     "text": [
      "Go to this URL in a browser: https://accounts.google.com/o/oauth2/auth?client_id=947318989803-6bn6qk8qdgf4n4g3pfee6491hc0brc4i.apps.googleusercontent.com&redirect_uri=urn%3aietf%3awg%3aoauth%3a2.0%3aoob&response_type=code&scope=email%20https%3a%2f%2fwww.googleapis.com%2fauth%2fdocs.test%20https%3a%2f%2fwww.googleapis.com%2fauth%2fdrive%20https%3a%2f%2fwww.googleapis.com%2fauth%2fdrive.photos.readonly%20https%3a%2f%2fwww.googleapis.com%2fauth%2fpeopleapi.readonly\n",
      "\n",
      "Enter your authorization code:\n",
      "··········\n",
      "Mounted at /content/drive\n"
     ]
    }
   ],
   "source": [
    "drive.mount('/content/drive')"
   ]
  },
  {
   "cell_type": "code",
   "execution_count": 0,
   "metadata": {
    "colab": {},
    "colab_type": "code",
    "id": "-XNA2sEDOpnr"
   },
   "outputs": [],
   "source": [
    "binary_flder = '/content/drive/Shared drives/DS8013/Data/Binary/'"
   ]
  },
  {
   "cell_type": "code",
   "execution_count": 0,
   "metadata": {
    "colab": {},
    "colab_type": "code",
    "id": "tYe-dmxBOpxN"
   },
   "outputs": [],
   "source": [
    "X = np.load(binary_flder + 'X.npy')\n",
    "y = np.load(binary_flder + 'y.npy')\n",
    "y_onehot = np.load(binary_flder + 'y_onehot.npy')"
   ]
  },
  {
   "cell_type": "code",
   "execution_count": 0,
   "metadata": {
    "colab": {
     "base_uri": "https://localhost:8080/",
     "height": 35
    },
    "colab_type": "code",
    "executionInfo": {
     "elapsed": 1106,
     "status": "ok",
     "timestamp": 1587683572588,
     "user": {
      "displayName": "Mohsena Chowdhury",
      "photoUrl": "",
      "userId": "05410988732792814331"
     },
     "user_tz": 240
    },
    "id": "IOy1z0NTO2pD",
    "outputId": "4789aead-8bee-4c95-f772-009fc2af3344"
   },
   "outputs": [
    {
     "data": {
      "text/plain": [
       "(27000, 64, 64, 3)"
      ]
     },
     "execution_count": 6,
     "metadata": {
      "tags": []
     },
     "output_type": "execute_result"
    }
   ],
   "source": [
    "X.shape"
   ]
  },
  {
   "cell_type": "code",
   "execution_count": 0,
   "metadata": {
    "colab": {
     "base_uri": "https://localhost:8080/",
     "height": 35
    },
    "colab_type": "code",
    "executionInfo": {
     "elapsed": 1025,
     "status": "ok",
     "timestamp": 1587683574522,
     "user": {
      "displayName": "Mohsena Chowdhury",
      "photoUrl": "",
      "userId": "05410988732792814331"
     },
     "user_tz": 240
    },
    "id": "-RXvRrwGO2yL",
    "outputId": "361931b7-4054-4947-cba0-e6a44998189e"
   },
   "outputs": [
    {
     "data": {
      "text/plain": [
       "(27000,)"
      ]
     },
     "execution_count": 7,
     "metadata": {
      "tags": []
     },
     "output_type": "execute_result"
    }
   ],
   "source": [
    "y.shape"
   ]
  },
  {
   "cell_type": "code",
   "execution_count": 0,
   "metadata": {
    "colab": {
     "base_uri": "https://localhost:8080/",
     "height": 35
    },
    "colab_type": "code",
    "executionInfo": {
     "elapsed": 1013,
     "status": "ok",
     "timestamp": 1587683577405,
     "user": {
      "displayName": "Mohsena Chowdhury",
      "photoUrl": "",
      "userId": "05410988732792814331"
     },
     "user_tz": 240
    },
    "id": "4MLsUnFMO_Xa",
    "outputId": "ddf4bd13-e926-4d8c-ada8-61ae534f837f"
   },
   "outputs": [
    {
     "data": {
      "text/plain": [
       "(27000, 10)"
      ]
     },
     "execution_count": 8,
     "metadata": {
      "tags": []
     },
     "output_type": "execute_result"
    }
   ],
   "source": [
    "y_onehot.shape"
   ]
  },
  {
   "cell_type": "code",
   "execution_count": 0,
   "metadata": {
    "colab": {},
    "colab_type": "code",
    "id": "6Vk_yDdQPCBA"
   },
   "outputs": [],
   "source": [
    "# split data set into test and training using 80/20 split\n",
    "X_train, X_test, y_train, y_test = train_test_split(X,y_onehot,test_size = 0.2, random_state = 197)"
   ]
  },
  {
   "cell_type": "code",
   "execution_count": 0,
   "metadata": {
    "colab": {
     "base_uri": "https://localhost:8080/",
     "height": 90
    },
    "colab_type": "code",
    "executionInfo": {
     "elapsed": 1170,
     "status": "ok",
     "timestamp": 1587683581854,
     "user": {
      "displayName": "Mohsena Chowdhury",
      "photoUrl": "",
      "userId": "05410988732792814331"
     },
     "user_tz": 240
    },
    "id": "ncsrD5zOPCFT",
    "outputId": "d45fd0ef-0b70-4205-df73-ba8d3039b022"
   },
   "outputs": [
    {
     "name": "stdout",
     "output_type": "stream",
     "text": [
      "X_train: (21600, 64, 64, 3)\n",
      "X_test: (5400, 64, 64, 3)\n",
      "y_train: (21600, 10)\n",
      "y_test: (5400, 10)\n"
     ]
    }
   ],
   "source": [
    "print('X_train:',X_train.shape)\n",
    "print('X_test:',X_test.shape)\n",
    "print('y_train:',y_train.shape)\n",
    "print('y_test:',y_test.shape)"
   ]
  },
  {
   "cell_type": "code",
   "execution_count": 0,
   "metadata": {
    "colab": {},
    "colab_type": "code",
    "id": "IGUs_wFCTJkB"
   },
   "outputs": [],
   "source": [
    "# reshape to be [samples][width][height][channels]\n",
    "x_train = X_train.reshape((X_train.shape[0], 64, 64, 3)).astype('float32')\n",
    "x_test = X_test.reshape((X_test.shape[0], 64, 64, 3)).astype('float32')\n",
    "\n",
    "# normalize inputs from 0-255 to 0-1\n",
    "x_train = x_train / 255\n",
    "x_test = x_test / 255"
   ]
  },
  {
   "cell_type": "code",
   "execution_count": 0,
   "metadata": {
    "colab": {
     "base_uri": "https://localhost:8080/",
     "height": 35
    },
    "colab_type": "code",
    "executionInfo": {
     "elapsed": 1079,
     "status": "ok",
     "timestamp": 1587683589724,
     "user": {
      "displayName": "Mohsena Chowdhury",
      "photoUrl": "",
      "userId": "05410988732792814331"
     },
     "user_tz": 240
    },
    "id": "U7eS-NgxPOoA",
    "outputId": "98df2efe-434e-428a-cf8d-19fbc82be0c5"
   },
   "outputs": [
    {
     "data": {
      "text/plain": [
       "(64, 64, 3)"
      ]
     },
     "execution_count": 12,
     "metadata": {
      "tags": []
     },
     "output_type": "execute_result"
    }
   ],
   "source": [
    "image_shape = x_train.shape[1:]\n",
    "image_shape"
   ]
  },
  {
   "cell_type": "code",
   "execution_count": 0,
   "metadata": {
    "colab": {},
    "colab_type": "code",
    "id": "9aIRGVbGNvr5"
   },
   "outputs": [],
   "source": [
    "#import libraries\n",
    "import keras\n",
    "import numpy as np\n",
    "from keras.models import Sequential,Model\n",
    "from keras.layers import Conv2D,MaxPooling2D\n",
    "from keras.layers import Activation, Dense, Flatten, Dropout\n",
    "from keras.preprocessing.image import ImageDataGenerator\n",
    "from keras.callbacks import ModelCheckpoint\n",
    "from keras import backend as K\n",
    "from keras.optimizers import SGD\n",
    "from keras.optimizers import Adam,RMSprop"
   ]
  },
  {
   "cell_type": "code",
   "execution_count": 0,
   "metadata": {
    "colab": {
     "base_uri": "https://localhost:8080/",
     "height": 54
    },
    "colab_type": "code",
    "executionInfo": {
     "elapsed": 12826,
     "status": "ok",
     "timestamp": 1587683609176,
     "user": {
      "displayName": "Mohsena Chowdhury",
      "photoUrl": "",
      "userId": "05410988732792814331"
     },
     "user_tz": 240
    },
    "id": "mZUSU-3aPmx2",
    "outputId": "a1910704-f18d-44a0-ea4e-91bd32d84f85"
   },
   "outputs": [
    {
     "name": "stdout",
     "output_type": "stream",
     "text": [
      "Downloading data from https://github.com/fchollet/deep-learning-models/releases/download/v0.1/vgg19_weights_tf_dim_ordering_tf_kernels_notop.h5\n",
      "80142336/80134624 [==============================] - 3s 0us/step\n"
     ]
    }
   ],
   "source": [
    "from keras.applications.vgg19 import VGG19\n",
    "base_model =VGG19(weights = \"imagenet\", include_top=False, input_shape = image_shape)"
   ]
  },
  {
   "cell_type": "code",
   "execution_count": 0,
   "metadata": {
    "colab": {},
    "colab_type": "code",
    "id": "6VM1CZqSPnFi"
   },
   "outputs": [],
   "source": [
    "base_model.summary()"
   ]
  },
  {
   "cell_type": "code",
   "execution_count": 0,
   "metadata": {
    "colab": {},
    "colab_type": "code",
    "id": "sco_QYn4QjaC"
   },
   "outputs": [],
   "source": [
    "for layer in base_model.layers:\n",
    "    layer.trainable = False"
   ]
  },
  {
   "cell_type": "code",
   "execution_count": 0,
   "metadata": {
    "colab": {},
    "colab_type": "code",
    "id": "q0PaycMYQjyd"
   },
   "outputs": [],
   "source": [
    "CLASSES = 10\n",
    "#Adding custom Layers \n",
    "x = base_model.output\n",
    "#x=Conv2D(filters = 64,kernel_size = 5,activation='relu',padding='same')(x)\n",
    "x = Flatten()(x)\n",
    "x = Dense(512, activation=\"relu\")(x)\n",
    "x = Dense(256, activation=\"relu\")(x)\n",
    "predictions = Dense(CLASSES, activation=\"softmax\")(x)\n",
    "\n",
    "model = Model(inputs=base_model.input, outputs=predictions)\n"
   ]
  },
  {
   "cell_type": "code",
   "execution_count": 0,
   "metadata": {
    "colab": {
     "base_uri": "https://localhost:8080/",
     "height": 1000
    },
    "colab_type": "code",
    "executionInfo": {
     "elapsed": 1196,
     "status": "ok",
     "timestamp": 1587683634021,
     "user": {
      "displayName": "Mohsena Chowdhury",
      "photoUrl": "",
      "userId": "05410988732792814331"
     },
     "user_tz": 240
    },
    "id": "Jjm490fxSGHx",
    "outputId": "06ac1e84-2fcf-4f8e-87bb-6181cdf9b6ab"
   },
   "outputs": [
    {
     "name": "stdout",
     "output_type": "stream",
     "text": [
      "Model: \"model_1\"\n",
      "_________________________________________________________________\n",
      "Layer (type)                 Output Shape              Param #   \n",
      "=================================================================\n",
      "input_1 (InputLayer)         (None, 64, 64, 3)         0         \n",
      "_________________________________________________________________\n",
      "block1_conv1 (Conv2D)        (None, 64, 64, 64)        1792      \n",
      "_________________________________________________________________\n",
      "block1_conv2 (Conv2D)        (None, 64, 64, 64)        36928     \n",
      "_________________________________________________________________\n",
      "block1_pool (MaxPooling2D)   (None, 32, 32, 64)        0         \n",
      "_________________________________________________________________\n",
      "block2_conv1 (Conv2D)        (None, 32, 32, 128)       73856     \n",
      "_________________________________________________________________\n",
      "block2_conv2 (Conv2D)        (None, 32, 32, 128)       147584    \n",
      "_________________________________________________________________\n",
      "block2_pool (MaxPooling2D)   (None, 16, 16, 128)       0         \n",
      "_________________________________________________________________\n",
      "block3_conv1 (Conv2D)        (None, 16, 16, 256)       295168    \n",
      "_________________________________________________________________\n",
      "block3_conv2 (Conv2D)        (None, 16, 16, 256)       590080    \n",
      "_________________________________________________________________\n",
      "block3_conv3 (Conv2D)        (None, 16, 16, 256)       590080    \n",
      "_________________________________________________________________\n",
      "block3_conv4 (Conv2D)        (None, 16, 16, 256)       590080    \n",
      "_________________________________________________________________\n",
      "block3_pool (MaxPooling2D)   (None, 8, 8, 256)         0         \n",
      "_________________________________________________________________\n",
      "block4_conv1 (Conv2D)        (None, 8, 8, 512)         1180160   \n",
      "_________________________________________________________________\n",
      "block4_conv2 (Conv2D)        (None, 8, 8, 512)         2359808   \n",
      "_________________________________________________________________\n",
      "block4_conv3 (Conv2D)        (None, 8, 8, 512)         2359808   \n",
      "_________________________________________________________________\n",
      "block4_conv4 (Conv2D)        (None, 8, 8, 512)         2359808   \n",
      "_________________________________________________________________\n",
      "block4_pool (MaxPooling2D)   (None, 4, 4, 512)         0         \n",
      "_________________________________________________________________\n",
      "block5_conv1 (Conv2D)        (None, 4, 4, 512)         2359808   \n",
      "_________________________________________________________________\n",
      "block5_conv2 (Conv2D)        (None, 4, 4, 512)         2359808   \n",
      "_________________________________________________________________\n",
      "block5_conv3 (Conv2D)        (None, 4, 4, 512)         2359808   \n",
      "_________________________________________________________________\n",
      "block5_conv4 (Conv2D)        (None, 4, 4, 512)         2359808   \n",
      "_________________________________________________________________\n",
      "block5_pool (MaxPooling2D)   (None, 2, 2, 512)         0         \n",
      "_________________________________________________________________\n",
      "flatten_1 (Flatten)          (None, 2048)              0         \n",
      "_________________________________________________________________\n",
      "dense_1 (Dense)              (None, 512)               1049088   \n",
      "_________________________________________________________________\n",
      "dense_2 (Dense)              (None, 256)               131328    \n",
      "_________________________________________________________________\n",
      "dense_3 (Dense)              (None, 10)                2570      \n",
      "=================================================================\n",
      "Total params: 21,207,370\n",
      "Trainable params: 1,182,986\n",
      "Non-trainable params: 20,024,384\n",
      "_________________________________________________________________\n"
     ]
    }
   ],
   "source": [
    "model.summary()"
   ]
  },
  {
   "cell_type": "code",
   "execution_count": 0,
   "metadata": {
    "colab": {},
    "colab_type": "code",
    "id": "bpPQnYBkSP2a"
   },
   "outputs": [],
   "source": [
    "# Compile model\n",
    "# opt = RMSprop(lr=0.0001)\n",
    "opt1 = SGD(lr=0.1, momentum=0.9)\n",
    "opt2 = SGD(lr=0.01, momentum=0.9)\n",
    "opt3 = SGD(lr=0.001, momentum=0.9)\n",
    "model.compile(optimizer=opt2, loss='categorical_crossentropy', metrics=['accuracy'])"
   ]
  },
  {
   "cell_type": "code",
   "execution_count": 0,
   "metadata": {
    "colab": {
     "base_uri": "https://localhost:8080/",
     "height": 403
    },
    "colab_type": "code",
    "executionInfo": {
     "elapsed": 182043,
     "status": "ok",
     "timestamp": 1587683826665,
     "user": {
      "displayName": "Mohsena Chowdhury",
      "photoUrl": "",
      "userId": "05410988732792814331"
     },
     "user_tz": 240
    },
    "id": "UQwzTB3KScH8",
    "outputId": "370f6cb6-ff1b-458e-c50c-1f6e4f32e3d0"
   },
   "outputs": [
    {
     "name": "stdout",
     "output_type": "stream",
     "text": [
      "Train on 21600 samples, validate on 5400 samples\n",
      "Epoch 1/10\n",
      " - 25s - loss: 1.0175 - accuracy: 0.6311 - val_loss: 0.9709 - val_accuracy: 0.6513\n",
      "Epoch 2/10\n",
      " - 17s - loss: 0.7872 - accuracy: 0.7200 - val_loss: 0.6481 - val_accuracy: 0.7674\n",
      "Epoch 3/10\n",
      " - 17s - loss: 0.7237 - accuracy: 0.7408 - val_loss: 0.7488 - val_accuracy: 0.7315\n",
      "Epoch 4/10\n",
      " - 18s - loss: 0.6660 - accuracy: 0.7634 - val_loss: 0.6771 - val_accuracy: 0.7619\n",
      "Epoch 5/10\n",
      " - 17s - loss: 0.6477 - accuracy: 0.7732 - val_loss: 0.6671 - val_accuracy: 0.7676\n",
      "Epoch 6/10\n",
      " - 17s - loss: 0.5943 - accuracy: 0.7934 - val_loss: 0.6431 - val_accuracy: 0.7733\n",
      "Epoch 7/10\n",
      " - 17s - loss: 0.5805 - accuracy: 0.7983 - val_loss: 0.6123 - val_accuracy: 0.7852\n",
      "Epoch 8/10\n",
      " - 17s - loss: 0.5747 - accuracy: 0.7971 - val_loss: 0.5552 - val_accuracy: 0.7993\n",
      "Epoch 9/10\n",
      " - 17s - loss: 0.5399 - accuracy: 0.8110 - val_loss: 0.5520 - val_accuracy: 0.8035\n",
      "Epoch 10/10\n",
      " - 17s - loss: 0.5380 - accuracy: 0.8123 - val_loss: 0.5558 - val_accuracy: 0.7974\n"
     ]
    }
   ],
   "source": [
    "hist = model.fit(x_train, y_train, validation_data=(x_test, y_test), \n",
    "                                     epochs=10, batch_size=32, verbose=2)"
   ]
  },
  {
   "cell_type": "code",
   "execution_count": 0,
   "metadata": {
    "colab": {
     "base_uri": "https://localhost:8080/",
     "height": 72
    },
    "colab_type": "code",
    "executionInfo": {
     "elapsed": 4312,
     "status": "ok",
     "timestamp": 1587684006467,
     "user": {
      "displayName": "Mohsena Chowdhury",
      "photoUrl": "",
      "userId": "05410988732792814331"
     },
     "user_tz": 240
    },
    "id": "fzEnuv__ScSk",
    "outputId": "083abd05-6098-4517-d3e1-ed325c069c56"
   },
   "outputs": [
    {
     "name": "stdout",
     "output_type": "stream",
     "text": [
      "5400/5400 [==============================] - 3s 645us/step\n",
      "Loss:  0.5557928835021125 \n",
      "Accuracy:  79.74073886871338\n"
     ]
    }
   ],
   "source": [
    "# Evaluation of the model\n",
    "scores = model.evaluate(x_test, y_test, verbose=1)\n",
    "print('Loss: ', scores[0],'\\nAccuracy: ', scores[1]*100)"
   ]
  },
  {
   "cell_type": "code",
   "execution_count": 0,
   "metadata": {
    "colab": {
     "base_uri": "https://localhost:8080/",
     "height": 295
    },
    "colab_type": "code",
    "executionInfo": {
     "elapsed": 1121,
     "status": "ok",
     "timestamp": 1587684075786,
     "user": {
      "displayName": "Mohsena Chowdhury",
      "photoUrl": "",
      "userId": "05410988732792814331"
     },
     "user_tz": 240
    },
    "id": "N3OsDLkhV5aI",
    "outputId": "30fff0f0-b42b-4399-b952-b372d4b03c4a"
   },
   "outputs": [
    {
     "data": {
      "image/png": "[encoded data removed]",
      "text/plain": [
       "<Figure size 432x288 with 1 Axes>"
      ]
     },
     "metadata": {
      "needs_background": "light",
      "tags": []
     },
     "output_type": "display_data"
    }
   ],
   "source": [
    "# Plot training & validation loss values\n",
    "import matplotlib.pyplot as plt\n",
    "\n",
    "plt.plot(hist.history['accuracy'],marker = 'o')\n",
    "plt.plot(hist.history['val_accuracy'], marker = 'o')\n",
    "plt.title('Model Accuracy per Epoch')\n",
    "plt.ylabel('Accuracy')\n",
    "plt.xlabel('Epoch')\n",
    "plt.legend(['Train', 'Test'], loc='best')\n",
    "plt.show()"
   ]
  }
 ],
 "metadata": {
  "accelerator": "GPU",
  "colab": {
   "collapsed_sections": [],
   "name": "VGG19.ipynb",
   "provenance": []
  },
  "kernelspec": {
   "display_name": "Python 3",
   "language": "python",
   "name": "python3"
  },
  "language_info": {
   "codemirror_mode": {
    "name": "ipython",
    "version": 3
   },
   "file_extension": ".py",
   "mimetype": "text/x-python",
   "name": "python",
   "nbconvert_exporter": "python",
   "pygments_lexer": "ipython3",
   "version": "3.6.12"
  }
 },
 "nbformat": 4,
 "nbformat_minor": 1
}
